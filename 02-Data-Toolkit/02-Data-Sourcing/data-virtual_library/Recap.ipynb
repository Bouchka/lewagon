{
 "cells": [
  {
   "cell_type": "markdown",
   "metadata": {},
   "source": [
    "# CSV + API\n",
    "\n",
    "In this reboot, we are going to use:\n",
    "\n",
    "- The [Goodreads books](https://www.kaggle.com/jealousleopard/goodreadsbooks) dataset from Kaggle.\n",
    "- The [Open Library Books API](https://openlibrary.org/dev/docs/api/books)\n",
    "\n",
    "The goal of this livecode is to load the data from a CSV + loop over rows to enrich each row with information such as:\n",
    "\n",
    "- List of subjects (Science, Humor, Travel, etc.)\n",
    "- The cover URL of the book\n",
    "- Other information you'd find useful in the JSON API"
   ]
  },
  {
   "cell_type": "markdown",
   "metadata": {},
   "source": [
    "First, download the CSV in the local folder:"
   ]
  },
  {
   "cell_type": "code",
   "execution_count": 1,
   "metadata": {
    "execution": {
     "iopub.execute_input": "2025-07-09T20:20:29.684371Z",
     "iopub.status.busy": "2025-07-09T20:20:29.683345Z",
     "iopub.status.idle": "2025-07-09T20:20:30.269370Z",
     "shell.execute_reply": "2025-07-09T20:20:30.267314Z",
     "shell.execute_reply.started": "2025-07-09T20:20:29.684284Z"
    }
   },
   "outputs": [
    {
     "name": "stdout",
     "output_type": "stream",
     "text": [
      "  % Total    % Received % Xferd  Average Speed   Time    Time     Time  Current\n",
      "                                 Dload  Upload   Total   Spent    Left  Speed\n",
      "100 1509k  100 1509k    0     0  3900k      0 --:--:-- --:--:-- --:--:-- 3899k\n"
     ]
    }
   ],
   "source": [
    "!curl -L https://gist.githubusercontent.com/ssaunier/351b17f5a7a009808b60aeacd1f4a036/raw/books.csv > books.csv"
   ]
  },
  {
   "cell_type": "code",
   "execution_count": 2,
   "metadata": {
    "execution": {
     "iopub.execute_input": "2025-07-09T20:20:31.395116Z",
     "iopub.status.busy": "2025-07-09T20:20:31.394330Z",
     "iopub.status.idle": "2025-07-09T20:20:31.555232Z",
     "shell.execute_reply": "2025-07-09T20:20:31.552804Z",
     "shell.execute_reply.started": "2025-07-09T20:20:31.395048Z"
    }
   },
   "outputs": [
    {
     "name": "stdout",
     "output_type": "stream",
     "text": [
      "total 4256\n",
      "-rw-r--r--@ 1 bouchrakostet  staff   579B Jul  9 22:08 README.md\n",
      "-rw-r--r--@ 1 bouchrakostet  staff   9.2K Jul  9 22:20 Recap.ipynb\n",
      "-rw-r--r--@ 1 bouchrakostet  staff   1.5M Jul  9 22:20 books.csv\n"
     ]
    }
   ],
   "source": [
    "!ls -lh"
   ]
  },
  {
   "cell_type": "markdown",
   "metadata": {},
   "source": [
    "Then import the usual suspects!"
   ]
  },
  {
   "cell_type": "code",
   "execution_count": 3,
   "metadata": {
    "execution": {
     "iopub.execute_input": "2025-07-09T20:20:34.732497Z",
     "iopub.status.busy": "2025-07-09T20:20:34.730489Z",
     "iopub.status.idle": "2025-07-09T20:20:35.517611Z",
     "shell.execute_reply": "2025-07-09T20:20:35.516076Z",
     "shell.execute_reply.started": "2025-07-09T20:20:34.732283Z"
    }
   },
   "outputs": [],
   "source": [
    "import requests\n",
    "import pandas as pd\n",
    "import numpy as np"
   ]
  },
  {
   "cell_type": "markdown",
   "metadata": {},
   "source": [
    "## Load books from CSV"
   ]
  },
  {
   "cell_type": "code",
   "execution_count": 4,
   "metadata": {
    "execution": {
     "iopub.execute_input": "2025-07-09T20:20:42.299514Z",
     "iopub.status.busy": "2025-07-09T20:20:42.298533Z",
     "iopub.status.idle": "2025-07-09T20:20:42.383415Z",
     "shell.execute_reply": "2025-07-09T20:20:42.382406Z",
     "shell.execute_reply.started": "2025-07-09T20:20:42.299454Z"
    },
    "tags": [
     "challengify"
    ]
   },
   "outputs": [
    {
     "data": {
      "text/html": [
       "<div>\n",
       "<style scoped>\n",
       "    .dataframe tbody tr th:only-of-type {\n",
       "        vertical-align: middle;\n",
       "    }\n",
       "\n",
       "    .dataframe tbody tr th {\n",
       "        vertical-align: top;\n",
       "    }\n",
       "\n",
       "    .dataframe thead th {\n",
       "        text-align: right;\n",
       "    }\n",
       "</style>\n",
       "<table border=\"1\" class=\"dataframe\">\n",
       "  <thead>\n",
       "    <tr style=\"text-align: right;\">\n",
       "      <th></th>\n",
       "      <th>title</th>\n",
       "      <th>authors</th>\n",
       "      <th>isbn13</th>\n",
       "      <th># num_pages</th>\n",
       "    </tr>\n",
       "  </thead>\n",
       "  <tbody>\n",
       "    <tr>\n",
       "      <th>0</th>\n",
       "      <td>Harry Potter and the Half-Blood Prince (Harry ...</td>\n",
       "      <td>J.K. Rowling-Mary GrandPré</td>\n",
       "      <td>9780439785969</td>\n",
       "      <td>652</td>\n",
       "    </tr>\n",
       "    <tr>\n",
       "      <th>1</th>\n",
       "      <td>Harry Potter and the Order of the Phoenix (Har...</td>\n",
       "      <td>J.K. Rowling-Mary GrandPré</td>\n",
       "      <td>9780439358071</td>\n",
       "      <td>870</td>\n",
       "    </tr>\n",
       "    <tr>\n",
       "      <th>2</th>\n",
       "      <td>Harry Potter and the Sorcerer's Stone (Harry P...</td>\n",
       "      <td>J.K. Rowling-Mary GrandPré</td>\n",
       "      <td>9780439554930</td>\n",
       "      <td>320</td>\n",
       "    </tr>\n",
       "    <tr>\n",
       "      <th>3</th>\n",
       "      <td>Harry Potter and the Chamber of Secrets (Harry...</td>\n",
       "      <td>J.K. Rowling</td>\n",
       "      <td>9780439554893</td>\n",
       "      <td>352</td>\n",
       "    </tr>\n",
       "    <tr>\n",
       "      <th>4</th>\n",
       "      <td>Harry Potter and the Prisoner of Azkaban (Harr...</td>\n",
       "      <td>J.K. Rowling-Mary GrandPré</td>\n",
       "      <td>9780439655484</td>\n",
       "      <td>435</td>\n",
       "    </tr>\n",
       "    <tr>\n",
       "      <th>...</th>\n",
       "      <td>...</td>\n",
       "      <td>...</td>\n",
       "      <td>...</td>\n",
       "      <td>...</td>\n",
       "    </tr>\n",
       "    <tr>\n",
       "      <th>13714</th>\n",
       "      <td>M Is for Magic</td>\n",
       "      <td>Neil Gaiman-Teddy Kristiansen</td>\n",
       "      <td>9780061186424</td>\n",
       "      <td>260</td>\n",
       "    </tr>\n",
       "    <tr>\n",
       "      <th>13715</th>\n",
       "      <td>Black Orchid</td>\n",
       "      <td>Neil Gaiman-Dave McKean</td>\n",
       "      <td>9780930289553</td>\n",
       "      <td>160</td>\n",
       "    </tr>\n",
       "    <tr>\n",
       "      <th>13716</th>\n",
       "      <td>InterWorld (InterWorld  #1)</td>\n",
       "      <td>Neil Gaiman-Michael Reaves</td>\n",
       "      <td>9780061238963</td>\n",
       "      <td>239</td>\n",
       "    </tr>\n",
       "    <tr>\n",
       "      <th>13717</th>\n",
       "      <td>The Faeries' Oracle</td>\n",
       "      <td>Brian Froud-Jessica Macbeth</td>\n",
       "      <td>9780743201117</td>\n",
       "      <td>224</td>\n",
       "    </tr>\n",
       "    <tr>\n",
       "      <th>13718</th>\n",
       "      <td>The World of The Dark Crystal</td>\n",
       "      <td>Brian Froud</td>\n",
       "      <td>9781862056244</td>\n",
       "      <td>132</td>\n",
       "    </tr>\n",
       "  </tbody>\n",
       "</table>\n",
       "<p>13719 rows × 4 columns</p>\n",
       "</div>"
      ],
      "text/plain": [
       "                                                   title  \\\n",
       "0      Harry Potter and the Half-Blood Prince (Harry ...   \n",
       "1      Harry Potter and the Order of the Phoenix (Har...   \n",
       "2      Harry Potter and the Sorcerer's Stone (Harry P...   \n",
       "3      Harry Potter and the Chamber of Secrets (Harry...   \n",
       "4      Harry Potter and the Prisoner of Azkaban (Harr...   \n",
       "...                                                  ...   \n",
       "13714                                     M Is for Magic   \n",
       "13715                                       Black Orchid   \n",
       "13716                        InterWorld (InterWorld  #1)   \n",
       "13717                                The Faeries' Oracle   \n",
       "13718                      The World of The Dark Crystal   \n",
       "\n",
       "                             authors         isbn13  # num_pages  \n",
       "0         J.K. Rowling-Mary GrandPré  9780439785969          652  \n",
       "1         J.K. Rowling-Mary GrandPré  9780439358071          870  \n",
       "2         J.K. Rowling-Mary GrandPré  9780439554930          320  \n",
       "3                       J.K. Rowling  9780439554893          352  \n",
       "4         J.K. Rowling-Mary GrandPré  9780439655484          435  \n",
       "...                              ...            ...          ...  \n",
       "13714  Neil Gaiman-Teddy Kristiansen  9780061186424          260  \n",
       "13715        Neil Gaiman-Dave McKean  9780930289553          160  \n",
       "13716     Neil Gaiman-Michael Reaves  9780061238963          239  \n",
       "13717    Brian Froud-Jessica Macbeth  9780743201117          224  \n",
       "13718                    Brian Froud  9781862056244          132  \n",
       "\n",
       "[13719 rows x 4 columns]"
      ]
     },
     "execution_count": 4,
     "metadata": {},
     "output_type": "execute_result"
    }
   ],
   "source": [
    "books_df = pd.read_csv('books.csv', on_bad_lines='skip')\n",
    "books_df = books_df.drop(columns=['bookID', 'isbn', 'average_rating', 'language_code', 'ratings_count', 'text_reviews_count'])\n",
    "books_df"
   ]
  },
  {
   "cell_type": "code",
   "execution_count": 5,
   "metadata": {
    "execution": {
     "iopub.execute_input": "2025-07-09T20:20:43.277042Z",
     "iopub.status.busy": "2025-07-09T20:20:43.276170Z",
     "iopub.status.idle": "2025-07-09T20:20:43.288216Z",
     "shell.execute_reply": "2025-07-09T20:20:43.286701Z",
     "shell.execute_reply.started": "2025-07-09T20:20:43.276980Z"
    },
    "tags": [
     "delete"
    ]
   },
   "outputs": [
    {
     "data": {
      "text/plain": [
       "title          object\n",
       "authors        object\n",
       "isbn13          int64\n",
       "# num_pages     int64\n",
       "dtype: object"
      ]
     },
     "execution_count": 5,
     "metadata": {},
     "output_type": "execute_result"
    }
   ],
   "source": [
    "books_df.dtypes"
   ]
  },
  {
   "cell_type": "markdown",
   "metadata": {},
   "source": [
    "Let's add a new column"
   ]
  },
  {
   "cell_type": "code",
   "execution_count": 6,
   "metadata": {
    "execution": {
     "iopub.execute_input": "2025-07-09T20:20:47.892930Z",
     "iopub.status.busy": "2025-07-09T20:20:47.891770Z",
     "iopub.status.idle": "2025-07-09T20:20:47.910458Z",
     "shell.execute_reply": "2025-07-09T20:20:47.909473Z",
     "shell.execute_reply.started": "2025-07-09T20:20:47.892870Z"
    },
    "tags": [
     "challengify"
    ]
   },
   "outputs": [
    {
     "data": {
      "text/html": [
       "<div>\n",
       "<style scoped>\n",
       "    .dataframe tbody tr th:only-of-type {\n",
       "        vertical-align: middle;\n",
       "    }\n",
       "\n",
       "    .dataframe tbody tr th {\n",
       "        vertical-align: top;\n",
       "    }\n",
       "\n",
       "    .dataframe thead th {\n",
       "        text-align: right;\n",
       "    }\n",
       "</style>\n",
       "<table border=\"1\" class=\"dataframe\">\n",
       "  <thead>\n",
       "    <tr style=\"text-align: right;\">\n",
       "      <th></th>\n",
       "      <th>title</th>\n",
       "      <th>authors</th>\n",
       "      <th>isbn13</th>\n",
       "      <th># num_pages</th>\n",
       "      <th>cover_url</th>\n",
       "    </tr>\n",
       "  </thead>\n",
       "  <tbody>\n",
       "    <tr>\n",
       "      <th>0</th>\n",
       "      <td>Harry Potter and the Half-Blood Prince (Harry ...</td>\n",
       "      <td>J.K. Rowling-Mary GrandPré</td>\n",
       "      <td>9780439785969</td>\n",
       "      <td>652</td>\n",
       "      <td>None</td>\n",
       "    </tr>\n",
       "    <tr>\n",
       "      <th>1</th>\n",
       "      <td>Harry Potter and the Order of the Phoenix (Har...</td>\n",
       "      <td>J.K. Rowling-Mary GrandPré</td>\n",
       "      <td>9780439358071</td>\n",
       "      <td>870</td>\n",
       "      <td>None</td>\n",
       "    </tr>\n",
       "    <tr>\n",
       "      <th>2</th>\n",
       "      <td>Harry Potter and the Sorcerer's Stone (Harry P...</td>\n",
       "      <td>J.K. Rowling-Mary GrandPré</td>\n",
       "      <td>9780439554930</td>\n",
       "      <td>320</td>\n",
       "      <td>None</td>\n",
       "    </tr>\n",
       "    <tr>\n",
       "      <th>3</th>\n",
       "      <td>Harry Potter and the Chamber of Secrets (Harry...</td>\n",
       "      <td>J.K. Rowling</td>\n",
       "      <td>9780439554893</td>\n",
       "      <td>352</td>\n",
       "      <td>None</td>\n",
       "    </tr>\n",
       "    <tr>\n",
       "      <th>4</th>\n",
       "      <td>Harry Potter and the Prisoner of Azkaban (Harr...</td>\n",
       "      <td>J.K. Rowling-Mary GrandPré</td>\n",
       "      <td>9780439655484</td>\n",
       "      <td>435</td>\n",
       "      <td>None</td>\n",
       "    </tr>\n",
       "  </tbody>\n",
       "</table>\n",
       "</div>"
      ],
      "text/plain": [
       "                                               title  \\\n",
       "0  Harry Potter and the Half-Blood Prince (Harry ...   \n",
       "1  Harry Potter and the Order of the Phoenix (Har...   \n",
       "2  Harry Potter and the Sorcerer's Stone (Harry P...   \n",
       "3  Harry Potter and the Chamber of Secrets (Harry...   \n",
       "4  Harry Potter and the Prisoner of Azkaban (Harr...   \n",
       "\n",
       "                      authors         isbn13  # num_pages cover_url  \n",
       "0  J.K. Rowling-Mary GrandPré  9780439785969          652      None  \n",
       "1  J.K. Rowling-Mary GrandPré  9780439358071          870      None  \n",
       "2  J.K. Rowling-Mary GrandPré  9780439554930          320      None  \n",
       "3                J.K. Rowling  9780439554893          352      None  \n",
       "4  J.K. Rowling-Mary GrandPré  9780439655484          435      None  "
      ]
     },
     "execution_count": 6,
     "metadata": {},
     "output_type": "execute_result"
    }
   ],
   "source": [
    "books_df['cover_url'] = None\n",
    "books_df.head()"
   ]
  },
  {
   "cell_type": "markdown",
   "metadata": {},
   "source": [
    "## API - Open Library"
   ]
  },
  {
   "cell_type": "code",
   "execution_count": 7,
   "metadata": {
    "execution": {
     "iopub.execute_input": "2025-07-09T20:20:52.871327Z",
     "iopub.status.busy": "2025-07-09T20:20:52.870374Z",
     "iopub.status.idle": "2025-07-09T20:20:52.882106Z",
     "shell.execute_reply": "2025-07-09T20:20:52.879968Z",
     "shell.execute_reply.started": "2025-07-09T20:20:52.871264Z"
    },
    "tags": [
     "challengify"
    ]
   },
   "outputs": [],
   "source": [
    "def fetch_books(isbns):\n",
    "    # Define the base URL for the OpenLibrary Books API\n",
    "    url = \"https://openlibrary.org/api/books\"\n",
    "\n",
    "    # Create a comma-separated string like \"ISBN:12345,ISBN:67890\" from the list of ISBNs\n",
    "    bibkeys = \",\".join([f\"ISBN:{isbn}\" for isbn in isbns])\n",
    "    \n",
    "    # Define the query parameters for the API request:\n",
    "    # - bibkeys: the books we want info on\n",
    "    # - format: return data in JSON\n",
    "    # - jscmd: 'data' returns a detailed version (titles, authors, etc.)\n",
    "    params = {\n",
    "        'bibkeys': bibkeys,\n",
    "        'format': 'json',\n",
    "        'jscmd': 'data'\n",
    "    }\n",
    "    \n",
    "    # Send a GET request to the API with the parameters and parse the JSON response\n",
    "    response = requests.get(url, params=params).json()\n",
    "    \n",
    "    # Return the resulting dictionary containing book data\n",
    "    return response\n"
   ]
  },
  {
   "cell_type": "code",
   "execution_count": 8,
   "metadata": {
    "execution": {
     "iopub.execute_input": "2025-07-09T20:21:00.241947Z",
     "iopub.status.busy": "2025-07-09T20:21:00.241145Z",
     "iopub.status.idle": "2025-07-09T20:21:00.252662Z",
     "shell.execute_reply": "2025-07-09T20:21:00.250450Z",
     "shell.execute_reply.started": "2025-07-09T20:21:00.241880Z"
    },
    "tags": [
     "delete"
    ]
   },
   "outputs": [
    {
     "name": "stderr",
     "output_type": "stream",
     "text": [
      "UsageError: Can't use statement directly after '%%time'!\n"
     ]
    }
   ],
   "source": [
    "%%time  # Measure how long this block of code takes to run\n",
    "\n",
    "# Loop through the first 15 rows of the books_df DataFrame\n",
    "for index, row in books_df.head(15).iterrows():\n",
    "    \n",
    "    # If there's no cover URL for the book, we try to fetch it\n",
    "    if row['cover_url'] is None:\n",
    "        isbn = row['isbn13']  # Get the ISBN-13 for the current book\n",
    "        print(f\"Fetching cover for {row['title']}\")  # Log which book we're processing\n",
    "        \n",
    "        book = fetch_book(isbn)  # Call the API to fetch book details using its ISBN\n",
    "        \n",
    "        # If the API returned data, extract the large cover URL if available\n",
    "        if book:\n",
    "            cover_url = book.get('cover', {}).get('large', '')  # Use .get() to avoid KeyErrors\n",
    "            books_df.loc[index, 'cover_url'] = cover_url  # Update the DataFrame with the cover URL\n",
    "        else:\n",
    "            books_df.loc[index, 'cover_url'] = ''  # If no data, set the cover URL as empty string\n"
   ]
  },
  {
   "cell_type": "code",
   "execution_count": 9,
   "metadata": {
    "execution": {
     "iopub.execute_input": "2025-07-09T20:22:24.986378Z",
     "iopub.status.busy": "2025-07-09T20:22:24.985722Z",
     "iopub.status.idle": "2025-07-09T20:22:24.999921Z",
     "shell.execute_reply": "2025-07-09T20:22:24.999072Z",
     "shell.execute_reply.started": "2025-07-09T20:22:24.986263Z"
    },
    "tags": [
     "delete"
    ]
   },
   "outputs": [
    {
     "data": {
      "text/html": [
       "<div>\n",
       "<style scoped>\n",
       "    .dataframe tbody tr th:only-of-type {\n",
       "        vertical-align: middle;\n",
       "    }\n",
       "\n",
       "    .dataframe tbody tr th {\n",
       "        vertical-align: top;\n",
       "    }\n",
       "\n",
       "    .dataframe thead th {\n",
       "        text-align: right;\n",
       "    }\n",
       "</style>\n",
       "<table border=\"1\" class=\"dataframe\">\n",
       "  <thead>\n",
       "    <tr style=\"text-align: right;\">\n",
       "      <th></th>\n",
       "      <th>title</th>\n",
       "      <th>authors</th>\n",
       "      <th>isbn13</th>\n",
       "      <th># num_pages</th>\n",
       "      <th>cover_url</th>\n",
       "    </tr>\n",
       "  </thead>\n",
       "  <tbody>\n",
       "    <tr>\n",
       "      <th>0</th>\n",
       "      <td>Harry Potter and the Half-Blood Prince (Harry ...</td>\n",
       "      <td>J.K. Rowling-Mary GrandPré</td>\n",
       "      <td>9780439785969</td>\n",
       "      <td>652</td>\n",
       "      <td>None</td>\n",
       "    </tr>\n",
       "    <tr>\n",
       "      <th>1</th>\n",
       "      <td>Harry Potter and the Order of the Phoenix (Har...</td>\n",
       "      <td>J.K. Rowling-Mary GrandPré</td>\n",
       "      <td>9780439358071</td>\n",
       "      <td>870</td>\n",
       "      <td>None</td>\n",
       "    </tr>\n",
       "    <tr>\n",
       "      <th>2</th>\n",
       "      <td>Harry Potter and the Sorcerer's Stone (Harry P...</td>\n",
       "      <td>J.K. Rowling-Mary GrandPré</td>\n",
       "      <td>9780439554930</td>\n",
       "      <td>320</td>\n",
       "      <td>None</td>\n",
       "    </tr>\n",
       "    <tr>\n",
       "      <th>3</th>\n",
       "      <td>Harry Potter and the Chamber of Secrets (Harry...</td>\n",
       "      <td>J.K. Rowling</td>\n",
       "      <td>9780439554893</td>\n",
       "      <td>352</td>\n",
       "      <td>None</td>\n",
       "    </tr>\n",
       "    <tr>\n",
       "      <th>4</th>\n",
       "      <td>Harry Potter and the Prisoner of Azkaban (Harr...</td>\n",
       "      <td>J.K. Rowling-Mary GrandPré</td>\n",
       "      <td>9780439655484</td>\n",
       "      <td>435</td>\n",
       "      <td>None</td>\n",
       "    </tr>\n",
       "    <tr>\n",
       "      <th>5</th>\n",
       "      <td>Harry Potter Boxed Set  Books 1-5 (Harry Potte...</td>\n",
       "      <td>J.K. Rowling-Mary GrandPré</td>\n",
       "      <td>9780439682589</td>\n",
       "      <td>2690</td>\n",
       "      <td>None</td>\n",
       "    </tr>\n",
       "    <tr>\n",
       "      <th>6</th>\n",
       "      <td>Unauthorized Harry Potter Book Seven News: \"Ha...</td>\n",
       "      <td>W. Frederick Zimmerman</td>\n",
       "      <td>9780976540601</td>\n",
       "      <td>152</td>\n",
       "      <td>None</td>\n",
       "    </tr>\n",
       "    <tr>\n",
       "      <th>7</th>\n",
       "      <td>Harry Potter Collection (Harry Potter  #1-6)</td>\n",
       "      <td>J.K. Rowling</td>\n",
       "      <td>9780439827607</td>\n",
       "      <td>3342</td>\n",
       "      <td>None</td>\n",
       "    </tr>\n",
       "    <tr>\n",
       "      <th>8</th>\n",
       "      <td>The Ultimate Hitchhiker's Guide: Five Complete...</td>\n",
       "      <td>Douglas Adams</td>\n",
       "      <td>9780517226957</td>\n",
       "      <td>815</td>\n",
       "      <td>None</td>\n",
       "    </tr>\n",
       "    <tr>\n",
       "      <th>9</th>\n",
       "      <td>The Ultimate Hitchhiker's Guide to the Galaxy</td>\n",
       "      <td>Douglas Adams</td>\n",
       "      <td>9780345453747</td>\n",
       "      <td>815</td>\n",
       "      <td>None</td>\n",
       "    </tr>\n",
       "    <tr>\n",
       "      <th>10</th>\n",
       "      <td>The Hitchhiker's Guide to the Galaxy (Hitchhik...</td>\n",
       "      <td>Douglas Adams</td>\n",
       "      <td>9781400052929</td>\n",
       "      <td>215</td>\n",
       "      <td>None</td>\n",
       "    </tr>\n",
       "    <tr>\n",
       "      <th>11</th>\n",
       "      <td>The Hitchhiker's Guide to the Galaxy (Hitchhik...</td>\n",
       "      <td>Douglas Adams-Stephen Fry</td>\n",
       "      <td>9780739322208</td>\n",
       "      <td>6</td>\n",
       "      <td>None</td>\n",
       "    </tr>\n",
       "    <tr>\n",
       "      <th>12</th>\n",
       "      <td>The Ultimate Hitchhiker's Guide (Hitchhiker's ...</td>\n",
       "      <td>Douglas Adams</td>\n",
       "      <td>9780517149256</td>\n",
       "      <td>815</td>\n",
       "      <td>None</td>\n",
       "    </tr>\n",
       "    <tr>\n",
       "      <th>13</th>\n",
       "      <td>A Short History of Nearly Everything</td>\n",
       "      <td>Bill Bryson-William Roberts</td>\n",
       "      <td>9780767908184</td>\n",
       "      <td>544</td>\n",
       "      <td>None</td>\n",
       "    </tr>\n",
       "    <tr>\n",
       "      <th>14</th>\n",
       "      <td>Bill Bryson's African Diary</td>\n",
       "      <td>Bill Bryson</td>\n",
       "      <td>9780767915069</td>\n",
       "      <td>55</td>\n",
       "      <td>None</td>\n",
       "    </tr>\n",
       "  </tbody>\n",
       "</table>\n",
       "</div>"
      ],
      "text/plain": [
       "                                                title  \\\n",
       "0   Harry Potter and the Half-Blood Prince (Harry ...   \n",
       "1   Harry Potter and the Order of the Phoenix (Har...   \n",
       "2   Harry Potter and the Sorcerer's Stone (Harry P...   \n",
       "3   Harry Potter and the Chamber of Secrets (Harry...   \n",
       "4   Harry Potter and the Prisoner of Azkaban (Harr...   \n",
       "5   Harry Potter Boxed Set  Books 1-5 (Harry Potte...   \n",
       "6   Unauthorized Harry Potter Book Seven News: \"Ha...   \n",
       "7        Harry Potter Collection (Harry Potter  #1-6)   \n",
       "8   The Ultimate Hitchhiker's Guide: Five Complete...   \n",
       "9       The Ultimate Hitchhiker's Guide to the Galaxy   \n",
       "10  The Hitchhiker's Guide to the Galaxy (Hitchhik...   \n",
       "11  The Hitchhiker's Guide to the Galaxy (Hitchhik...   \n",
       "12  The Ultimate Hitchhiker's Guide (Hitchhiker's ...   \n",
       "13               A Short History of Nearly Everything   \n",
       "14                        Bill Bryson's African Diary   \n",
       "\n",
       "                        authors         isbn13  # num_pages cover_url  \n",
       "0    J.K. Rowling-Mary GrandPré  9780439785969          652      None  \n",
       "1    J.K. Rowling-Mary GrandPré  9780439358071          870      None  \n",
       "2    J.K. Rowling-Mary GrandPré  9780439554930          320      None  \n",
       "3                  J.K. Rowling  9780439554893          352      None  \n",
       "4    J.K. Rowling-Mary GrandPré  9780439655484          435      None  \n",
       "5    J.K. Rowling-Mary GrandPré  9780439682589         2690      None  \n",
       "6        W. Frederick Zimmerman  9780976540601          152      None  \n",
       "7                  J.K. Rowling  9780439827607         3342      None  \n",
       "8                 Douglas Adams  9780517226957          815      None  \n",
       "9                 Douglas Adams  9780345453747          815      None  \n",
       "10                Douglas Adams  9781400052929          215      None  \n",
       "11    Douglas Adams-Stephen Fry  9780739322208            6      None  \n",
       "12                Douglas Adams  9780517149256          815      None  \n",
       "13  Bill Bryson-William Roberts  9780767908184          544      None  \n",
       "14                  Bill Bryson  9780767915069           55      None  "
      ]
     },
     "execution_count": 9,
     "metadata": {},
     "output_type": "execute_result"
    }
   ],
   "source": [
    "books_df.head(15)"
   ]
  },
  {
   "cell_type": "markdown",
   "metadata": {},
   "source": [
    "## Calling the API with multiple ISBNs at a time"
   ]
  },
  {
   "cell_type": "code",
   "execution_count": 10,
   "metadata": {
    "execution": {
     "iopub.execute_input": "2025-07-09T20:22:32.585665Z",
     "iopub.status.busy": "2025-07-09T20:22:32.584530Z",
     "iopub.status.idle": "2025-07-09T20:22:32.596290Z",
     "shell.execute_reply": "2025-07-09T20:22:32.595085Z",
     "shell.execute_reply.started": "2025-07-09T20:22:32.585605Z"
    },
    "tags": [
     "challengify"
    ]
   },
   "outputs": [
    {
     "data": {
      "text/plain": [
       "['ISBN:9780439785969', 'ISBN:9780439358071', 'ISBN:9780439554930']"
      ]
     },
     "execution_count": 10,
     "metadata": {},
     "output_type": "execute_result"
    }
   ],
   "source": [
    "isbns = [9780439785969, 9780439358071, 9780439554930]\n",
    "[f\"ISBN:{isbn}\" for isbn in isbns]"
   ]
  },
  {
   "cell_type": "code",
   "execution_count": 11,
   "metadata": {
    "execution": {
     "iopub.execute_input": "2025-07-09T20:22:33.293472Z",
     "iopub.status.busy": "2025-07-09T20:22:33.292702Z",
     "iopub.status.idle": "2025-07-09T20:22:33.302926Z",
     "shell.execute_reply": "2025-07-09T20:22:33.301864Z",
     "shell.execute_reply.started": "2025-07-09T20:22:33.293351Z"
    },
    "tags": [
     "delete"
    ]
   },
   "outputs": [
    {
     "data": {
      "text/plain": [
       "'ISBN:9780439785969,ISBN:9780439358071,ISBN:9780439554930'"
      ]
     },
     "execution_count": 11,
     "metadata": {},
     "output_type": "execute_result"
    }
   ],
   "source": [
    "\",\".join([f\"ISBN:{isbn}\" for isbn in isbns])"
   ]
  },
  {
   "cell_type": "code",
   "execution_count": 12,
   "metadata": {
    "execution": {
     "iopub.execute_input": "2025-07-09T20:22:36.249990Z",
     "iopub.status.busy": "2025-07-09T20:22:36.248873Z",
     "iopub.status.idle": "2025-07-09T20:22:36.261698Z",
     "shell.execute_reply": "2025-07-09T20:22:36.260433Z",
     "shell.execute_reply.started": "2025-07-09T20:22:36.249918Z"
    },
    "tags": [
     "delete"
    ]
   },
   "outputs": [],
   "source": [
    "def fetch_books(isbns):\n",
    "    # Define the base URL of the OpenLibrary Books API\n",
    "    url = \"https://openlibrary.org/api/books\"\n",
    "\n",
    "    # Format the list of ISBNs into a single comma-separated string:\n",
    "    # For example: ['123', '456'] → 'ISBN:123,ISBN:456'\n",
    "    bibkeys = \",\".join([f\"ISBN:{isbn}\" for isbn in isbns])\n",
    "    \n",
    "    # Define the parameters to send with the GET request:\n",
    "    # - 'bibkeys': the ISBNs of the books we want\n",
    "    # - 'format': specify the response format (JSON)\n",
    "    # - 'jscmd': specify what kind of data we want (detailed info)\n",
    "    params = {\n",
    "        'bibkeys': bibkeys,\n",
    "        'format': 'json',\n",
    "        'jscmd': 'data'\n",
    "    }\n",
    "    \n",
    "    # Send the GET request to the API with the given parameters\n",
    "    # Convert the response to a JSON dictionary\n",
    "    response = requests.get(url, params=params).json()\n",
    "    \n",
    "    # Return the dictionary containing book information\n",
    "    return response\n"
   ]
  },
  {
   "cell_type": "code",
   "execution_count": 13,
   "metadata": {
    "execution": {
     "iopub.execute_input": "2025-07-09T20:22:45.883341Z",
     "iopub.status.busy": "2025-07-09T20:22:45.882190Z",
     "iopub.status.idle": "2025-07-09T20:22:45.891124Z",
     "shell.execute_reply": "2025-07-09T20:22:45.889515Z",
     "shell.execute_reply.started": "2025-07-09T20:22:45.883275Z"
    },
    "tags": [
     "delete"
    ]
   },
   "outputs": [],
   "source": [
    "books_df.set_index(\"isbn13\", inplace=True)"
   ]
  },
  {
   "cell_type": "code",
   "execution_count": 14,
   "metadata": {
    "execution": {
     "iopub.execute_input": "2025-07-09T20:22:46.784229Z",
     "iopub.status.busy": "2025-07-09T20:22:46.783422Z",
     "iopub.status.idle": "2025-07-09T20:22:46.798447Z",
     "shell.execute_reply": "2025-07-09T20:22:46.797272Z",
     "shell.execute_reply.started": "2025-07-09T20:22:46.784157Z"
    },
    "tags": [
     "delete"
    ]
   },
   "outputs": [
    {
     "data": {
      "text/html": [
       "<div>\n",
       "<style scoped>\n",
       "    .dataframe tbody tr th:only-of-type {\n",
       "        vertical-align: middle;\n",
       "    }\n",
       "\n",
       "    .dataframe tbody tr th {\n",
       "        vertical-align: top;\n",
       "    }\n",
       "\n",
       "    .dataframe thead th {\n",
       "        text-align: right;\n",
       "    }\n",
       "</style>\n",
       "<table border=\"1\" class=\"dataframe\">\n",
       "  <thead>\n",
       "    <tr style=\"text-align: right;\">\n",
       "      <th></th>\n",
       "      <th>title</th>\n",
       "      <th>authors</th>\n",
       "      <th># num_pages</th>\n",
       "      <th>cover_url</th>\n",
       "    </tr>\n",
       "    <tr>\n",
       "      <th>isbn13</th>\n",
       "      <th></th>\n",
       "      <th></th>\n",
       "      <th></th>\n",
       "      <th></th>\n",
       "    </tr>\n",
       "  </thead>\n",
       "  <tbody>\n",
       "    <tr>\n",
       "      <th>9780439785969</th>\n",
       "      <td>Harry Potter and the Half-Blood Prince (Harry ...</td>\n",
       "      <td>J.K. Rowling-Mary GrandPré</td>\n",
       "      <td>652</td>\n",
       "      <td>None</td>\n",
       "    </tr>\n",
       "    <tr>\n",
       "      <th>9780439358071</th>\n",
       "      <td>Harry Potter and the Order of the Phoenix (Har...</td>\n",
       "      <td>J.K. Rowling-Mary GrandPré</td>\n",
       "      <td>870</td>\n",
       "      <td>None</td>\n",
       "    </tr>\n",
       "    <tr>\n",
       "      <th>9780439554930</th>\n",
       "      <td>Harry Potter and the Sorcerer's Stone (Harry P...</td>\n",
       "      <td>J.K. Rowling-Mary GrandPré</td>\n",
       "      <td>320</td>\n",
       "      <td>None</td>\n",
       "    </tr>\n",
       "    <tr>\n",
       "      <th>9780439554893</th>\n",
       "      <td>Harry Potter and the Chamber of Secrets (Harry...</td>\n",
       "      <td>J.K. Rowling</td>\n",
       "      <td>352</td>\n",
       "      <td>None</td>\n",
       "    </tr>\n",
       "    <tr>\n",
       "      <th>9780439655484</th>\n",
       "      <td>Harry Potter and the Prisoner of Azkaban (Harr...</td>\n",
       "      <td>J.K. Rowling-Mary GrandPré</td>\n",
       "      <td>435</td>\n",
       "      <td>None</td>\n",
       "    </tr>\n",
       "  </tbody>\n",
       "</table>\n",
       "</div>"
      ],
      "text/plain": [
       "                                                           title  \\\n",
       "isbn13                                                             \n",
       "9780439785969  Harry Potter and the Half-Blood Prince (Harry ...   \n",
       "9780439358071  Harry Potter and the Order of the Phoenix (Har...   \n",
       "9780439554930  Harry Potter and the Sorcerer's Stone (Harry P...   \n",
       "9780439554893  Harry Potter and the Chamber of Secrets (Harry...   \n",
       "9780439655484  Harry Potter and the Prisoner of Azkaban (Harr...   \n",
       "\n",
       "                                  authors  # num_pages cover_url  \n",
       "isbn13                                                            \n",
       "9780439785969  J.K. Rowling-Mary GrandPré          652      None  \n",
       "9780439358071  J.K. Rowling-Mary GrandPré          870      None  \n",
       "9780439554930  J.K. Rowling-Mary GrandPré          320      None  \n",
       "9780439554893                J.K. Rowling          352      None  \n",
       "9780439655484  J.K. Rowling-Mary GrandPré          435      None  "
      ]
     },
     "execution_count": 14,
     "metadata": {},
     "output_type": "execute_result"
    }
   ],
   "source": [
    "books_df.head()"
   ]
  },
  {
   "cell_type": "code",
   "execution_count": 15,
   "metadata": {
    "execution": {
     "iopub.execute_input": "2025-07-09T20:22:49.712378Z",
     "iopub.status.busy": "2025-07-09T20:22:49.711690Z",
     "iopub.status.idle": "2025-07-09T20:22:52.515944Z",
     "shell.execute_reply": "2025-07-09T20:22:52.513115Z",
     "shell.execute_reply.started": "2025-07-09T20:22:49.712341Z"
    },
    "tags": [
     "delete"
    ]
   },
   "outputs": [
    {
     "name": "stdout",
     "output_type": "stream",
     "text": [
      "Requirement already satisfied: tqdm in /Users/bouchrakostet/.pyenv/versions/3.10.6/envs/lewagon/lib/python3.10/site-packages (4.67.1)\n"
     ]
    }
   ],
   "source": [
    "!pip install tqdm"
   ]
  },
  {
   "cell_type": "code",
   "execution_count": 19,
   "metadata": {
    "execution": {
     "iopub.execute_input": "2025-07-09T20:25:52.393924Z",
     "iopub.status.busy": "2025-07-09T20:25:52.392922Z",
     "iopub.status.idle": "2025-07-09T20:26:00.666632Z",
     "shell.execute_reply": "2025-07-09T20:26:00.664398Z",
     "shell.execute_reply.started": "2025-07-09T20:25:52.393850Z"
    },
    "tags": [
     "delete"
    ]
   },
   "outputs": [
    {
     "name": "stderr",
     "output_type": "stream",
     "text": [
      "/Users/bouchrakostet/.pyenv/versions/3.10.6/envs/lewagon/lib/python3.10/site-packages/numpy/core/fromnumeric.py:59: FutureWarning: 'DataFrame.swapaxes' is deprecated and will be removed in a future version. Please use 'DataFrame.transpose' instead.\n",
      "  return bound(*args, **kwds)\n",
      "100%|█████████████████████████████████████████████| 5/5 [00:08<00:00,  1.65s/it]"
     ]
    },
    {
     "name": "stdout",
     "output_type": "stream",
     "text": [
      "CPU times: user 118 ms, sys: 22.2 ms, total: 140 ms\n",
      "Wall time: 8.26 s\n"
     ]
    },
    {
     "name": "stderr",
     "output_type": "stream",
     "text": [
      "\n"
     ]
    }
   ],
   "source": [
    "%%time\n",
    "\n",
    "from tqdm import tqdm  # Import tqdm to show a progress bar during the loop\n",
    "\n",
    "# Split the first 100 rows of books_df into 5 groups (each group has ~20 rows)\n",
    "# This prevents overloading the API with too many ISBNs at once\n",
    "for group in tqdm(np.array_split(books_df.head(100), 5)):\n",
    "\n",
    "    # Fetch book data from the OpenLibrary API for the ISBNs in this group\n",
    "    # The index of books_df is assumed to be the ISBN-13 codes\n",
    "    books = fetch_books(list(group.index))\n",
    "\n",
    "    # Loop through each book returned from the API\n",
    "    for isbn_code, book in books.items():\n",
    "        # The API returns keys like 'ISBN:0451526538', so we remove the prefix and convert to int\n",
    "        isbn = int(isbn_code.strip(\"ISBN:\"))\n",
    "\n",
    "        # Extract the large cover URL from the API response (if it exists), or use an empty string\n",
    "        cover_url = book.get(\"cover\", {}).get(\"large\", \"\")\n",
    "\n",
    "        # Update the 'cover_url' column in books_df for this specific ISBN\n",
    "        # Saved the new cover URLs directly back into your books_df\n",
    "        # In pandas, .loc[row_index, column_name] = value is an in-place update\n",
    "        # So unless you've made a .copy() of books_df earlier, this line updates the original DataFrame.\n",
    "        books_df.loc[isbn, \"cover_url\"] = cover_url"
   ]
  },
  {
   "cell_type": "code",
   "execution_count": 17,
   "metadata": {
    "execution": {
     "iopub.execute_input": "2025-07-09T20:22:57.830289Z",
     "iopub.status.busy": "2025-07-09T20:22:57.829615Z",
     "iopub.status.idle": "2025-07-09T20:22:57.852751Z",
     "shell.execute_reply": "2025-07-09T20:22:57.850988Z",
     "shell.execute_reply.started": "2025-07-09T20:22:57.830231Z"
    },
    "tags": [
     "delete"
    ]
   },
   "outputs": [
    {
     "data": {
      "text/html": [
       "<div>\n",
       "<style scoped>\n",
       "    .dataframe tbody tr th:only-of-type {\n",
       "        vertical-align: middle;\n",
       "    }\n",
       "\n",
       "    .dataframe tbody tr th {\n",
       "        vertical-align: top;\n",
       "    }\n",
       "\n",
       "    .dataframe thead th {\n",
       "        text-align: right;\n",
       "    }\n",
       "</style>\n",
       "<table border=\"1\" class=\"dataframe\">\n",
       "  <thead>\n",
       "    <tr style=\"text-align: right;\">\n",
       "      <th></th>\n",
       "      <th>title</th>\n",
       "      <th>authors</th>\n",
       "      <th># num_pages</th>\n",
       "      <th>cover_url</th>\n",
       "    </tr>\n",
       "    <tr>\n",
       "      <th>isbn13</th>\n",
       "      <th></th>\n",
       "      <th></th>\n",
       "      <th></th>\n",
       "      <th></th>\n",
       "    </tr>\n",
       "  </thead>\n",
       "  <tbody>\n",
       "    <tr>\n",
       "      <th>9780439785969</th>\n",
       "      <td>Harry Potter and the Half-Blood Prince (Harry ...</td>\n",
       "      <td>J.K. Rowling-Mary GrandPré</td>\n",
       "      <td>652</td>\n",
       "      <td>None</td>\n",
       "    </tr>\n",
       "    <tr>\n",
       "      <th>9780439358071</th>\n",
       "      <td>Harry Potter and the Order of the Phoenix (Har...</td>\n",
       "      <td>J.K. Rowling-Mary GrandPré</td>\n",
       "      <td>870</td>\n",
       "      <td>None</td>\n",
       "    </tr>\n",
       "    <tr>\n",
       "      <th>9780439554930</th>\n",
       "      <td>Harry Potter and the Sorcerer's Stone (Harry P...</td>\n",
       "      <td>J.K. Rowling-Mary GrandPré</td>\n",
       "      <td>320</td>\n",
       "      <td>None</td>\n",
       "    </tr>\n",
       "    <tr>\n",
       "      <th>9780439554893</th>\n",
       "      <td>Harry Potter and the Chamber of Secrets (Harry...</td>\n",
       "      <td>J.K. Rowling</td>\n",
       "      <td>352</td>\n",
       "      <td>None</td>\n",
       "    </tr>\n",
       "    <tr>\n",
       "      <th>9780439655484</th>\n",
       "      <td>Harry Potter and the Prisoner of Azkaban (Harr...</td>\n",
       "      <td>J.K. Rowling-Mary GrandPré</td>\n",
       "      <td>435</td>\n",
       "      <td>None</td>\n",
       "    </tr>\n",
       "    <tr>\n",
       "      <th>9780439682589</th>\n",
       "      <td>Harry Potter Boxed Set  Books 1-5 (Harry Potte...</td>\n",
       "      <td>J.K. Rowling-Mary GrandPré</td>\n",
       "      <td>2690</td>\n",
       "      <td>None</td>\n",
       "    </tr>\n",
       "    <tr>\n",
       "      <th>9780976540601</th>\n",
       "      <td>Unauthorized Harry Potter Book Seven News: \"Ha...</td>\n",
       "      <td>W. Frederick Zimmerman</td>\n",
       "      <td>152</td>\n",
       "      <td>None</td>\n",
       "    </tr>\n",
       "    <tr>\n",
       "      <th>9780439827607</th>\n",
       "      <td>Harry Potter Collection (Harry Potter  #1-6)</td>\n",
       "      <td>J.K. Rowling</td>\n",
       "      <td>3342</td>\n",
       "      <td>None</td>\n",
       "    </tr>\n",
       "    <tr>\n",
       "      <th>9780517226957</th>\n",
       "      <td>The Ultimate Hitchhiker's Guide: Five Complete...</td>\n",
       "      <td>Douglas Adams</td>\n",
       "      <td>815</td>\n",
       "      <td>None</td>\n",
       "    </tr>\n",
       "    <tr>\n",
       "      <th>9780345453747</th>\n",
       "      <td>The Ultimate Hitchhiker's Guide to the Galaxy</td>\n",
       "      <td>Douglas Adams</td>\n",
       "      <td>815</td>\n",
       "      <td>None</td>\n",
       "    </tr>\n",
       "    <tr>\n",
       "      <th>9781400052929</th>\n",
       "      <td>The Hitchhiker's Guide to the Galaxy (Hitchhik...</td>\n",
       "      <td>Douglas Adams</td>\n",
       "      <td>215</td>\n",
       "      <td>None</td>\n",
       "    </tr>\n",
       "    <tr>\n",
       "      <th>9780739322208</th>\n",
       "      <td>The Hitchhiker's Guide to the Galaxy (Hitchhik...</td>\n",
       "      <td>Douglas Adams-Stephen Fry</td>\n",
       "      <td>6</td>\n",
       "      <td>None</td>\n",
       "    </tr>\n",
       "    <tr>\n",
       "      <th>9780517149256</th>\n",
       "      <td>The Ultimate Hitchhiker's Guide (Hitchhiker's ...</td>\n",
       "      <td>Douglas Adams</td>\n",
       "      <td>815</td>\n",
       "      <td>None</td>\n",
       "    </tr>\n",
       "    <tr>\n",
       "      <th>9780767908184</th>\n",
       "      <td>A Short History of Nearly Everything</td>\n",
       "      <td>Bill Bryson-William Roberts</td>\n",
       "      <td>544</td>\n",
       "      <td>None</td>\n",
       "    </tr>\n",
       "    <tr>\n",
       "      <th>9780767915069</th>\n",
       "      <td>Bill Bryson's African Diary</td>\n",
       "      <td>Bill Bryson</td>\n",
       "      <td>55</td>\n",
       "      <td>None</td>\n",
       "    </tr>\n",
       "    <tr>\n",
       "      <th>9780767910439</th>\n",
       "      <td>Bryson's Dictionary of Troublesome Words: A Wr...</td>\n",
       "      <td>Bill Bryson</td>\n",
       "      <td>256</td>\n",
       "      <td>None</td>\n",
       "    </tr>\n",
       "    <tr>\n",
       "      <th>9780767903868</th>\n",
       "      <td>In a Sunburned Country</td>\n",
       "      <td>Bill Bryson</td>\n",
       "      <td>335</td>\n",
       "      <td>None</td>\n",
       "    </tr>\n",
       "    <tr>\n",
       "      <th>9780767903820</th>\n",
       "      <td>I'm a Stranger Here Myself: Notes on Returning...</td>\n",
       "      <td>Bill Bryson</td>\n",
       "      <td>304</td>\n",
       "      <td>None</td>\n",
       "    </tr>\n",
       "    <tr>\n",
       "      <th>9780060920081</th>\n",
       "      <td>The Lost Continent: Travels in Small Town America</td>\n",
       "      <td>Bill Bryson</td>\n",
       "      <td>299</td>\n",
       "      <td>None</td>\n",
       "    </tr>\n",
       "    <tr>\n",
       "      <th>9780380713806</th>\n",
       "      <td>Neither Here nor There: Travels in Europe</td>\n",
       "      <td>Bill Bryson</td>\n",
       "      <td>254</td>\n",
       "      <td>None</td>\n",
       "    </tr>\n",
       "  </tbody>\n",
       "</table>\n",
       "</div>"
      ],
      "text/plain": [
       "                                                           title  \\\n",
       "isbn13                                                             \n",
       "9780439785969  Harry Potter and the Half-Blood Prince (Harry ...   \n",
       "9780439358071  Harry Potter and the Order of the Phoenix (Har...   \n",
       "9780439554930  Harry Potter and the Sorcerer's Stone (Harry P...   \n",
       "9780439554893  Harry Potter and the Chamber of Secrets (Harry...   \n",
       "9780439655484  Harry Potter and the Prisoner of Azkaban (Harr...   \n",
       "9780439682589  Harry Potter Boxed Set  Books 1-5 (Harry Potte...   \n",
       "9780976540601  Unauthorized Harry Potter Book Seven News: \"Ha...   \n",
       "9780439827607       Harry Potter Collection (Harry Potter  #1-6)   \n",
       "9780517226957  The Ultimate Hitchhiker's Guide: Five Complete...   \n",
       "9780345453747      The Ultimate Hitchhiker's Guide to the Galaxy   \n",
       "9781400052929  The Hitchhiker's Guide to the Galaxy (Hitchhik...   \n",
       "9780739322208  The Hitchhiker's Guide to the Galaxy (Hitchhik...   \n",
       "9780517149256  The Ultimate Hitchhiker's Guide (Hitchhiker's ...   \n",
       "9780767908184               A Short History of Nearly Everything   \n",
       "9780767915069                        Bill Bryson's African Diary   \n",
       "9780767910439  Bryson's Dictionary of Troublesome Words: A Wr...   \n",
       "9780767903868                             In a Sunburned Country   \n",
       "9780767903820  I'm a Stranger Here Myself: Notes on Returning...   \n",
       "9780060920081  The Lost Continent: Travels in Small Town America   \n",
       "9780380713806          Neither Here nor There: Travels in Europe   \n",
       "\n",
       "                                   authors  # num_pages cover_url  \n",
       "isbn13                                                             \n",
       "9780439785969   J.K. Rowling-Mary GrandPré          652      None  \n",
       "9780439358071   J.K. Rowling-Mary GrandPré          870      None  \n",
       "9780439554930   J.K. Rowling-Mary GrandPré          320      None  \n",
       "9780439554893                 J.K. Rowling          352      None  \n",
       "9780439655484   J.K. Rowling-Mary GrandPré          435      None  \n",
       "9780439682589   J.K. Rowling-Mary GrandPré         2690      None  \n",
       "9780976540601       W. Frederick Zimmerman          152      None  \n",
       "9780439827607                 J.K. Rowling         3342      None  \n",
       "9780517226957                Douglas Adams          815      None  \n",
       "9780345453747                Douglas Adams          815      None  \n",
       "9781400052929                Douglas Adams          215      None  \n",
       "9780739322208    Douglas Adams-Stephen Fry            6      None  \n",
       "9780517149256                Douglas Adams          815      None  \n",
       "9780767908184  Bill Bryson-William Roberts          544      None  \n",
       "9780767915069                  Bill Bryson           55      None  \n",
       "9780767910439                  Bill Bryson          256      None  \n",
       "9780767903868                  Bill Bryson          335      None  \n",
       "9780767903820                  Bill Bryson          304      None  \n",
       "9780060920081                  Bill Bryson          299      None  \n",
       "9780380713806                  Bill Bryson          254      None  "
      ]
     },
     "execution_count": 17,
     "metadata": {},
     "output_type": "execute_result"
    }
   ],
   "source": [
    "books_df.head(20)"
   ]
  },
  {
   "cell_type": "code",
   "execution_count": null,
   "metadata": {},
   "outputs": [],
   "source": []
  }
 ],
 "metadata": {
  "kernelspec": {
   "display_name": "Python 3 (ipykernel)",
   "language": "python",
   "name": "python3"
  },
  "language_info": {
   "codemirror_mode": {
    "name": "ipython",
    "version": 3
   },
   "file_extension": ".py",
   "mimetype": "text/x-python",
   "name": "python",
   "nbconvert_exporter": "python",
   "pygments_lexer": "ipython3",
   "version": "3.10.6"
  }
 },
 "nbformat": 4,
 "nbformat_minor": 4
}
