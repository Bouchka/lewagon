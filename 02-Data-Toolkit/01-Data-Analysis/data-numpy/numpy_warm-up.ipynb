{
 "cells": [
  {
   "cell_type": "markdown",
   "metadata": {},
   "source": [
    "# Numpy 101\n",
    "\n",
    "The goal of this challenge is to get familiar with the Numpy library, manipulate multidimensional arrays and apply some linear algebra operations without using `for` loops.\n",
    "\n",
    "💡 Do not forget to keep the [Numpy Cheat Sheet](https://s3.amazonaws.com/assets.datacamp.com/blog_assets/Numpy_Python_Cheat_Sheet.pdf) closed during this challenge."
   ]
  },
  {
   "cell_type": "code",
   "execution_count": 1,
   "metadata": {
    "execution": {
     "iopub.execute_input": "2025-07-09T14:42:18.302095Z",
     "iopub.status.busy": "2025-07-09T14:42:18.301508Z",
     "iopub.status.idle": "2025-07-09T14:42:18.478308Z",
     "shell.execute_reply": "2025-07-09T14:42:18.477338Z",
     "shell.execute_reply.started": "2025-07-09T14:42:18.302041Z"
    }
   },
   "outputs": [],
   "source": [
    "import numpy as np # Run this cell!"
   ]
  },
  {
   "cell_type": "markdown",
   "metadata": {},
   "source": [
    "---\n",
    "\n",
    "**Q1** - Create a null vector (i.e. with only zeros `0`) of size 10 and assign it to a variable named `ten_zeros`. \n",
    "\n",
    "It should look like this:\n",
    "\n",
    "```\n",
    "array([0., 0., 0., 0., 0., 0., 0., 0., 0., 0.])\n",
    "```\n",
    "\n",
    "<details>\n",
    "    <summary>🆘 Hint</summary>\n",
    "    <p>Have a look at <a href=\"https://numpy.org/devdocs/reference/generated/numpy.zeros.html\"><code>numpy.zeros</code></a></p>\n",
    "</details>"
   ]
  },
  {
   "cell_type": "code",
   "execution_count": 2,
   "metadata": {
    "execution": {
     "iopub.execute_input": "2025-07-09T14:42:21.155483Z",
     "iopub.status.busy": "2025-07-09T14:42:21.154651Z",
     "iopub.status.idle": "2025-07-09T14:42:21.170950Z",
     "shell.execute_reply": "2025-07-09T14:42:21.170142Z",
     "shell.execute_reply.started": "2025-07-09T14:42:21.155420Z"
    },
    "tags": [
     "challengify"
    ]
   },
   "outputs": [
    {
     "data": {
      "text/plain": [
       "array([0., 0., 0., 0., 0., 0., 0., 0., 0., 0.])"
      ]
     },
     "execution_count": 2,
     "metadata": {},
     "output_type": "execute_result"
    }
   ],
   "source": [
    "ten_zeros = np.zeros(10)\n",
    "ten_zeros"
   ]
  },
  {
   "cell_type": "markdown",
   "metadata": {},
   "source": [
    "---\n",
    "\n",
    "**Q2** - Create a vector with values from 5 to 10 and assign it to a variable named `five_to_ten`.\n",
    "\n",
    "It should look like this:\n",
    "\n",
    "```\n",
    "array([ 5,  6,  7,  8,  9, 10])\n",
    "```\n",
    "\n",
    "<details>\n",
    "    <summary>🆘 Hint</summary>\n",
    "    <p>Have a look at <a href=\"https://numpy.org/devdocs/reference/generated/numpy.arange.html\"><code>numpy.arange</code></a></p>\n",
    "</details>"
   ]
  },
  {
   "cell_type": "code",
   "execution_count": 3,
   "metadata": {
    "execution": {
     "iopub.execute_input": "2025-07-09T14:42:23.838728Z",
     "iopub.status.busy": "2025-07-09T14:42:23.838044Z",
     "iopub.status.idle": "2025-07-09T14:42:23.849338Z",
     "shell.execute_reply": "2025-07-09T14:42:23.848122Z",
     "shell.execute_reply.started": "2025-07-09T14:42:23.838651Z"
    },
    "tags": [
     "challengify"
    ]
   },
   "outputs": [
    {
     "data": {
      "text/plain": [
       "array([ 5,  6,  7,  8,  9, 10])"
      ]
     },
     "execution_count": 3,
     "metadata": {},
     "output_type": "execute_result"
    }
   ],
   "source": [
    "five_to_ten = np.arange(5, 11)\n",
    "five_to_ten"
   ]
  },
  {
   "cell_type": "markdown",
   "metadata": {},
   "source": [
    "---\n",
    "\n",
    "**Q3** - Create the following matrix as a NumPy `ndarray` and assign it to a variable named `A`:\n",
    "\n",
    "$\n",
    "A = \n",
    "\\begin{pmatrix}\n",
    "5 & 9 & 7\\\\\n",
    "1 & 0 & 3\n",
    "\\end{pmatrix}\n",
    "$\n",
    "\n",
    "<br>\n",
    "<details>\n",
    "    <summary>🆘 Hint</summary>\n",
    "    <p>Have a look at <a href=\"https://numpy.org/devdocs/reference/generated/numpy.array.html\"><code>numpy.array</code></a></p>\n",
    "    <p>Checkout more about the relationship between<a href=\"https://stackoverflow.com/questions/15879315/what-is-the-difference-between-ndarray-and-array-in-numpy\"><code>numpy.array and numpy.ndarray</code></a></p>\n",
    "</details>"
   ]
  },
  {
   "cell_type": "code",
   "execution_count": 4,
   "metadata": {
    "execution": {
     "iopub.execute_input": "2025-07-09T14:42:26.588996Z",
     "iopub.status.busy": "2025-07-09T14:42:26.588322Z",
     "iopub.status.idle": "2025-07-09T14:42:26.597964Z",
     "shell.execute_reply": "2025-07-09T14:42:26.596893Z",
     "shell.execute_reply.started": "2025-07-09T14:42:26.588939Z"
    },
    "tags": [
     "challengify"
    ]
   },
   "outputs": [
    {
     "data": {
      "text/plain": [
       "array([[5, 9, 7],\n",
       "       [1, 0, 3]])"
      ]
     },
     "execution_count": 4,
     "metadata": {},
     "output_type": "execute_result"
    }
   ],
   "source": [
    "A = np.array([[5, 9, 7], [1, 0, 3]])\n",
    "A"
   ]
  },
  {
   "cell_type": "markdown",
   "metadata": {},
   "source": [
    "---\n",
    "**Q4** - Create the following matrix without using the `np.array()` constructor and assign it to a variable named `B`:\n",
    "\n",
    "$\n",
    "B = \n",
    "\\begin{pmatrix}\n",
    "1 & 1\\\\\n",
    "1 & 1\n",
    "\\end{pmatrix}\n",
    "$"
   ]
  },
  {
   "cell_type": "code",
   "execution_count": 5,
   "metadata": {
    "execution": {
     "iopub.execute_input": "2025-07-09T14:42:28.583334Z",
     "iopub.status.busy": "2025-07-09T14:42:28.582691Z",
     "iopub.status.idle": "2025-07-09T14:42:28.592707Z",
     "shell.execute_reply": "2025-07-09T14:42:28.591566Z",
     "shell.execute_reply.started": "2025-07-09T14:42:28.583279Z"
    },
    "tags": [
     "challengify"
    ]
   },
   "outputs": [
    {
     "data": {
      "text/plain": [
       "array([[1, 1],\n",
       "       [1, 1]])"
      ]
     },
     "execution_count": 5,
     "metadata": {},
     "output_type": "execute_result"
    }
   ],
   "source": [
    "B = np.ones((2, 2), dtype=int)\n",
    "B"
   ]
  },
  {
   "cell_type": "markdown",
   "metadata": {},
   "source": [
    "---\n",
    "\n",
    "**Q5** - Create a vector of 20 elements evenly spaced between `-1` and `1` and assign it to a variable named `lin_twenty`.\n",
    "\n",
    "It should look like this:\n",
    "\n",
    "```\n",
    "array([-1.        , -0.89473684, -0.78947368, -0.68421053, -0.57894737,\n",
    "       -0.47368421, -0.36842105, -0.26315789, -0.15789474, -0.05263158,\n",
    "        0.05263158,  0.15789474,  0.26315789,  0.36842105,  0.47368421,\n",
    "        0.57894737,  0.68421053,  0.78947368,  0.89473684,  1.        ])\n",
    "```\n",
    "\n",
    "<details>\n",
    "    <summary>🆘 Hint</summary>\n",
    "    <p>Have a look at <a href=\"https://numpy.org/devdocs/reference/generated/numpy.linspace.html\"><code>numpy.linspace</code></a></p>\n",
    "</details>"
   ]
  },
  {
   "cell_type": "code",
   "execution_count": 6,
   "metadata": {
    "execution": {
     "iopub.execute_input": "2025-07-09T14:42:31.591409Z",
     "iopub.status.busy": "2025-07-09T14:42:31.590402Z",
     "iopub.status.idle": "2025-07-09T14:42:31.600836Z",
     "shell.execute_reply": "2025-07-09T14:42:31.599716Z",
     "shell.execute_reply.started": "2025-07-09T14:42:31.591359Z"
    },
    "tags": [
     "challengify"
    ]
   },
   "outputs": [
    {
     "data": {
      "text/plain": [
       "array([-1.        , -0.89473684, -0.78947368, -0.68421053, -0.57894737,\n",
       "       -0.47368421, -0.36842105, -0.26315789, -0.15789474, -0.05263158,\n",
       "        0.05263158,  0.15789474,  0.26315789,  0.36842105,  0.47368421,\n",
       "        0.57894737,  0.68421053,  0.78947368,  0.89473684,  1.        ])"
      ]
     },
     "execution_count": 6,
     "metadata": {},
     "output_type": "execute_result"
    }
   ],
   "source": [
    "lin_twenty = np.linspace(-1, 1, 20)\n",
    "lin_twenty"
   ]
  },
  {
   "cell_type": "markdown",
   "metadata": {},
   "source": [
    "---\n",
    "\n",
    "**Q6** - Create a 3x3 identity matrix and assign it to a variable named `C`:\n",
    "\n",
    "$\n",
    "C = \n",
    "\\begin{pmatrix}\n",
    "1 & 0 & 0\\\\\n",
    "0 & 1 & 0\\\\\n",
    "0 & 0 & 1\n",
    "\\end{pmatrix}\n",
    "$\n",
    "\n",
    "<br>\n",
    "\n",
    "<details>\n",
    "    <summary>🆘 Hint</summary>\n",
    "    <p>Have a look at <a href=\"https://numpy.org/devdocs/reference/generated/numpy.eye.html\"><code>numpy.eye</code></a></p>\n",
    "</details>"
   ]
  },
  {
   "cell_type": "code",
   "execution_count": 7,
   "metadata": {
    "execution": {
     "iopub.execute_input": "2025-07-09T14:43:13.220804Z",
     "iopub.status.busy": "2025-07-09T14:43:13.219498Z",
     "iopub.status.idle": "2025-07-09T14:43:13.229105Z",
     "shell.execute_reply": "2025-07-09T14:43:13.228142Z",
     "shell.execute_reply.started": "2025-07-09T14:43:13.220742Z"
    },
    "tags": [
     "challengify"
    ]
   },
   "outputs": [
    {
     "data": {
      "text/plain": [
       "array([[1, 0, 0],\n",
       "       [0, 1, 0],\n",
       "       [0, 0, 1]])"
      ]
     },
     "execution_count": 7,
     "metadata": {},
     "output_type": "execute_result"
    }
   ],
   "source": [
    "C = np.eye(3, dtype=\"int\")\n",
    "C"
   ]
  },
  {
   "cell_type": "markdown",
   "metadata": {},
   "source": [
    "---\n",
    "\n",
    "**Q7** - Create the following `ndarray` and assign it to a variable named `D`:  \n",
    "\n",
    "$\n",
    "D = \n",
    "\\begin{pmatrix}\n",
    "2 & 9 & 7 & 3 & 1 & 5\n",
    "\\end{pmatrix}\n",
    "$\n",
    "\n",
    "Reshape `D` into a 2x3 matrix and assign it to a variable named `E`:\n",
    "\n",
    "$\n",
    "E = \n",
    "\\begin{pmatrix}\n",
    "2 & 9 & 7\\\\\n",
    "3 & 1 & 5\n",
    "\\end{pmatrix}\n",
    "$\n",
    "\n",
    "<br>\n",
    "\n",
    "<details>\n",
    "    <summary>🆘 Hint</summary>\n",
    "    <p>Have a look at <a href=\"https://numpy.org/devdocs/reference/generated/numpy.reshape.html\"><code>numpy.reshape</code></a></p>\n",
    "</details>"
   ]
  },
  {
   "cell_type": "code",
   "execution_count": 8,
   "metadata": {
    "execution": {
     "iopub.execute_input": "2025-07-09T14:43:16.736186Z",
     "iopub.status.busy": "2025-07-09T14:43:16.735354Z",
     "iopub.status.idle": "2025-07-09T14:43:16.746377Z",
     "shell.execute_reply": "2025-07-09T14:43:16.745356Z",
     "shell.execute_reply.started": "2025-07-09T14:43:16.736115Z"
    },
    "tags": [
     "challengify"
    ]
   },
   "outputs": [
    {
     "data": {
      "text/plain": [
       "array([[2, 9, 7],\n",
       "       [3, 1, 5]])"
      ]
     },
     "execution_count": 8,
     "metadata": {},
     "output_type": "execute_result"
    }
   ],
   "source": [
    "D = np.array([2, 9, 7, 3, 1, 5])\n",
    "E = D.reshape(2, 3)\n",
    "E"
   ]
  },
  {
   "cell_type": "markdown",
   "metadata": {},
   "source": [
    "---\n",
    "\n",
    "**Q8**: Select the second column of this `ndarray` `F`, reshape it as an `ndarray` of 4 lines and 1 column and assign it to a variable named `reshaped_F`:\n",
    "\n",
    "$\n",
    "reshaped\\_F = \n",
    "\\begin{pmatrix}\n",
    "0.?\\\\\n",
    "0.?\\\\\n",
    "0.?\\\\\n",
    "0.?\\\\\n",
    "\\end{pmatrix}\n",
    "$"
   ]
  },
  {
   "cell_type": "code",
   "execution_count": 9,
   "metadata": {
    "execution": {
     "iopub.execute_input": "2025-07-09T14:43:18.710179Z",
     "iopub.status.busy": "2025-07-09T14:43:18.709021Z",
     "iopub.status.idle": "2025-07-09T14:43:18.719850Z",
     "shell.execute_reply": "2025-07-09T14:43:18.718827Z",
     "shell.execute_reply.started": "2025-07-09T14:43:18.710121Z"
    }
   },
   "outputs": [
    {
     "name": "stdout",
     "output_type": "stream",
     "text": [
      "[[0.23475139 0.57206328 0.72484416 0.43472544 0.72409432]\n",
      " [0.94271486 0.94895558 0.91120499 0.67960449 0.06427326]\n",
      " [0.50183264 0.81921916 0.75742122 0.87029271 0.74713651]\n",
      " [0.09199445 0.36542369 0.78357495 0.42714697 0.07217243]]\n"
     ]
    }
   ],
   "source": [
    "F = np.random.random((4, 5))\n",
    "print(F)"
   ]
  },
  {
   "cell_type": "code",
   "execution_count": 10,
   "metadata": {
    "execution": {
     "iopub.execute_input": "2025-07-09T14:43:20.254714Z",
     "iopub.status.busy": "2025-07-09T14:43:20.253918Z",
     "iopub.status.idle": "2025-07-09T14:43:20.264159Z",
     "shell.execute_reply": "2025-07-09T14:43:20.262911Z",
     "shell.execute_reply.started": "2025-07-09T14:43:20.254656Z"
    },
    "tags": [
     "challengify"
    ]
   },
   "outputs": [
    {
     "data": {
      "text/plain": [
       "array([[0.57206328],\n",
       "       [0.94895558],\n",
       "       [0.81921916],\n",
       "       [0.36542369]])"
      ]
     },
     "execution_count": 10,
     "metadata": {},
     "output_type": "execute_result"
    }
   ],
   "source": [
    "reshaped_F = F[:, 1].reshape(4, 1)\n",
    "reshaped_F"
   ]
  },
  {
   "cell_type": "markdown",
   "metadata": {},
   "source": [
    "---\n",
    "\n",
    "**Q9** - Compute the sum of matrixes `G` and `H` and store the result into a variable `gh_sum`:\n",
    "\n",
    "$\n",
    "G = \n",
    "\\begin{pmatrix}\n",
    "0 & 4\\\\\n",
    "-4 & -3\\\\\n",
    "1 & 1\n",
    "\\end{pmatrix}\n",
    "$\n",
    "\n",
    "$\n",
    "H =\n",
    "\\begin{pmatrix}\n",
    "0 & 1\\\\\n",
    "1 & -1\\\\\n",
    "2 & 3\n",
    "\\end{pmatrix}\n",
    "$\n",
    "\n",
    "$\n",
    "G + H = ?\n",
    "$\n"
   ]
  },
  {
   "cell_type": "code",
   "execution_count": 11,
   "metadata": {
    "execution": {
     "iopub.execute_input": "2025-07-09T14:43:56.620690Z",
     "iopub.status.busy": "2025-07-09T14:43:56.620216Z",
     "iopub.status.idle": "2025-07-09T14:43:56.628209Z",
     "shell.execute_reply": "2025-07-09T14:43:56.627174Z",
     "shell.execute_reply.started": "2025-07-09T14:43:56.620651Z"
    }
   },
   "outputs": [
    {
     "name": "stdout",
     "output_type": "stream",
     "text": [
      "G: \n",
      " [[ 0  4]\n",
      " [-4 -3]\n",
      " [ 1  1]]\n",
      "H: \n",
      " [[ 0  1]\n",
      " [ 1 -1]\n",
      " [ 2  3]]\n"
     ]
    }
   ],
   "source": [
    "# Here we demonstrate two different approaches to creating a (3,2) Matrix\n",
    "G = np.array([0, 4, -4, -3, 1, 1]).reshape(3, 2)\n",
    "print('G: \\n', G)\n",
    "H = np.array([[0, 1], [1, -1], [2, 3]])\n",
    "print('H: \\n', H)"
   ]
  },
  {
   "cell_type": "code",
   "execution_count": 12,
   "metadata": {
    "execution": {
     "iopub.execute_input": "2025-07-09T14:44:05.472365Z",
     "iopub.status.busy": "2025-07-09T14:44:05.471672Z",
     "iopub.status.idle": "2025-07-09T14:44:05.482288Z",
     "shell.execute_reply": "2025-07-09T14:44:05.481195Z",
     "shell.execute_reply.started": "2025-07-09T14:44:05.472304Z"
    },
    "tags": [
     "challengify"
    ]
   },
   "outputs": [
    {
     "data": {
      "text/plain": [
       "array([[ 0,  5],\n",
       "       [-3, -4],\n",
       "       [ 3,  4]])"
      ]
     },
     "execution_count": 12,
     "metadata": {},
     "output_type": "execute_result"
    }
   ],
   "source": [
    "gh_sum = G + H\n",
    "gh_sum"
   ]
  },
  {
   "cell_type": "markdown",
   "metadata": {},
   "source": [
    "## Check your code!\n",
    "\n",
    "Run the cell below to check your code:"
   ]
  },
  {
   "cell_type": "code",
   "execution_count": 13,
   "metadata": {
    "execution": {
     "iopub.execute_input": "2025-07-08T19:53:51.642906Z",
     "iopub.status.busy": "2025-07-08T19:53:51.642207Z",
     "iopub.status.idle": "2025-07-08T19:53:52.272964Z",
     "shell.execute_reply": "2025-07-08T19:53:52.271548Z",
     "shell.execute_reply.started": "2025-07-08T19:53:51.642866Z"
    }
   },
   "outputs": [
    {
     "name": "stdout",
     "output_type": "stream",
     "text": [
      "\n",
      "\u001b[1m============================= test session starts ==============================\u001b[0m\n",
      "platform darwin -- Python 3.10.6, pytest-8.3.4, pluggy-1.5.0 -- /Users/bouchrakostet/.pyenv/versions/3.10.6/envs/lewagon/bin/python\n",
      "cachedir: .pytest_cache\n",
      "rootdir: /Users/bouchrakostet/code/lewagon/02-Data-Toolkit/01-Data-Analysis/data-numpy/tests\n",
      "plugins: asyncio-0.19.0, anyio-4.8.0, typeguard-4.4.2\n",
      "asyncio: mode=strict\n",
      "\u001b[1mcollecting ... \u001b[0mcollected 5 items\n",
      "\n",
      "test_numpy.py::TestNumpy::test_advanced_matrixes_manipulation \u001b[32mPASSED\u001b[0m\u001b[32m     [ 20%]\u001b[0m\n",
      "test_numpy.py::TestNumpy::test_linear_twenty_vector_creation \u001b[32mPASSED\u001b[0m\u001b[32m      [ 40%]\u001b[0m\n",
      "test_numpy.py::TestNumpy::test_matrixes_creation_and_reshaping \u001b[32mPASSED\u001b[0m\u001b[32m    [ 60%]\u001b[0m\n",
      "test_numpy.py::TestNumpy::test_ndarrays_creation \u001b[32mPASSED\u001b[0m\u001b[32m                  [ 80%]\u001b[0m\n",
      "test_numpy.py::TestNumpy::test_vectors_creation \u001b[32mPASSED\u001b[0m\u001b[32m                   [100%]\u001b[0m\n",
      "\n",
      "\u001b[32m============================== \u001b[32m\u001b[1m5 passed\u001b[0m\u001b[32m in 0.10s\u001b[0m\u001b[32m ===============================\u001b[0m\n",
      "\n",
      "\n",
      "💯 You can commit your code:\n",
      "\n",
      "\u001b[1;32mgit\u001b[39m add tests/numpy.pickle\n",
      "\n",
      "\u001b[32mgit\u001b[39m commit -m \u001b[33m'Completed numpy step'\u001b[39m\n",
      "\n",
      "\u001b[32mgit\u001b[39m push origin master\n",
      "\n"
     ]
    }
   ],
   "source": [
    "from nbresult import ChallengeResult\n",
    "\n",
    "result = ChallengeResult('numpy',\n",
    "    ten=ten_zeros,\n",
    "    from_five=five_to_ten,\n",
    "    A=A,\n",
    "    B=B,\n",
    "    lin_twenty=lin_twenty,\n",
    "    C=C,\n",
    "    E=E,\n",
    "    F=F,\n",
    "    reshaped_F=reshaped_F,\n",
    "    gh_sum=gh_sum\n",
    ")\n",
    "result.write()\n",
    "print(result.check())"
   ]
  },
  {
   "cell_type": "code",
   "execution_count": null,
   "metadata": {},
   "outputs": [],
   "source": []
  }
 ],
 "metadata": {
  "kernelspec": {
   "display_name": "Python 3 (ipykernel)",
   "language": "python",
   "name": "python3"
  },
  "language_info": {
   "codemirror_mode": {
    "name": "ipython",
    "version": 3
   },
   "file_extension": ".py",
   "mimetype": "text/x-python",
   "name": "python",
   "nbconvert_exporter": "python",
   "pygments_lexer": "ipython3",
   "version": "3.10.6"
  }
 },
 "nbformat": 4,
 "nbformat_minor": 4
}
