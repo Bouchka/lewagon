{
 "cells": [
  {
   "cell_type": "markdown",
   "metadata": {},
   "source": [
    "# Multiple files with `pandas`"
   ]
  },
  {
   "cell_type": "code",
   "execution_count": 1,
   "metadata": {
    "execution": {
     "iopub.execute_input": "2025-07-08T20:30:15.204946Z",
     "iopub.status.busy": "2025-07-08T20:30:15.204531Z",
     "iopub.status.idle": "2025-07-08T20:30:16.249753Z",
     "shell.execute_reply": "2025-07-08T20:30:16.248229Z",
     "shell.execute_reply.started": "2025-07-08T20:30:15.204888Z"
    },
    "tags": [
     "delete_begin"
    ]
   },
   "outputs": [],
   "source": [
    "import numpy as np\n",
    "import pandas as pd\n",
    "import matplotlib"
   ]
  },
  {
   "cell_type": "markdown",
   "metadata": {},
   "source": [
    "## Merge Practice"
   ]
  },
  {
   "cell_type": "code",
   "execution_count": 2,
   "metadata": {
    "code_folding": [
     0
    ],
    "execution": {
     "iopub.execute_input": "2025-07-08T20:30:16.251920Z",
     "iopub.status.busy": "2025-07-08T20:30:16.251054Z",
     "iopub.status.idle": "2025-07-08T20:30:16.272012Z",
     "shell.execute_reply": "2025-07-08T20:30:16.271106Z",
     "shell.execute_reply.started": "2025-07-08T20:30:16.251884Z"
    }
   },
   "outputs": [
    {
     "data": {
      "text/html": [
       "<div>\n",
       "<style scoped>\n",
       "    .dataframe tbody tr th:only-of-type {\n",
       "        vertical-align: middle;\n",
       "    }\n",
       "\n",
       "    .dataframe tbody tr th {\n",
       "        vertical-align: top;\n",
       "    }\n",
       "\n",
       "    .dataframe thead th {\n",
       "        text-align: right;\n",
       "    }\n",
       "</style>\n",
       "<table border=\"1\" class=\"dataframe\">\n",
       "  <thead>\n",
       "    <tr style=\"text-align: right;\">\n",
       "      <th></th>\n",
       "      <th>Country</th>\n",
       "      <th>Population (M)</th>\n",
       "      <th>Capital</th>\n",
       "    </tr>\n",
       "  </thead>\n",
       "  <tbody>\n",
       "    <tr>\n",
       "      <th>0</th>\n",
       "      <td>Germany</td>\n",
       "      <td>82.8</td>\n",
       "      <td>Berlin</td>\n",
       "    </tr>\n",
       "    <tr>\n",
       "      <th>1</th>\n",
       "      <td>France</td>\n",
       "      <td>67.2</td>\n",
       "      <td>Paris</td>\n",
       "    </tr>\n",
       "    <tr>\n",
       "      <th>2</th>\n",
       "      <td>Belgium</td>\n",
       "      <td>11.4</td>\n",
       "      <td>Brussels</td>\n",
       "    </tr>\n",
       "    <tr>\n",
       "      <th>3</th>\n",
       "      <td>Finland</td>\n",
       "      <td>5.5</td>\n",
       "      <td>Helsinki</td>\n",
       "    </tr>\n",
       "  </tbody>\n",
       "</table>\n",
       "</div>"
      ],
      "text/plain": [
       "   Country  Population (M)   Capital\n",
       "0  Germany            82.8    Berlin\n",
       "1   France            67.2     Paris\n",
       "2  Belgium            11.4  Brussels\n",
       "3  Finland             5.5  Helsinki"
      ]
     },
     "execution_count": 2,
     "metadata": {},
     "output_type": "execute_result"
    }
   ],
   "source": [
    "a_df = pd.DataFrame({\n",
    "    'Country': ['Germany', 'France', 'Belgium', 'Finland'],\n",
    "    'Population (M)': [82.8, 67.2, 11.4, 5.5],\n",
    "    'Capital': ['Berlin', 'Paris', 'Brussels', 'Helsinki']\n",
    "})\n",
    "a_df"
   ]
  },
  {
   "cell_type": "code",
   "execution_count": 3,
   "metadata": {
    "code_folding": [
     0
    ],
    "execution": {
     "iopub.execute_input": "2025-07-08T20:30:16.274435Z",
     "iopub.status.busy": "2025-07-08T20:30:16.273838Z",
     "iopub.status.idle": "2025-07-08T20:30:16.285850Z",
     "shell.execute_reply": "2025-07-08T20:30:16.284873Z",
     "shell.execute_reply.started": "2025-07-08T20:30:16.274390Z"
    }
   },
   "outputs": [
    {
     "data": {
      "text/html": [
       "<div>\n",
       "<style scoped>\n",
       "    .dataframe tbody tr th:only-of-type {\n",
       "        vertical-align: middle;\n",
       "    }\n",
       "\n",
       "    .dataframe tbody tr th {\n",
       "        vertical-align: top;\n",
       "    }\n",
       "\n",
       "    .dataframe thead th {\n",
       "        text-align: right;\n",
       "    }\n",
       "</style>\n",
       "<table border=\"1\" class=\"dataframe\">\n",
       "  <thead>\n",
       "    <tr style=\"text-align: right;\">\n",
       "      <th></th>\n",
       "      <th>Country</th>\n",
       "      <th>HDI</th>\n",
       "    </tr>\n",
       "  </thead>\n",
       "  <tbody>\n",
       "    <tr>\n",
       "      <th>0</th>\n",
       "      <td>Germany</td>\n",
       "      <td>0.936</td>\n",
       "    </tr>\n",
       "    <tr>\n",
       "      <th>1</th>\n",
       "      <td>France</td>\n",
       "      <td>0.901</td>\n",
       "    </tr>\n",
       "    <tr>\n",
       "      <th>2</th>\n",
       "      <td>Belgium</td>\n",
       "      <td>0.916</td>\n",
       "    </tr>\n",
       "    <tr>\n",
       "      <th>3</th>\n",
       "      <td>Canada</td>\n",
       "      <td>0.926</td>\n",
       "    </tr>\n",
       "  </tbody>\n",
       "</table>\n",
       "</div>"
      ],
      "text/plain": [
       "   Country    HDI\n",
       "0  Germany  0.936\n",
       "1   France  0.901\n",
       "2  Belgium  0.916\n",
       "3   Canada  0.926"
      ]
     },
     "execution_count": 3,
     "metadata": {},
     "output_type": "execute_result"
    }
   ],
   "source": [
    "b_df = pd.DataFrame({\n",
    "    'Country': ['Germany', 'France', 'Belgium', 'Canada'],\n",
    "    'HDI': [0.936, 0.901, 0.916, 0.926]\n",
    "})\n",
    "b_df"
   ]
  },
  {
   "cell_type": "markdown",
   "metadata": {},
   "source": [
    "### Inner Merge Practice\n"
   ]
  },
  {
   "cell_type": "code",
   "execution_count": 4,
   "metadata": {
    "execution": {
     "iopub.execute_input": "2025-07-08T20:30:16.287918Z",
     "iopub.status.busy": "2025-07-08T20:30:16.287439Z",
     "iopub.status.idle": "2025-07-08T20:30:16.304544Z",
     "shell.execute_reply": "2025-07-08T20:30:16.303826Z",
     "shell.execute_reply.started": "2025-07-08T20:30:16.287888Z"
    }
   },
   "outputs": [
    {
     "data": {
      "text/html": [
       "<div>\n",
       "<style scoped>\n",
       "    .dataframe tbody tr th:only-of-type {\n",
       "        vertical-align: middle;\n",
       "    }\n",
       "\n",
       "    .dataframe tbody tr th {\n",
       "        vertical-align: top;\n",
       "    }\n",
       "\n",
       "    .dataframe thead th {\n",
       "        text-align: right;\n",
       "    }\n",
       "</style>\n",
       "<table border=\"1\" class=\"dataframe\">\n",
       "  <thead>\n",
       "    <tr style=\"text-align: right;\">\n",
       "      <th></th>\n",
       "      <th>Country</th>\n",
       "      <th>Population (M)</th>\n",
       "      <th>Capital</th>\n",
       "      <th>HDI</th>\n",
       "    </tr>\n",
       "  </thead>\n",
       "  <tbody>\n",
       "    <tr>\n",
       "      <th>0</th>\n",
       "      <td>Germany</td>\n",
       "      <td>82.8</td>\n",
       "      <td>Berlin</td>\n",
       "      <td>0.936</td>\n",
       "    </tr>\n",
       "    <tr>\n",
       "      <th>1</th>\n",
       "      <td>France</td>\n",
       "      <td>67.2</td>\n",
       "      <td>Paris</td>\n",
       "      <td>0.901</td>\n",
       "    </tr>\n",
       "    <tr>\n",
       "      <th>2</th>\n",
       "      <td>Belgium</td>\n",
       "      <td>11.4</td>\n",
       "      <td>Brussels</td>\n",
       "      <td>0.916</td>\n",
       "    </tr>\n",
       "  </tbody>\n",
       "</table>\n",
       "</div>"
      ],
      "text/plain": [
       "   Country  Population (M)   Capital    HDI\n",
       "0  Germany            82.8    Berlin  0.936\n",
       "1   France            67.2     Paris  0.901\n",
       "2  Belgium            11.4  Brussels  0.916"
      ]
     },
     "execution_count": 4,
     "metadata": {},
     "output_type": "execute_result"
    }
   ],
   "source": [
    "inner_merged_df = a_df.merge(b_df, on='Country')\n",
    "inner_merged_df"
   ]
  },
  {
   "cell_type": "markdown",
   "metadata": {},
   "source": [
    "#### Check your code"
   ]
  },
  {
   "cell_type": "code",
   "execution_count": 5,
   "metadata": {
    "execution": {
     "iopub.execute_input": "2025-07-08T20:30:16.305906Z",
     "iopub.status.busy": "2025-07-08T20:30:16.305483Z",
     "iopub.status.idle": "2025-07-08T20:30:16.779338Z",
     "shell.execute_reply": "2025-07-08T20:30:16.778027Z",
     "shell.execute_reply.started": "2025-07-08T20:30:16.305876Z"
    }
   },
   "outputs": [
    {
     "name": "stdout",
     "output_type": "stream",
     "text": [
      "\n",
      "\u001b[1m============================= test session starts ==============================\u001b[0m\n",
      "platform darwin -- Python 3.10.6, pytest-8.3.4, pluggy-1.5.0 -- /Users/bouchrakostet/.pyenv/versions/3.10.6/envs/lewagon/bin/python\n",
      "cachedir: .pytest_cache\n",
      "rootdir: /Users/bouchrakostet/code/lewagon/02-Data-Toolkit/01-Data-Analysis/data-multiple-files-with-pandas\n",
      "configfile: pytest.ini\n",
      "plugins: asyncio-0.19.0, anyio-4.8.0, typeguard-4.4.2\n",
      "asyncio: mode=strict\n",
      "\u001b[1mcollecting ... \u001b[0mcollected 2 items\n",
      "\n",
      "test_inner_merge.py::TestInnerMerge::test_inner_merged_nulls \u001b[32mPASSED\u001b[0m\u001b[32m      [ 50%]\u001b[0m\n",
      "test_inner_merge.py::TestInnerMerge::test_inner_merged_shape \u001b[32mPASSED\u001b[0m\u001b[32m      [100%]\u001b[0m\n",
      "\n",
      "\u001b[32m============================== \u001b[32m\u001b[1m2 passed\u001b[0m\u001b[32m in 0.02s\u001b[0m\u001b[32m ===============================\u001b[0m\n",
      "\n",
      "\n",
      "💯 You can commit your code:\n",
      "\n",
      "\u001b[1;32mgit\u001b[39m add tests/inner_merge.pickle\n",
      "\n",
      "\u001b[32mgit\u001b[39m commit -m \u001b[33m'Completed inner_merge step'\u001b[39m\n",
      "\n",
      "\u001b[32mgit\u001b[39m push origin master\n",
      "\n"
     ]
    }
   ],
   "source": [
    "from nbresult import ChallengeResult\n",
    "\n",
    "result = ChallengeResult('inner_merge',\n",
    "    inner_merged_shape=inner_merged_df.shape,\n",
    "    inner_merged_nulls=sum(inner_merged_df.isnull().sum())\n",
    ")\n",
    "result.write()\n",
    "\n",
    "print(result.check())"
   ]
  },
  {
   "cell_type": "markdown",
   "metadata": {},
   "source": [
    "### Left Merge Practice\n"
   ]
  },
  {
   "cell_type": "code",
   "execution_count": 6,
   "metadata": {
    "execution": {
     "iopub.execute_input": "2025-07-08T20:30:16.785556Z",
     "iopub.status.busy": "2025-07-08T20:30:16.785177Z",
     "iopub.status.idle": "2025-07-08T20:30:16.800414Z",
     "shell.execute_reply": "2025-07-08T20:30:16.799449Z",
     "shell.execute_reply.started": "2025-07-08T20:30:16.785527Z"
    }
   },
   "outputs": [
    {
     "data": {
      "text/html": [
       "<div>\n",
       "<style scoped>\n",
       "    .dataframe tbody tr th:only-of-type {\n",
       "        vertical-align: middle;\n",
       "    }\n",
       "\n",
       "    .dataframe tbody tr th {\n",
       "        vertical-align: top;\n",
       "    }\n",
       "\n",
       "    .dataframe thead th {\n",
       "        text-align: right;\n",
       "    }\n",
       "</style>\n",
       "<table border=\"1\" class=\"dataframe\">\n",
       "  <thead>\n",
       "    <tr style=\"text-align: right;\">\n",
       "      <th></th>\n",
       "      <th>Country</th>\n",
       "      <th>Population (M)</th>\n",
       "      <th>Capital</th>\n",
       "      <th>HDI</th>\n",
       "    </tr>\n",
       "  </thead>\n",
       "  <tbody>\n",
       "    <tr>\n",
       "      <th>0</th>\n",
       "      <td>Germany</td>\n",
       "      <td>82.8</td>\n",
       "      <td>Berlin</td>\n",
       "      <td>0.936</td>\n",
       "    </tr>\n",
       "    <tr>\n",
       "      <th>1</th>\n",
       "      <td>France</td>\n",
       "      <td>67.2</td>\n",
       "      <td>Paris</td>\n",
       "      <td>0.901</td>\n",
       "    </tr>\n",
       "    <tr>\n",
       "      <th>2</th>\n",
       "      <td>Belgium</td>\n",
       "      <td>11.4</td>\n",
       "      <td>Brussels</td>\n",
       "      <td>0.916</td>\n",
       "    </tr>\n",
       "    <tr>\n",
       "      <th>3</th>\n",
       "      <td>Finland</td>\n",
       "      <td>5.5</td>\n",
       "      <td>Helsinki</td>\n",
       "      <td>NaN</td>\n",
       "    </tr>\n",
       "  </tbody>\n",
       "</table>\n",
       "</div>"
      ],
      "text/plain": [
       "   Country  Population (M)   Capital    HDI\n",
       "0  Germany            82.8    Berlin  0.936\n",
       "1   France            67.2     Paris  0.901\n",
       "2  Belgium            11.4  Brussels  0.916\n",
       "3  Finland             5.5  Helsinki    NaN"
      ]
     },
     "execution_count": 6,
     "metadata": {},
     "output_type": "execute_result"
    }
   ],
   "source": [
    "left_merged_df = a_df.merge(b_df, on='Country', how='left')\n",
    "left_merged_df"
   ]
  },
  {
   "cell_type": "markdown",
   "metadata": {},
   "source": [
    "#### Check your code"
   ]
  },
  {
   "cell_type": "code",
   "execution_count": 7,
   "metadata": {
    "execution": {
     "iopub.execute_input": "2025-07-08T20:30:16.802088Z",
     "iopub.status.busy": "2025-07-08T20:30:16.801314Z",
     "iopub.status.idle": "2025-07-08T20:30:17.254134Z",
     "shell.execute_reply": "2025-07-08T20:30:17.251777Z",
     "shell.execute_reply.started": "2025-07-08T20:30:16.801981Z"
    }
   },
   "outputs": [
    {
     "name": "stdout",
     "output_type": "stream",
     "text": [
      "\n",
      "\u001b[1m============================= test session starts ==============================\u001b[0m\n",
      "platform darwin -- Python 3.10.6, pytest-8.3.4, pluggy-1.5.0 -- /Users/bouchrakostet/.pyenv/versions/3.10.6/envs/lewagon/bin/python\n",
      "cachedir: .pytest_cache\n",
      "rootdir: /Users/bouchrakostet/code/lewagon/02-Data-Toolkit/01-Data-Analysis/data-multiple-files-with-pandas\n",
      "configfile: pytest.ini\n",
      "plugins: asyncio-0.19.0, anyio-4.8.0, typeguard-4.4.2\n",
      "asyncio: mode=strict\n",
      "\u001b[1mcollecting ... \u001b[0mcollected 2 items\n",
      "\n",
      "test_left_merge.py::TestLeftMerge::test_left_merged_df_shape \u001b[32mPASSED\u001b[0m\u001b[32m      [ 50%]\u001b[0m\n",
      "test_left_merge.py::TestLeftMerge::test_left_merged_nulls \u001b[32mPASSED\u001b[0m\u001b[32m         [100%]\u001b[0m\n",
      "\n",
      "\u001b[32m============================== \u001b[32m\u001b[1m2 passed\u001b[0m\u001b[32m in 0.02s\u001b[0m\u001b[32m ===============================\u001b[0m\n",
      "\n",
      "\n",
      "💯 You can commit your code:\n",
      "\n",
      "\u001b[1;32mgit\u001b[39m add tests/left_merge.pickle\n",
      "\n",
      "\u001b[32mgit\u001b[39m commit -m \u001b[33m'Completed left_merge step'\u001b[39m\n",
      "\n",
      "\u001b[32mgit\u001b[39m push origin master\n",
      "\n"
     ]
    }
   ],
   "source": [
    "from nbresult import ChallengeResult\n",
    "\n",
    "result = ChallengeResult('left_merge',\n",
    "    left_merged_shape=left_merged_df.shape,\n",
    "    left_merged_nulls=sum(left_merged_df.isnull().sum())\n",
    ")\n",
    "result.write()\n",
    "\n",
    "print(result.check())"
   ]
  },
  {
   "cell_type": "markdown",
   "metadata": {},
   "source": [
    "### Right Merge Practice\n"
   ]
  },
  {
   "cell_type": "code",
   "execution_count": 8,
   "metadata": {
    "execution": {
     "iopub.execute_input": "2025-07-08T20:30:17.255878Z",
     "iopub.status.busy": "2025-07-08T20:30:17.255579Z",
     "iopub.status.idle": "2025-07-08T20:30:17.276707Z",
     "shell.execute_reply": "2025-07-08T20:30:17.275831Z",
     "shell.execute_reply.started": "2025-07-08T20:30:17.255849Z"
    }
   },
   "outputs": [
    {
     "data": {
      "text/html": [
       "<div>\n",
       "<style scoped>\n",
       "    .dataframe tbody tr th:only-of-type {\n",
       "        vertical-align: middle;\n",
       "    }\n",
       "\n",
       "    .dataframe tbody tr th {\n",
       "        vertical-align: top;\n",
       "    }\n",
       "\n",
       "    .dataframe thead th {\n",
       "        text-align: right;\n",
       "    }\n",
       "</style>\n",
       "<table border=\"1\" class=\"dataframe\">\n",
       "  <thead>\n",
       "    <tr style=\"text-align: right;\">\n",
       "      <th></th>\n",
       "      <th>Country</th>\n",
       "      <th>Population (M)</th>\n",
       "      <th>Capital</th>\n",
       "      <th>HDI</th>\n",
       "    </tr>\n",
       "  </thead>\n",
       "  <tbody>\n",
       "    <tr>\n",
       "      <th>0</th>\n",
       "      <td>Germany</td>\n",
       "      <td>82.8</td>\n",
       "      <td>Berlin</td>\n",
       "      <td>0.936</td>\n",
       "    </tr>\n",
       "    <tr>\n",
       "      <th>1</th>\n",
       "      <td>France</td>\n",
       "      <td>67.2</td>\n",
       "      <td>Paris</td>\n",
       "      <td>0.901</td>\n",
       "    </tr>\n",
       "    <tr>\n",
       "      <th>2</th>\n",
       "      <td>Belgium</td>\n",
       "      <td>11.4</td>\n",
       "      <td>Brussels</td>\n",
       "      <td>0.916</td>\n",
       "    </tr>\n",
       "    <tr>\n",
       "      <th>3</th>\n",
       "      <td>Canada</td>\n",
       "      <td>NaN</td>\n",
       "      <td>NaN</td>\n",
       "      <td>0.926</td>\n",
       "    </tr>\n",
       "  </tbody>\n",
       "</table>\n",
       "</div>"
      ],
      "text/plain": [
       "   Country  Population (M)   Capital    HDI\n",
       "0  Germany            82.8    Berlin  0.936\n",
       "1   France            67.2     Paris  0.901\n",
       "2  Belgium            11.4  Brussels  0.916\n",
       "3   Canada             NaN       NaN  0.926"
      ]
     },
     "execution_count": 8,
     "metadata": {},
     "output_type": "execute_result"
    }
   ],
   "source": [
    "right_merged_df = a_df.merge(b_df, on='Country', how='right')\n",
    "right_merged_df"
   ]
  },
  {
   "cell_type": "markdown",
   "metadata": {},
   "source": [
    "#### Check your code"
   ]
  },
  {
   "cell_type": "code",
   "execution_count": 9,
   "metadata": {
    "execution": {
     "iopub.execute_input": "2025-07-08T20:30:17.278636Z",
     "iopub.status.busy": "2025-07-08T20:30:17.278005Z",
     "iopub.status.idle": "2025-07-08T20:30:17.654170Z",
     "shell.execute_reply": "2025-07-08T20:30:17.652962Z",
     "shell.execute_reply.started": "2025-07-08T20:30:17.278585Z"
    }
   },
   "outputs": [
    {
     "name": "stdout",
     "output_type": "stream",
     "text": [
      "\n",
      "\u001b[1m============================= test session starts ==============================\u001b[0m\n",
      "platform darwin -- Python 3.10.6, pytest-8.3.4, pluggy-1.5.0 -- /Users/bouchrakostet/.pyenv/versions/3.10.6/envs/lewagon/bin/python\n",
      "cachedir: .pytest_cache\n",
      "rootdir: /Users/bouchrakostet/code/lewagon/02-Data-Toolkit/01-Data-Analysis/data-multiple-files-with-pandas\n",
      "configfile: pytest.ini\n",
      "plugins: asyncio-0.19.0, anyio-4.8.0, typeguard-4.4.2\n",
      "asyncio: mode=strict\n",
      "\u001b[1mcollecting ... \u001b[0mcollected 2 items\n",
      "\n",
      "test_right_merge.py::TestRightMerge::test_right_merged_df_shape \u001b[32mPASSED\u001b[0m\u001b[32m   [ 50%]\u001b[0m\n",
      "test_right_merge.py::TestRightMerge::test_right_merged_nulls \u001b[32mPASSED\u001b[0m\u001b[32m      [100%]\u001b[0m\n",
      "\n",
      "\u001b[32m============================== \u001b[32m\u001b[1m2 passed\u001b[0m\u001b[32m in 0.02s\u001b[0m\u001b[32m ===============================\u001b[0m\n",
      "\n",
      "\n",
      "💯 You can commit your code:\n",
      "\n",
      "\u001b[1;32mgit\u001b[39m add tests/right_merge.pickle\n",
      "\n",
      "\u001b[32mgit\u001b[39m commit -m \u001b[33m'Completed right_merge step'\u001b[39m\n",
      "\n",
      "\u001b[32mgit\u001b[39m push origin master\n",
      "\n"
     ]
    }
   ],
   "source": [
    "from nbresult import ChallengeResult\n",
    "\n",
    "result = ChallengeResult('right_merge',\n",
    "    right_merged_shape=right_merged_df.shape,\n",
    "    right_merged_nulls=sum(right_merged_df.isnull().sum())\n",
    ")\n",
    "result.write()\n",
    "\n",
    "print(result.check())"
   ]
  },
  {
   "cell_type": "markdown",
   "metadata": {},
   "source": [
    "### Outer Merge Practice"
   ]
  },
  {
   "cell_type": "code",
   "execution_count": 10,
   "metadata": {
    "execution": {
     "iopub.execute_input": "2025-07-08T20:30:17.656445Z",
     "iopub.status.busy": "2025-07-08T20:30:17.655753Z",
     "iopub.status.idle": "2025-07-08T20:30:17.672957Z",
     "shell.execute_reply": "2025-07-08T20:30:17.672120Z",
     "shell.execute_reply.started": "2025-07-08T20:30:17.656373Z"
    }
   },
   "outputs": [
    {
     "data": {
      "text/html": [
       "<div>\n",
       "<style scoped>\n",
       "    .dataframe tbody tr th:only-of-type {\n",
       "        vertical-align: middle;\n",
       "    }\n",
       "\n",
       "    .dataframe tbody tr th {\n",
       "        vertical-align: top;\n",
       "    }\n",
       "\n",
       "    .dataframe thead th {\n",
       "        text-align: right;\n",
       "    }\n",
       "</style>\n",
       "<table border=\"1\" class=\"dataframe\">\n",
       "  <thead>\n",
       "    <tr style=\"text-align: right;\">\n",
       "      <th></th>\n",
       "      <th>Country</th>\n",
       "      <th>Population (M)</th>\n",
       "      <th>Capital</th>\n",
       "      <th>HDI</th>\n",
       "    </tr>\n",
       "  </thead>\n",
       "  <tbody>\n",
       "    <tr>\n",
       "      <th>0</th>\n",
       "      <td>Belgium</td>\n",
       "      <td>11.4</td>\n",
       "      <td>Brussels</td>\n",
       "      <td>0.916</td>\n",
       "    </tr>\n",
       "    <tr>\n",
       "      <th>1</th>\n",
       "      <td>Canada</td>\n",
       "      <td>NaN</td>\n",
       "      <td>NaN</td>\n",
       "      <td>0.926</td>\n",
       "    </tr>\n",
       "    <tr>\n",
       "      <th>2</th>\n",
       "      <td>Finland</td>\n",
       "      <td>5.5</td>\n",
       "      <td>Helsinki</td>\n",
       "      <td>NaN</td>\n",
       "    </tr>\n",
       "    <tr>\n",
       "      <th>3</th>\n",
       "      <td>France</td>\n",
       "      <td>67.2</td>\n",
       "      <td>Paris</td>\n",
       "      <td>0.901</td>\n",
       "    </tr>\n",
       "    <tr>\n",
       "      <th>4</th>\n",
       "      <td>Germany</td>\n",
       "      <td>82.8</td>\n",
       "      <td>Berlin</td>\n",
       "      <td>0.936</td>\n",
       "    </tr>\n",
       "  </tbody>\n",
       "</table>\n",
       "</div>"
      ],
      "text/plain": [
       "   Country  Population (M)   Capital    HDI\n",
       "0  Belgium            11.4  Brussels  0.916\n",
       "1   Canada             NaN       NaN  0.926\n",
       "2  Finland             5.5  Helsinki    NaN\n",
       "3   France            67.2     Paris  0.901\n",
       "4  Germany            82.8    Berlin  0.936"
      ]
     },
     "execution_count": 10,
     "metadata": {},
     "output_type": "execute_result"
    }
   ],
   "source": [
    "outer_merged_df = a_df.merge(b_df, on='Country', how='outer')\n",
    "outer_merged_df"
   ]
  },
  {
   "cell_type": "markdown",
   "metadata": {},
   "source": [
    "#### Check your code"
   ]
  },
  {
   "cell_type": "code",
   "execution_count": 11,
   "metadata": {
    "execution": {
     "iopub.execute_input": "2025-07-08T20:30:17.674621Z",
     "iopub.status.busy": "2025-07-08T20:30:17.673977Z",
     "iopub.status.idle": "2025-07-08T20:30:18.094877Z",
     "shell.execute_reply": "2025-07-08T20:30:18.093301Z",
     "shell.execute_reply.started": "2025-07-08T20:30:17.674509Z"
    }
   },
   "outputs": [
    {
     "name": "stdout",
     "output_type": "stream",
     "text": [
      "\n",
      "\u001b[1m============================= test session starts ==============================\u001b[0m\n",
      "platform darwin -- Python 3.10.6, pytest-8.3.4, pluggy-1.5.0 -- /Users/bouchrakostet/.pyenv/versions/3.10.6/envs/lewagon/bin/python\n",
      "cachedir: .pytest_cache\n",
      "rootdir: /Users/bouchrakostet/code/lewagon/02-Data-Toolkit/01-Data-Analysis/data-multiple-files-with-pandas\n",
      "configfile: pytest.ini\n",
      "plugins: asyncio-0.19.0, anyio-4.8.0, typeguard-4.4.2\n",
      "asyncio: mode=strict\n",
      "\u001b[1mcollecting ... \u001b[0mcollected 2 items\n",
      "\n",
      "test_outer_merge.py::TestOuterMerge::test_outer_merged_df_shape \u001b[32mPASSED\u001b[0m\u001b[32m   [ 50%]\u001b[0m\n",
      "test_outer_merge.py::TestOuterMerge::test_outer_merged_nulls \u001b[32mPASSED\u001b[0m\u001b[32m      [100%]\u001b[0m\n",
      "\n",
      "\u001b[32m============================== \u001b[32m\u001b[1m2 passed\u001b[0m\u001b[32m in 0.02s\u001b[0m\u001b[32m ===============================\u001b[0m\n",
      "\n",
      "\n",
      "💯 You can commit your code:\n",
      "\n",
      "\u001b[1;32mgit\u001b[39m add tests/outer_merge.pickle\n",
      "\n",
      "\u001b[32mgit\u001b[39m commit -m \u001b[33m'Completed outer_merge step'\u001b[39m\n",
      "\n",
      "\u001b[32mgit\u001b[39m push origin master\n",
      "\n"
     ]
    }
   ],
   "source": [
    "from nbresult import ChallengeResult\n",
    "\n",
    "result = ChallengeResult('outer_merge',\n",
    "    outer_merged_shape=outer_merged_df.shape,\n",
    "    outer_merged_nulls=sum(outer_merged_df.isnull().sum())\n",
    ")\n",
    "result.write()\n",
    "\n",
    "print(result.check())"
   ]
  },
  {
   "cell_type": "markdown",
   "metadata": {},
   "source": [
    "## Join Practice"
   ]
  },
  {
   "cell_type": "code",
   "execution_count": 12,
   "metadata": {
    "execution": {
     "iopub.execute_input": "2025-07-08T20:30:18.096844Z",
     "iopub.status.busy": "2025-07-08T20:30:18.096365Z",
     "iopub.status.idle": "2025-07-08T20:30:18.110854Z",
     "shell.execute_reply": "2025-07-08T20:30:18.109541Z",
     "shell.execute_reply.started": "2025-07-08T20:30:18.096807Z"
    }
   },
   "outputs": [
    {
     "data": {
      "text/html": [
       "<div>\n",
       "<style scoped>\n",
       "    .dataframe tbody tr th:only-of-type {\n",
       "        vertical-align: middle;\n",
       "    }\n",
       "\n",
       "    .dataframe tbody tr th {\n",
       "        vertical-align: top;\n",
       "    }\n",
       "\n",
       "    .dataframe thead th {\n",
       "        text-align: right;\n",
       "    }\n",
       "</style>\n",
       "<table border=\"1\" class=\"dataframe\">\n",
       "  <thead>\n",
       "    <tr style=\"text-align: right;\">\n",
       "      <th></th>\n",
       "      <th>Population (M)</th>\n",
       "      <th>Capital</th>\n",
       "    </tr>\n",
       "    <tr>\n",
       "      <th>Country</th>\n",
       "      <th></th>\n",
       "      <th></th>\n",
       "    </tr>\n",
       "  </thead>\n",
       "  <tbody>\n",
       "    <tr>\n",
       "      <th>Germany</th>\n",
       "      <td>82.8</td>\n",
       "      <td>Berlin</td>\n",
       "    </tr>\n",
       "    <tr>\n",
       "      <th>France</th>\n",
       "      <td>67.2</td>\n",
       "      <td>Paris</td>\n",
       "    </tr>\n",
       "    <tr>\n",
       "      <th>Belgium</th>\n",
       "      <td>11.4</td>\n",
       "      <td>Brussels</td>\n",
       "    </tr>\n",
       "    <tr>\n",
       "      <th>Finland</th>\n",
       "      <td>5.5</td>\n",
       "      <td>Helsinki</td>\n",
       "    </tr>\n",
       "  </tbody>\n",
       "</table>\n",
       "</div>"
      ],
      "text/plain": [
       "         Population (M)   Capital\n",
       "Country                          \n",
       "Germany            82.8    Berlin\n",
       "France             67.2     Paris\n",
       "Belgium            11.4  Brussels\n",
       "Finland             5.5  Helsinki"
      ]
     },
     "execution_count": 12,
     "metadata": {},
     "output_type": "execute_result"
    }
   ],
   "source": [
    "aa_df = a_df.set_index(\"Country\")\n",
    "aa_df"
   ]
  },
  {
   "cell_type": "code",
   "execution_count": 13,
   "metadata": {
    "execution": {
     "iopub.execute_input": "2025-07-08T20:30:18.112820Z",
     "iopub.status.busy": "2025-07-08T20:30:18.112482Z",
     "iopub.status.idle": "2025-07-08T20:30:18.128010Z",
     "shell.execute_reply": "2025-07-08T20:30:18.127028Z",
     "shell.execute_reply.started": "2025-07-08T20:30:18.112790Z"
    }
   },
   "outputs": [
    {
     "data": {
      "text/html": [
       "<div>\n",
       "<style scoped>\n",
       "    .dataframe tbody tr th:only-of-type {\n",
       "        vertical-align: middle;\n",
       "    }\n",
       "\n",
       "    .dataframe tbody tr th {\n",
       "        vertical-align: top;\n",
       "    }\n",
       "\n",
       "    .dataframe thead th {\n",
       "        text-align: right;\n",
       "    }\n",
       "</style>\n",
       "<table border=\"1\" class=\"dataframe\">\n",
       "  <thead>\n",
       "    <tr style=\"text-align: right;\">\n",
       "      <th></th>\n",
       "      <th>HDI</th>\n",
       "    </tr>\n",
       "    <tr>\n",
       "      <th>Country</th>\n",
       "      <th></th>\n",
       "    </tr>\n",
       "  </thead>\n",
       "  <tbody>\n",
       "    <tr>\n",
       "      <th>Germany</th>\n",
       "      <td>0.936</td>\n",
       "    </tr>\n",
       "    <tr>\n",
       "      <th>France</th>\n",
       "      <td>0.901</td>\n",
       "    </tr>\n",
       "    <tr>\n",
       "      <th>Belgium</th>\n",
       "      <td>0.916</td>\n",
       "    </tr>\n",
       "    <tr>\n",
       "      <th>Canada</th>\n",
       "      <td>0.926</td>\n",
       "    </tr>\n",
       "  </tbody>\n",
       "</table>\n",
       "</div>"
      ],
      "text/plain": [
       "           HDI\n",
       "Country       \n",
       "Germany  0.936\n",
       "France   0.901\n",
       "Belgium  0.916\n",
       "Canada   0.926"
      ]
     },
     "execution_count": 13,
     "metadata": {},
     "output_type": "execute_result"
    }
   ],
   "source": [
    "bb_df = b_df.set_index(\"Country\")\n",
    "bb_df"
   ]
  },
  {
   "cell_type": "code",
   "execution_count": 14,
   "metadata": {
    "execution": {
     "iopub.execute_input": "2025-07-08T20:30:18.130386Z",
     "iopub.status.busy": "2025-07-08T20:30:18.129787Z",
     "iopub.status.idle": "2025-07-08T20:30:18.142063Z",
     "shell.execute_reply": "2025-07-08T20:30:18.141463Z",
     "shell.execute_reply.started": "2025-07-08T20:30:18.130347Z"
    },
    "scrolled": true
   },
   "outputs": [
    {
     "data": {
      "text/html": [
       "<div>\n",
       "<style scoped>\n",
       "    .dataframe tbody tr th:only-of-type {\n",
       "        vertical-align: middle;\n",
       "    }\n",
       "\n",
       "    .dataframe tbody tr th {\n",
       "        vertical-align: top;\n",
       "    }\n",
       "\n",
       "    .dataframe thead th {\n",
       "        text-align: right;\n",
       "    }\n",
       "</style>\n",
       "<table border=\"1\" class=\"dataframe\">\n",
       "  <thead>\n",
       "    <tr style=\"text-align: right;\">\n",
       "      <th></th>\n",
       "      <th>Population (M)</th>\n",
       "      <th>Capital</th>\n",
       "      <th>HDI</th>\n",
       "    </tr>\n",
       "    <tr>\n",
       "      <th>Country</th>\n",
       "      <th></th>\n",
       "      <th></th>\n",
       "      <th></th>\n",
       "    </tr>\n",
       "  </thead>\n",
       "  <tbody>\n",
       "    <tr>\n",
       "      <th>Germany</th>\n",
       "      <td>82.8</td>\n",
       "      <td>Berlin</td>\n",
       "      <td>0.936</td>\n",
       "    </tr>\n",
       "    <tr>\n",
       "      <th>France</th>\n",
       "      <td>67.2</td>\n",
       "      <td>Paris</td>\n",
       "      <td>0.901</td>\n",
       "    </tr>\n",
       "    <tr>\n",
       "      <th>Belgium</th>\n",
       "      <td>11.4</td>\n",
       "      <td>Brussels</td>\n",
       "      <td>0.916</td>\n",
       "    </tr>\n",
       "    <tr>\n",
       "      <th>Finland</th>\n",
       "      <td>5.5</td>\n",
       "      <td>Helsinki</td>\n",
       "      <td>NaN</td>\n",
       "    </tr>\n",
       "  </tbody>\n",
       "</table>\n",
       "</div>"
      ],
      "text/plain": [
       "         Population (M)   Capital    HDI\n",
       "Country                                 \n",
       "Germany            82.8    Berlin  0.936\n",
       "France             67.2     Paris  0.901\n",
       "Belgium            11.4  Brussels  0.916\n",
       "Finland             5.5  Helsinki    NaN"
      ]
     },
     "execution_count": 14,
     "metadata": {},
     "output_type": "execute_result"
    }
   ],
   "source": [
    "aa_df.join(bb_df)"
   ]
  },
  {
   "cell_type": "markdown",
   "metadata": {},
   "source": [
    "## Concat Practice"
   ]
  },
  {
   "cell_type": "code",
   "execution_count": 15,
   "metadata": {
    "execution": {
     "iopub.execute_input": "2025-07-08T20:30:18.143328Z",
     "iopub.status.busy": "2025-07-08T20:30:18.143081Z",
     "iopub.status.idle": "2025-07-08T20:30:18.159491Z",
     "shell.execute_reply": "2025-07-08T20:30:18.158464Z",
     "shell.execute_reply.started": "2025-07-08T20:30:18.143305Z"
    }
   },
   "outputs": [
    {
     "data": {
      "text/html": [
       "<div>\n",
       "<style scoped>\n",
       "    .dataframe tbody tr th:only-of-type {\n",
       "        vertical-align: middle;\n",
       "    }\n",
       "\n",
       "    .dataframe tbody tr th {\n",
       "        vertical-align: top;\n",
       "    }\n",
       "\n",
       "    .dataframe thead th {\n",
       "        text-align: right;\n",
       "    }\n",
       "</style>\n",
       "<table border=\"1\" class=\"dataframe\">\n",
       "  <thead>\n",
       "    <tr style=\"text-align: right;\">\n",
       "      <th></th>\n",
       "      <th>Country</th>\n",
       "      <th>Population (M)</th>\n",
       "      <th>Capital</th>\n",
       "      <th>HDI</th>\n",
       "    </tr>\n",
       "  </thead>\n",
       "  <tbody>\n",
       "    <tr>\n",
       "      <th>0</th>\n",
       "      <td>Germany</td>\n",
       "      <td>82.8</td>\n",
       "      <td>Berlin</td>\n",
       "      <td>NaN</td>\n",
       "    </tr>\n",
       "    <tr>\n",
       "      <th>1</th>\n",
       "      <td>France</td>\n",
       "      <td>67.2</td>\n",
       "      <td>Paris</td>\n",
       "      <td>NaN</td>\n",
       "    </tr>\n",
       "    <tr>\n",
       "      <th>2</th>\n",
       "      <td>Belgium</td>\n",
       "      <td>11.4</td>\n",
       "      <td>Brussels</td>\n",
       "      <td>NaN</td>\n",
       "    </tr>\n",
       "    <tr>\n",
       "      <th>3</th>\n",
       "      <td>Finland</td>\n",
       "      <td>5.5</td>\n",
       "      <td>Helsinki</td>\n",
       "      <td>NaN</td>\n",
       "    </tr>\n",
       "    <tr>\n",
       "      <th>0</th>\n",
       "      <td>Germany</td>\n",
       "      <td>NaN</td>\n",
       "      <td>NaN</td>\n",
       "      <td>0.936</td>\n",
       "    </tr>\n",
       "    <tr>\n",
       "      <th>1</th>\n",
       "      <td>France</td>\n",
       "      <td>NaN</td>\n",
       "      <td>NaN</td>\n",
       "      <td>0.901</td>\n",
       "    </tr>\n",
       "    <tr>\n",
       "      <th>2</th>\n",
       "      <td>Belgium</td>\n",
       "      <td>NaN</td>\n",
       "      <td>NaN</td>\n",
       "      <td>0.916</td>\n",
       "    </tr>\n",
       "    <tr>\n",
       "      <th>3</th>\n",
       "      <td>Canada</td>\n",
       "      <td>NaN</td>\n",
       "      <td>NaN</td>\n",
       "      <td>0.926</td>\n",
       "    </tr>\n",
       "  </tbody>\n",
       "</table>\n",
       "</div>"
      ],
      "text/plain": [
       "   Country  Population (M)   Capital    HDI\n",
       "0  Germany            82.8    Berlin    NaN\n",
       "1   France            67.2     Paris    NaN\n",
       "2  Belgium            11.4  Brussels    NaN\n",
       "3  Finland             5.5  Helsinki    NaN\n",
       "0  Germany             NaN       NaN  0.936\n",
       "1   France             NaN       NaN  0.901\n",
       "2  Belgium             NaN       NaN  0.916\n",
       "3   Canada             NaN       NaN  0.926"
      ]
     },
     "execution_count": 15,
     "metadata": {},
     "output_type": "execute_result"
    }
   ],
   "source": [
    "concat_df = pd.concat([a_df, b_df], axis=\"index\", sort=False)\n",
    "concat_df"
   ]
  },
  {
   "cell_type": "markdown",
   "metadata": {},
   "source": [
    "## Olympic Sports and Medals, 1896-2014"
   ]
  },
  {
   "cell_type": "code",
   "execution_count": 17,
   "metadata": {
    "execution": {
     "iopub.execute_input": "2025-07-08T20:32:12.041028Z",
     "iopub.status.busy": "2025-07-08T20:32:12.040341Z",
     "iopub.status.idle": "2025-07-08T20:32:12.058987Z",
     "shell.execute_reply": "2025-07-08T20:32:12.057948Z",
     "shell.execute_reply.started": "2025-07-08T20:32:12.040944Z"
    }
   },
   "outputs": [
    {
     "data": {
      "text/html": [
       "<div>\n",
       "<style scoped>\n",
       "    .dataframe tbody tr th:only-of-type {\n",
       "        vertical-align: middle;\n",
       "    }\n",
       "\n",
       "    .dataframe tbody tr th {\n",
       "        vertical-align: top;\n",
       "    }\n",
       "\n",
       "    .dataframe thead th {\n",
       "        text-align: right;\n",
       "    }\n",
       "</style>\n",
       "<table border=\"1\" class=\"dataframe\">\n",
       "  <thead>\n",
       "    <tr style=\"text-align: right;\">\n",
       "      <th></th>\n",
       "      <th>Country</th>\n",
       "      <th>Code</th>\n",
       "      <th>Population</th>\n",
       "      <th>GDP per Capita</th>\n",
       "    </tr>\n",
       "  </thead>\n",
       "  <tbody>\n",
       "    <tr>\n",
       "      <th>0</th>\n",
       "      <td>Afghanistan</td>\n",
       "      <td>AFG</td>\n",
       "      <td>32526562.0</td>\n",
       "      <td>594.323081</td>\n",
       "    </tr>\n",
       "    <tr>\n",
       "      <th>1</th>\n",
       "      <td>Albania</td>\n",
       "      <td>ALB</td>\n",
       "      <td>2889167.0</td>\n",
       "      <td>3945.217582</td>\n",
       "    </tr>\n",
       "    <tr>\n",
       "      <th>2</th>\n",
       "      <td>Algeria</td>\n",
       "      <td>ALG</td>\n",
       "      <td>39666519.0</td>\n",
       "      <td>4206.031232</td>\n",
       "    </tr>\n",
       "    <tr>\n",
       "      <th>3</th>\n",
       "      <td>American Samoa*</td>\n",
       "      <td>ASA</td>\n",
       "      <td>55538.0</td>\n",
       "      <td>NaN</td>\n",
       "    </tr>\n",
       "    <tr>\n",
       "      <th>4</th>\n",
       "      <td>Andorra</td>\n",
       "      <td>AND</td>\n",
       "      <td>70473.0</td>\n",
       "      <td>NaN</td>\n",
       "    </tr>\n",
       "  </tbody>\n",
       "</table>\n",
       "</div>"
      ],
      "text/plain": [
       "           Country Code  Population  GDP per Capita\n",
       "0      Afghanistan  AFG  32526562.0      594.323081\n",
       "1          Albania  ALB   2889167.0     3945.217582\n",
       "2          Algeria  ALG  39666519.0     4206.031232\n",
       "3  American Samoa*  ASA     55538.0             NaN\n",
       "4          Andorra  AND     70473.0             NaN"
      ]
     },
     "execution_count": 17,
     "metadata": {},
     "output_type": "execute_result"
    }
   ],
   "source": [
    "countries_df = pd.read_csv('dictionary.csv')\n",
    "countries_df.head()"
   ]
  },
  {
   "cell_type": "code",
   "execution_count": 18,
   "metadata": {
    "execution": {
     "iopub.execute_input": "2025-07-08T20:32:14.360779Z",
     "iopub.status.busy": "2025-07-08T20:32:14.360081Z",
     "iopub.status.idle": "2025-07-08T20:32:14.479584Z",
     "shell.execute_reply": "2025-07-08T20:32:14.478470Z",
     "shell.execute_reply.started": "2025-07-08T20:32:14.360722Z"
    }
   },
   "outputs": [
    {
     "data": {
      "text/html": [
       "<div>\n",
       "<style scoped>\n",
       "    .dataframe tbody tr th:only-of-type {\n",
       "        vertical-align: middle;\n",
       "    }\n",
       "\n",
       "    .dataframe tbody tr th {\n",
       "        vertical-align: top;\n",
       "    }\n",
       "\n",
       "    .dataframe thead th {\n",
       "        text-align: right;\n",
       "    }\n",
       "</style>\n",
       "<table border=\"1\" class=\"dataframe\">\n",
       "  <thead>\n",
       "    <tr style=\"text-align: right;\">\n",
       "      <th></th>\n",
       "      <th>Year</th>\n",
       "      <th>City</th>\n",
       "      <th>Sport</th>\n",
       "      <th>Discipline</th>\n",
       "      <th>Athlete</th>\n",
       "      <th>Code</th>\n",
       "      <th>Gender</th>\n",
       "      <th>Event</th>\n",
       "      <th>Medal</th>\n",
       "    </tr>\n",
       "  </thead>\n",
       "  <tbody>\n",
       "    <tr>\n",
       "      <th>0</th>\n",
       "      <td>1896</td>\n",
       "      <td>Athens</td>\n",
       "      <td>Aquatics</td>\n",
       "      <td>Swimming</td>\n",
       "      <td>HAJOS, Alfred</td>\n",
       "      <td>HUN</td>\n",
       "      <td>Men</td>\n",
       "      <td>100M Freestyle</td>\n",
       "      <td>Gold</td>\n",
       "    </tr>\n",
       "    <tr>\n",
       "      <th>1</th>\n",
       "      <td>1896</td>\n",
       "      <td>Athens</td>\n",
       "      <td>Aquatics</td>\n",
       "      <td>Swimming</td>\n",
       "      <td>HERSCHMANN, Otto</td>\n",
       "      <td>AUT</td>\n",
       "      <td>Men</td>\n",
       "      <td>100M Freestyle</td>\n",
       "      <td>Silver</td>\n",
       "    </tr>\n",
       "    <tr>\n",
       "      <th>2</th>\n",
       "      <td>1896</td>\n",
       "      <td>Athens</td>\n",
       "      <td>Aquatics</td>\n",
       "      <td>Swimming</td>\n",
       "      <td>DRIVAS, Dimitrios</td>\n",
       "      <td>GRE</td>\n",
       "      <td>Men</td>\n",
       "      <td>100M Freestyle For Sailors</td>\n",
       "      <td>Bronze</td>\n",
       "    </tr>\n",
       "    <tr>\n",
       "      <th>3</th>\n",
       "      <td>1896</td>\n",
       "      <td>Athens</td>\n",
       "      <td>Aquatics</td>\n",
       "      <td>Swimming</td>\n",
       "      <td>MALOKINIS, Ioannis</td>\n",
       "      <td>GRE</td>\n",
       "      <td>Men</td>\n",
       "      <td>100M Freestyle For Sailors</td>\n",
       "      <td>Gold</td>\n",
       "    </tr>\n",
       "    <tr>\n",
       "      <th>4</th>\n",
       "      <td>1896</td>\n",
       "      <td>Athens</td>\n",
       "      <td>Aquatics</td>\n",
       "      <td>Swimming</td>\n",
       "      <td>CHASAPIS, Spiridon</td>\n",
       "      <td>GRE</td>\n",
       "      <td>Men</td>\n",
       "      <td>100M Freestyle For Sailors</td>\n",
       "      <td>Silver</td>\n",
       "    </tr>\n",
       "  </tbody>\n",
       "</table>\n",
       "</div>"
      ],
      "text/plain": [
       "   Year    City     Sport Discipline             Athlete Code Gender  \\\n",
       "0  1896  Athens  Aquatics   Swimming       HAJOS, Alfred  HUN    Men   \n",
       "1  1896  Athens  Aquatics   Swimming    HERSCHMANN, Otto  AUT    Men   \n",
       "2  1896  Athens  Aquatics   Swimming   DRIVAS, Dimitrios  GRE    Men   \n",
       "3  1896  Athens  Aquatics   Swimming  MALOKINIS, Ioannis  GRE    Men   \n",
       "4  1896  Athens  Aquatics   Swimming  CHASAPIS, Spiridon  GRE    Men   \n",
       "\n",
       "                        Event   Medal  \n",
       "0              100M Freestyle    Gold  \n",
       "1              100M Freestyle  Silver  \n",
       "2  100M Freestyle For Sailors  Bronze  \n",
       "3  100M Freestyle For Sailors    Gold  \n",
       "4  100M Freestyle For Sailors  Silver  "
      ]
     },
     "execution_count": 18,
     "metadata": {},
     "output_type": "execute_result"
    }
   ],
   "source": [
    "summer_df = pd.read_csv('summer.csv')\n",
    "summer_df.rename(columns={\"Country\": \"Code\"}, inplace=True)\n",
    "summer_df.head()"
   ]
  },
  {
   "cell_type": "code",
   "execution_count": 19,
   "metadata": {
    "execution": {
     "iopub.execute_input": "2025-07-08T20:32:19.481044Z",
     "iopub.status.busy": "2025-07-08T20:32:19.480253Z",
     "iopub.status.idle": "2025-07-08T20:32:19.510373Z",
     "shell.execute_reply": "2025-07-08T20:32:19.509489Z",
     "shell.execute_reply.started": "2025-07-08T20:32:19.480986Z"
    }
   },
   "outputs": [
    {
     "data": {
      "text/html": [
       "<div>\n",
       "<style scoped>\n",
       "    .dataframe tbody tr th:only-of-type {\n",
       "        vertical-align: middle;\n",
       "    }\n",
       "\n",
       "    .dataframe tbody tr th {\n",
       "        vertical-align: top;\n",
       "    }\n",
       "\n",
       "    .dataframe thead th {\n",
       "        text-align: right;\n",
       "    }\n",
       "</style>\n",
       "<table border=\"1\" class=\"dataframe\">\n",
       "  <thead>\n",
       "    <tr style=\"text-align: right;\">\n",
       "      <th></th>\n",
       "      <th>Year</th>\n",
       "      <th>City</th>\n",
       "      <th>Sport</th>\n",
       "      <th>Discipline</th>\n",
       "      <th>Athlete</th>\n",
       "      <th>Code</th>\n",
       "      <th>Gender</th>\n",
       "      <th>Event</th>\n",
       "      <th>Medal</th>\n",
       "    </tr>\n",
       "  </thead>\n",
       "  <tbody>\n",
       "    <tr>\n",
       "      <th>0</th>\n",
       "      <td>1924</td>\n",
       "      <td>Chamonix</td>\n",
       "      <td>Biathlon</td>\n",
       "      <td>Biathlon</td>\n",
       "      <td>BERTHET, G.</td>\n",
       "      <td>FRA</td>\n",
       "      <td>Men</td>\n",
       "      <td>Military Patrol</td>\n",
       "      <td>Bronze</td>\n",
       "    </tr>\n",
       "    <tr>\n",
       "      <th>1</th>\n",
       "      <td>1924</td>\n",
       "      <td>Chamonix</td>\n",
       "      <td>Biathlon</td>\n",
       "      <td>Biathlon</td>\n",
       "      <td>MANDRILLON, C.</td>\n",
       "      <td>FRA</td>\n",
       "      <td>Men</td>\n",
       "      <td>Military Patrol</td>\n",
       "      <td>Bronze</td>\n",
       "    </tr>\n",
       "    <tr>\n",
       "      <th>2</th>\n",
       "      <td>1924</td>\n",
       "      <td>Chamonix</td>\n",
       "      <td>Biathlon</td>\n",
       "      <td>Biathlon</td>\n",
       "      <td>MANDRILLON, Maurice</td>\n",
       "      <td>FRA</td>\n",
       "      <td>Men</td>\n",
       "      <td>Military Patrol</td>\n",
       "      <td>Bronze</td>\n",
       "    </tr>\n",
       "    <tr>\n",
       "      <th>3</th>\n",
       "      <td>1924</td>\n",
       "      <td>Chamonix</td>\n",
       "      <td>Biathlon</td>\n",
       "      <td>Biathlon</td>\n",
       "      <td>VANDELLE, André</td>\n",
       "      <td>FRA</td>\n",
       "      <td>Men</td>\n",
       "      <td>Military Patrol</td>\n",
       "      <td>Bronze</td>\n",
       "    </tr>\n",
       "    <tr>\n",
       "      <th>4</th>\n",
       "      <td>1924</td>\n",
       "      <td>Chamonix</td>\n",
       "      <td>Biathlon</td>\n",
       "      <td>Biathlon</td>\n",
       "      <td>AUFDENBLATTEN, Adolf</td>\n",
       "      <td>SUI</td>\n",
       "      <td>Men</td>\n",
       "      <td>Military Patrol</td>\n",
       "      <td>Gold</td>\n",
       "    </tr>\n",
       "  </tbody>\n",
       "</table>\n",
       "</div>"
      ],
      "text/plain": [
       "   Year      City     Sport Discipline               Athlete Code Gender  \\\n",
       "0  1924  Chamonix  Biathlon   Biathlon           BERTHET, G.  FRA    Men   \n",
       "1  1924  Chamonix  Biathlon   Biathlon        MANDRILLON, C.  FRA    Men   \n",
       "2  1924  Chamonix  Biathlon   Biathlon   MANDRILLON, Maurice  FRA    Men   \n",
       "3  1924  Chamonix  Biathlon   Biathlon       VANDELLE, André  FRA    Men   \n",
       "4  1924  Chamonix  Biathlon   Biathlon  AUFDENBLATTEN, Adolf  SUI    Men   \n",
       "\n",
       "             Event   Medal  \n",
       "0  Military Patrol  Bronze  \n",
       "1  Military Patrol  Bronze  \n",
       "2  Military Patrol  Bronze  \n",
       "3  Military Patrol  Bronze  \n",
       "4  Military Patrol    Gold  "
      ]
     },
     "execution_count": 19,
     "metadata": {},
     "output_type": "execute_result"
    }
   ],
   "source": [
    "winter_df = pd.read_csv('winter.csv')\n",
    "winter_df.rename(columns={\"Country\": \"Code\"}, inplace=True)\n",
    "winter_df.head()"
   ]
  },
  {
   "cell_type": "markdown",
   "metadata": {},
   "source": [
    "### Combining The Data"
   ]
  },
  {
   "cell_type": "code",
   "execution_count": 20,
   "metadata": {
    "execution": {
     "iopub.execute_input": "2025-07-08T20:32:20.879864Z",
     "iopub.status.busy": "2025-07-08T20:32:20.878525Z",
     "iopub.status.idle": "2025-07-08T20:32:20.916699Z",
     "shell.execute_reply": "2025-07-08T20:32:20.914974Z",
     "shell.execute_reply.started": "2025-07-08T20:32:20.879802Z"
    }
   },
   "outputs": [
    {
     "data": {
      "text/html": [
       "<div>\n",
       "<style scoped>\n",
       "    .dataframe tbody tr th:only-of-type {\n",
       "        vertical-align: middle;\n",
       "    }\n",
       "\n",
       "    .dataframe tbody tr th {\n",
       "        vertical-align: top;\n",
       "    }\n",
       "\n",
       "    .dataframe thead th {\n",
       "        text-align: right;\n",
       "    }\n",
       "</style>\n",
       "<table border=\"1\" class=\"dataframe\">\n",
       "  <thead>\n",
       "    <tr style=\"text-align: right;\">\n",
       "      <th></th>\n",
       "      <th>Year</th>\n",
       "      <th>City</th>\n",
       "      <th>Sport</th>\n",
       "      <th>Discipline</th>\n",
       "      <th>Athlete</th>\n",
       "      <th>Code</th>\n",
       "      <th>Gender</th>\n",
       "      <th>Event</th>\n",
       "      <th>Medal</th>\n",
       "      <th>Country</th>\n",
       "      <th>Population</th>\n",
       "      <th>GDP per Capita</th>\n",
       "      <th>Season</th>\n",
       "    </tr>\n",
       "  </thead>\n",
       "  <tbody>\n",
       "    <tr>\n",
       "      <th>0</th>\n",
       "      <td>1896</td>\n",
       "      <td>Athens</td>\n",
       "      <td>Aquatics</td>\n",
       "      <td>Swimming</td>\n",
       "      <td>HAJOS, Alfred</td>\n",
       "      <td>HUN</td>\n",
       "      <td>Men</td>\n",
       "      <td>100M Freestyle</td>\n",
       "      <td>Gold</td>\n",
       "      <td>Hungary</td>\n",
       "      <td>9844686.0</td>\n",
       "      <td>12363.543460</td>\n",
       "      <td>Summer</td>\n",
       "    </tr>\n",
       "    <tr>\n",
       "      <th>1</th>\n",
       "      <td>1896</td>\n",
       "      <td>Athens</td>\n",
       "      <td>Aquatics</td>\n",
       "      <td>Swimming</td>\n",
       "      <td>HERSCHMANN, Otto</td>\n",
       "      <td>AUT</td>\n",
       "      <td>Men</td>\n",
       "      <td>100M Freestyle</td>\n",
       "      <td>Silver</td>\n",
       "      <td>Austria</td>\n",
       "      <td>8611088.0</td>\n",
       "      <td>43774.985174</td>\n",
       "      <td>Summer</td>\n",
       "    </tr>\n",
       "    <tr>\n",
       "      <th>2</th>\n",
       "      <td>1896</td>\n",
       "      <td>Athens</td>\n",
       "      <td>Aquatics</td>\n",
       "      <td>Swimming</td>\n",
       "      <td>DRIVAS, Dimitrios</td>\n",
       "      <td>GRE</td>\n",
       "      <td>Men</td>\n",
       "      <td>100M Freestyle For Sailors</td>\n",
       "      <td>Bronze</td>\n",
       "      <td>Greece</td>\n",
       "      <td>10823732.0</td>\n",
       "      <td>18002.230578</td>\n",
       "      <td>Summer</td>\n",
       "    </tr>\n",
       "    <tr>\n",
       "      <th>3</th>\n",
       "      <td>1896</td>\n",
       "      <td>Athens</td>\n",
       "      <td>Aquatics</td>\n",
       "      <td>Swimming</td>\n",
       "      <td>MALOKINIS, Ioannis</td>\n",
       "      <td>GRE</td>\n",
       "      <td>Men</td>\n",
       "      <td>100M Freestyle For Sailors</td>\n",
       "      <td>Gold</td>\n",
       "      <td>Greece</td>\n",
       "      <td>10823732.0</td>\n",
       "      <td>18002.230578</td>\n",
       "      <td>Summer</td>\n",
       "    </tr>\n",
       "    <tr>\n",
       "      <th>4</th>\n",
       "      <td>1896</td>\n",
       "      <td>Athens</td>\n",
       "      <td>Aquatics</td>\n",
       "      <td>Swimming</td>\n",
       "      <td>CHASAPIS, Spiridon</td>\n",
       "      <td>GRE</td>\n",
       "      <td>Men</td>\n",
       "      <td>100M Freestyle For Sailors</td>\n",
       "      <td>Silver</td>\n",
       "      <td>Greece</td>\n",
       "      <td>10823732.0</td>\n",
       "      <td>18002.230578</td>\n",
       "      <td>Summer</td>\n",
       "    </tr>\n",
       "  </tbody>\n",
       "</table>\n",
       "</div>"
      ],
      "text/plain": [
       "   Year    City     Sport Discipline             Athlete Code Gender  \\\n",
       "0  1896  Athens  Aquatics   Swimming       HAJOS, Alfred  HUN    Men   \n",
       "1  1896  Athens  Aquatics   Swimming    HERSCHMANN, Otto  AUT    Men   \n",
       "2  1896  Athens  Aquatics   Swimming   DRIVAS, Dimitrios  GRE    Men   \n",
       "3  1896  Athens  Aquatics   Swimming  MALOKINIS, Ioannis  GRE    Men   \n",
       "4  1896  Athens  Aquatics   Swimming  CHASAPIS, Spiridon  GRE    Men   \n",
       "\n",
       "                        Event   Medal  Country  Population  GDP per Capita  \\\n",
       "0              100M Freestyle    Gold  Hungary   9844686.0    12363.543460   \n",
       "1              100M Freestyle  Silver  Austria   8611088.0    43774.985174   \n",
       "2  100M Freestyle For Sailors  Bronze   Greece  10823732.0    18002.230578   \n",
       "3  100M Freestyle For Sailors    Gold   Greece  10823732.0    18002.230578   \n",
       "4  100M Freestyle For Sailors  Silver   Greece  10823732.0    18002.230578   \n",
       "\n",
       "   Season  \n",
       "0  Summer  \n",
       "1  Summer  \n",
       "2  Summer  \n",
       "3  Summer  \n",
       "4  Summer  "
      ]
     },
     "execution_count": 20,
     "metadata": {},
     "output_type": "execute_result"
    }
   ],
   "source": [
    "summer_countries_df = summer_df.merge(countries_df, on=\"Code\")\n",
    "summer_countries_df[\"Season\"] = \"Summer\"\n",
    "summer_countries_df.head()"
   ]
  },
  {
   "cell_type": "code",
   "execution_count": 21,
   "metadata": {
    "execution": {
     "iopub.execute_input": "2025-07-08T20:32:22.740235Z",
     "iopub.status.busy": "2025-07-08T20:32:22.739559Z",
     "iopub.status.idle": "2025-07-08T20:32:22.766696Z",
     "shell.execute_reply": "2025-07-08T20:32:22.765921Z",
     "shell.execute_reply.started": "2025-07-08T20:32:22.740178Z"
    }
   },
   "outputs": [
    {
     "data": {
      "text/html": [
       "<div>\n",
       "<style scoped>\n",
       "    .dataframe tbody tr th:only-of-type {\n",
       "        vertical-align: middle;\n",
       "    }\n",
       "\n",
       "    .dataframe tbody tr th {\n",
       "        vertical-align: top;\n",
       "    }\n",
       "\n",
       "    .dataframe thead th {\n",
       "        text-align: right;\n",
       "    }\n",
       "</style>\n",
       "<table border=\"1\" class=\"dataframe\">\n",
       "  <thead>\n",
       "    <tr style=\"text-align: right;\">\n",
       "      <th></th>\n",
       "      <th>Year</th>\n",
       "      <th>City</th>\n",
       "      <th>Sport</th>\n",
       "      <th>Discipline</th>\n",
       "      <th>Athlete</th>\n",
       "      <th>Code</th>\n",
       "      <th>Gender</th>\n",
       "      <th>Event</th>\n",
       "      <th>Medal</th>\n",
       "      <th>Country</th>\n",
       "      <th>Population</th>\n",
       "      <th>GDP per Capita</th>\n",
       "      <th>Season</th>\n",
       "    </tr>\n",
       "  </thead>\n",
       "  <tbody>\n",
       "    <tr>\n",
       "      <th>0</th>\n",
       "      <td>1924</td>\n",
       "      <td>Chamonix</td>\n",
       "      <td>Biathlon</td>\n",
       "      <td>Biathlon</td>\n",
       "      <td>BERTHET, G.</td>\n",
       "      <td>FRA</td>\n",
       "      <td>Men</td>\n",
       "      <td>Military Patrol</td>\n",
       "      <td>Bronze</td>\n",
       "      <td>France</td>\n",
       "      <td>66808385.0</td>\n",
       "      <td>36205.568102</td>\n",
       "      <td>Winter</td>\n",
       "    </tr>\n",
       "    <tr>\n",
       "      <th>1</th>\n",
       "      <td>1924</td>\n",
       "      <td>Chamonix</td>\n",
       "      <td>Biathlon</td>\n",
       "      <td>Biathlon</td>\n",
       "      <td>MANDRILLON, C.</td>\n",
       "      <td>FRA</td>\n",
       "      <td>Men</td>\n",
       "      <td>Military Patrol</td>\n",
       "      <td>Bronze</td>\n",
       "      <td>France</td>\n",
       "      <td>66808385.0</td>\n",
       "      <td>36205.568102</td>\n",
       "      <td>Winter</td>\n",
       "    </tr>\n",
       "    <tr>\n",
       "      <th>2</th>\n",
       "      <td>1924</td>\n",
       "      <td>Chamonix</td>\n",
       "      <td>Biathlon</td>\n",
       "      <td>Biathlon</td>\n",
       "      <td>MANDRILLON, Maurice</td>\n",
       "      <td>FRA</td>\n",
       "      <td>Men</td>\n",
       "      <td>Military Patrol</td>\n",
       "      <td>Bronze</td>\n",
       "      <td>France</td>\n",
       "      <td>66808385.0</td>\n",
       "      <td>36205.568102</td>\n",
       "      <td>Winter</td>\n",
       "    </tr>\n",
       "    <tr>\n",
       "      <th>3</th>\n",
       "      <td>1924</td>\n",
       "      <td>Chamonix</td>\n",
       "      <td>Biathlon</td>\n",
       "      <td>Biathlon</td>\n",
       "      <td>VANDELLE, André</td>\n",
       "      <td>FRA</td>\n",
       "      <td>Men</td>\n",
       "      <td>Military Patrol</td>\n",
       "      <td>Bronze</td>\n",
       "      <td>France</td>\n",
       "      <td>66808385.0</td>\n",
       "      <td>36205.568102</td>\n",
       "      <td>Winter</td>\n",
       "    </tr>\n",
       "    <tr>\n",
       "      <th>4</th>\n",
       "      <td>1924</td>\n",
       "      <td>Chamonix</td>\n",
       "      <td>Biathlon</td>\n",
       "      <td>Biathlon</td>\n",
       "      <td>AUFDENBLATTEN, Adolf</td>\n",
       "      <td>SUI</td>\n",
       "      <td>Men</td>\n",
       "      <td>Military Patrol</td>\n",
       "      <td>Gold</td>\n",
       "      <td>Switzerland</td>\n",
       "      <td>8286976.0</td>\n",
       "      <td>80945.079219</td>\n",
       "      <td>Winter</td>\n",
       "    </tr>\n",
       "  </tbody>\n",
       "</table>\n",
       "</div>"
      ],
      "text/plain": [
       "   Year      City     Sport Discipline               Athlete Code Gender  \\\n",
       "0  1924  Chamonix  Biathlon   Biathlon           BERTHET, G.  FRA    Men   \n",
       "1  1924  Chamonix  Biathlon   Biathlon        MANDRILLON, C.  FRA    Men   \n",
       "2  1924  Chamonix  Biathlon   Biathlon   MANDRILLON, Maurice  FRA    Men   \n",
       "3  1924  Chamonix  Biathlon   Biathlon       VANDELLE, André  FRA    Men   \n",
       "4  1924  Chamonix  Biathlon   Biathlon  AUFDENBLATTEN, Adolf  SUI    Men   \n",
       "\n",
       "             Event   Medal      Country  Population  GDP per Capita  Season  \n",
       "0  Military Patrol  Bronze       France  66808385.0    36205.568102  Winter  \n",
       "1  Military Patrol  Bronze       France  66808385.0    36205.568102  Winter  \n",
       "2  Military Patrol  Bronze       France  66808385.0    36205.568102  Winter  \n",
       "3  Military Patrol  Bronze       France  66808385.0    36205.568102  Winter  \n",
       "4  Military Patrol    Gold  Switzerland   8286976.0    80945.079219  Winter  "
      ]
     },
     "execution_count": 21,
     "metadata": {},
     "output_type": "execute_result"
    }
   ],
   "source": [
    "winter_countries_df = winter_df.merge(countries_df, on=\"Code\")\n",
    "winter_countries_df[\"Season\"] = \"Winter\"\n",
    "winter_countries_df.head()"
   ]
  },
  {
   "cell_type": "code",
   "execution_count": 22,
   "metadata": {
    "execution": {
     "iopub.execute_input": "2025-07-08T20:32:25.861998Z",
     "iopub.status.busy": "2025-07-08T20:32:25.860270Z",
     "iopub.status.idle": "2025-07-08T20:32:25.888043Z",
     "shell.execute_reply": "2025-07-08T20:32:25.887057Z",
     "shell.execute_reply.started": "2025-07-08T20:32:25.861931Z"
    }
   },
   "outputs": [
    {
     "data": {
      "text/html": [
       "<div>\n",
       "<style scoped>\n",
       "    .dataframe tbody tr th:only-of-type {\n",
       "        vertical-align: middle;\n",
       "    }\n",
       "\n",
       "    .dataframe tbody tr th {\n",
       "        vertical-align: top;\n",
       "    }\n",
       "\n",
       "    .dataframe thead th {\n",
       "        text-align: right;\n",
       "    }\n",
       "</style>\n",
       "<table border=\"1\" class=\"dataframe\">\n",
       "  <thead>\n",
       "    <tr style=\"text-align: right;\">\n",
       "      <th></th>\n",
       "      <th>Year</th>\n",
       "      <th>City</th>\n",
       "      <th>Sport</th>\n",
       "      <th>Discipline</th>\n",
       "      <th>Athlete</th>\n",
       "      <th>Code</th>\n",
       "      <th>Gender</th>\n",
       "      <th>Event</th>\n",
       "      <th>Medal</th>\n",
       "      <th>Country</th>\n",
       "      <th>Population</th>\n",
       "      <th>GDP per Capita</th>\n",
       "      <th>Season</th>\n",
       "    </tr>\n",
       "  </thead>\n",
       "  <tbody>\n",
       "    <tr>\n",
       "      <th>0</th>\n",
       "      <td>1896</td>\n",
       "      <td>Athens</td>\n",
       "      <td>Aquatics</td>\n",
       "      <td>Swimming</td>\n",
       "      <td>HAJOS, Alfred</td>\n",
       "      <td>HUN</td>\n",
       "      <td>Men</td>\n",
       "      <td>100M Freestyle</td>\n",
       "      <td>Gold</td>\n",
       "      <td>Hungary</td>\n",
       "      <td>9844686.0</td>\n",
       "      <td>12363.543460</td>\n",
       "      <td>Summer</td>\n",
       "    </tr>\n",
       "    <tr>\n",
       "      <th>1</th>\n",
       "      <td>1896</td>\n",
       "      <td>Athens</td>\n",
       "      <td>Aquatics</td>\n",
       "      <td>Swimming</td>\n",
       "      <td>HERSCHMANN, Otto</td>\n",
       "      <td>AUT</td>\n",
       "      <td>Men</td>\n",
       "      <td>100M Freestyle</td>\n",
       "      <td>Silver</td>\n",
       "      <td>Austria</td>\n",
       "      <td>8611088.0</td>\n",
       "      <td>43774.985174</td>\n",
       "      <td>Summer</td>\n",
       "    </tr>\n",
       "    <tr>\n",
       "      <th>2</th>\n",
       "      <td>1896</td>\n",
       "      <td>Athens</td>\n",
       "      <td>Aquatics</td>\n",
       "      <td>Swimming</td>\n",
       "      <td>DRIVAS, Dimitrios</td>\n",
       "      <td>GRE</td>\n",
       "      <td>Men</td>\n",
       "      <td>100M Freestyle For Sailors</td>\n",
       "      <td>Bronze</td>\n",
       "      <td>Greece</td>\n",
       "      <td>10823732.0</td>\n",
       "      <td>18002.230578</td>\n",
       "      <td>Summer</td>\n",
       "    </tr>\n",
       "    <tr>\n",
       "      <th>3</th>\n",
       "      <td>1896</td>\n",
       "      <td>Athens</td>\n",
       "      <td>Aquatics</td>\n",
       "      <td>Swimming</td>\n",
       "      <td>MALOKINIS, Ioannis</td>\n",
       "      <td>GRE</td>\n",
       "      <td>Men</td>\n",
       "      <td>100M Freestyle For Sailors</td>\n",
       "      <td>Gold</td>\n",
       "      <td>Greece</td>\n",
       "      <td>10823732.0</td>\n",
       "      <td>18002.230578</td>\n",
       "      <td>Summer</td>\n",
       "    </tr>\n",
       "    <tr>\n",
       "      <th>4</th>\n",
       "      <td>1896</td>\n",
       "      <td>Athens</td>\n",
       "      <td>Aquatics</td>\n",
       "      <td>Swimming</td>\n",
       "      <td>CHASAPIS, Spiridon</td>\n",
       "      <td>GRE</td>\n",
       "      <td>Men</td>\n",
       "      <td>100M Freestyle For Sailors</td>\n",
       "      <td>Silver</td>\n",
       "      <td>Greece</td>\n",
       "      <td>10823732.0</td>\n",
       "      <td>18002.230578</td>\n",
       "      <td>Summer</td>\n",
       "    </tr>\n",
       "  </tbody>\n",
       "</table>\n",
       "</div>"
      ],
      "text/plain": [
       "   Year    City     Sport Discipline             Athlete Code Gender  \\\n",
       "0  1896  Athens  Aquatics   Swimming       HAJOS, Alfred  HUN    Men   \n",
       "1  1896  Athens  Aquatics   Swimming    HERSCHMANN, Otto  AUT    Men   \n",
       "2  1896  Athens  Aquatics   Swimming   DRIVAS, Dimitrios  GRE    Men   \n",
       "3  1896  Athens  Aquatics   Swimming  MALOKINIS, Ioannis  GRE    Men   \n",
       "4  1896  Athens  Aquatics   Swimming  CHASAPIS, Spiridon  GRE    Men   \n",
       "\n",
       "                        Event   Medal  Country  Population  GDP per Capita  \\\n",
       "0              100M Freestyle    Gold  Hungary   9844686.0    12363.543460   \n",
       "1              100M Freestyle  Silver  Austria   8611088.0    43774.985174   \n",
       "2  100M Freestyle For Sailors  Bronze   Greece  10823732.0    18002.230578   \n",
       "3  100M Freestyle For Sailors    Gold   Greece  10823732.0    18002.230578   \n",
       "4  100M Freestyle For Sailors  Silver   Greece  10823732.0    18002.230578   \n",
       "\n",
       "   Season  \n",
       "0  Summer  \n",
       "1  Summer  \n",
       "2  Summer  \n",
       "3  Summer  \n",
       "4  Summer  "
      ]
     },
     "execution_count": 22,
     "metadata": {},
     "output_type": "execute_result"
    }
   ],
   "source": [
    "all_df = pd.concat([summer_countries_df, winter_countries_df], sort=False)\n",
    "all_df.head()"
   ]
  },
  {
   "cell_type": "markdown",
   "metadata": {},
   "source": [
    "#### Check your code"
   ]
  },
  {
   "cell_type": "code",
   "execution_count": 23,
   "metadata": {
    "execution": {
     "iopub.execute_input": "2025-07-08T20:32:27.255679Z",
     "iopub.status.busy": "2025-07-08T20:32:27.255125Z",
     "iopub.status.idle": "2025-07-08T20:32:27.668028Z",
     "shell.execute_reply": "2025-07-08T20:32:27.667006Z",
     "shell.execute_reply.started": "2025-07-08T20:32:27.255630Z"
    }
   },
   "outputs": [
    {
     "name": "stdout",
     "output_type": "stream",
     "text": [
      "\n",
      "\u001b[1m============================= test session starts ==============================\u001b[0m\n",
      "platform darwin -- Python 3.10.6, pytest-8.3.4, pluggy-1.5.0 -- /Users/bouchrakostet/.pyenv/versions/3.10.6/envs/lewagon/bin/python\n",
      "cachedir: .pytest_cache\n",
      "rootdir: /Users/bouchrakostet/code/lewagon/02-Data-Toolkit/01-Data-Analysis/data-multiple-files-with-pandas\n",
      "configfile: pytest.ini\n",
      "plugins: asyncio-0.19.0, anyio-4.8.0, typeguard-4.4.2\n",
      "asyncio: mode=strict\n",
      "\u001b[1mcollecting ... \u001b[0mcollected 2 items\n",
      "\n",
      "test_all_df.py::TestAllDf::test_all_df_columns \u001b[32mPASSED\u001b[0m\u001b[32m                    [ 50%]\u001b[0m\n",
      "test_all_df.py::TestAllDf::test_all_df_shape \u001b[32mPASSED\u001b[0m\u001b[32m                      [100%]\u001b[0m\n",
      "\n",
      "\u001b[32m============================== \u001b[32m\u001b[1m2 passed\u001b[0m\u001b[32m in 0.02s\u001b[0m\u001b[32m ===============================\u001b[0m\n",
      "\n",
      "\n",
      "💯 You can commit your code:\n",
      "\n",
      "\u001b[1;32mgit\u001b[39m add tests/all_df.pickle\n",
      "\n",
      "\u001b[32mgit\u001b[39m commit -m \u001b[33m'Completed all_df step'\u001b[39m\n",
      "\n",
      "\u001b[32mgit\u001b[39m push origin master\n",
      "\n"
     ]
    }
   ],
   "source": [
    "from nbresult import ChallengeResult\n",
    "\n",
    "result = ChallengeResult('all_df',\n",
    "    all_df_shape=all_df.shape,\n",
    "    all_df_columns=set(all_df.columns)\n",
    ")\n",
    "result.write()\n",
    "\n",
    "print(result.check())"
   ]
  },
  {
   "cell_type": "markdown",
   "metadata": {},
   "source": [
    "### Top Countries Analysis\n"
   ]
  },
  {
   "cell_type": "code",
   "execution_count": 24,
   "metadata": {
    "execution": {
     "iopub.execute_input": "2025-07-08T20:32:30.521237Z",
     "iopub.status.busy": "2025-07-08T20:32:30.520458Z",
     "iopub.status.idle": "2025-07-08T20:32:30.598981Z",
     "shell.execute_reply": "2025-07-08T20:32:30.552958Z",
     "shell.execute_reply.started": "2025-07-08T20:32:30.521172Z"
    }
   },
   "outputs": [],
   "source": [
    "all_count_df = all_df[all_df[\"Year\"] >= 1984] \\\n",
    "    .groupby([\"Country\"]) \\\n",
    "    .count()[[\"Medal\"]] \\\n",
    "    .sort_values(by=\"Medal\", ascending=False) \\\n",
    "    .rename(columns={'Medal':'Medal Count'})\n",
    "top_10_df = all_count_df.head(10)"
   ]
  },
  {
   "cell_type": "code",
   "execution_count": 25,
   "metadata": {
    "execution": {
     "iopub.execute_input": "2025-07-08T20:32:32.221130Z",
     "iopub.status.busy": "2025-07-08T20:32:32.220134Z",
     "iopub.status.idle": "2025-07-08T20:32:32.869808Z",
     "shell.execute_reply": "2025-07-08T20:32:32.868745Z",
     "shell.execute_reply.started": "2025-07-08T20:32:32.221062Z"
    }
   },
   "outputs": [
    {
     "data": {
      "image/png": "[encoded data removed]",
      "text/plain": [
       "<Figure size 640x480 with 1 Axes>"
      ]
     },
     "metadata": {},
     "output_type": "display_data"
    }
   ],
   "source": [
    "top_10_df.plot(kind=\"bar\");"
   ]
  },
  {
   "cell_type": "markdown",
   "metadata": {},
   "source": [
    "#### Check your code"
   ]
  },
  {
   "cell_type": "code",
   "execution_count": 26,
   "metadata": {
    "execution": {
     "iopub.execute_input": "2025-07-08T20:32:35.881639Z",
     "iopub.status.busy": "2025-07-08T20:32:35.880938Z",
     "iopub.status.idle": "2025-07-08T20:32:36.384088Z",
     "shell.execute_reply": "2025-07-08T20:32:36.382447Z",
     "shell.execute_reply.started": "2025-07-08T20:32:35.881580Z"
    }
   },
   "outputs": [
    {
     "name": "stdout",
     "output_type": "stream",
     "text": [
      "\n",
      "\u001b[1m============================= test session starts ==============================\u001b[0m\n",
      "platform darwin -- Python 3.10.6, pytest-8.3.4, pluggy-1.5.0 -- /Users/bouchrakostet/.pyenv/versions/3.10.6/envs/lewagon/bin/python\n",
      "cachedir: .pytest_cache\n",
      "rootdir: /Users/bouchrakostet/code/lewagon/02-Data-Toolkit/01-Data-Analysis/data-multiple-files-with-pandas\n",
      "configfile: pytest.ini\n",
      "plugins: asyncio-0.19.0, anyio-4.8.0, typeguard-4.4.2\n",
      "asyncio: mode=strict\n",
      "\u001b[1mcollecting ... \u001b[0mcollected 1 item\n",
      "\n",
      "test_olympic_games.py::TestOlympicGames::test_top_10_countries_medals \u001b[32mPASSED\u001b[0m\u001b[32m [100%]\u001b[0m\n",
      "\n",
      "\u001b[32m============================== \u001b[32m\u001b[1m1 passed\u001b[0m\u001b[32m in 0.10s\u001b[0m\u001b[32m ===============================\u001b[0m\n",
      "\n",
      "\n",
      "💯 You can commit your code:\n",
      "\n",
      "\u001b[1;32mgit\u001b[39m add tests/olympic_games.pickle\n",
      "\n",
      "\u001b[32mgit\u001b[39m commit -m \u001b[33m'Completed olympic_games step'\u001b[39m\n",
      "\n",
      "\u001b[32mgit\u001b[39m push origin master\n",
      "\n"
     ]
    }
   ],
   "source": [
    "from nbresult import ChallengeResult\n",
    "\n",
    "result = ChallengeResult('olympic_games',\n",
    "    top_country_1=top_10_df.iloc[0]['Medal Count'],\n",
    "    top_country_10=top_10_df.iloc[9]['Medal Count'],\n",
    ")\n",
    "result.write()\n",
    "\n",
    "print(result.check())"
   ]
  },
  {
   "cell_type": "code",
   "execution_count": 27,
   "metadata": {
    "execution": {
     "iopub.execute_input": "2025-07-08T20:32:37.801463Z",
     "iopub.status.busy": "2025-07-08T20:32:37.800661Z",
     "iopub.status.idle": "2025-07-08T20:32:37.842820Z",
     "shell.execute_reply": "2025-07-08T20:32:37.841309Z",
     "shell.execute_reply.started": "2025-07-08T20:32:37.801399Z"
    }
   },
   "outputs": [],
   "source": [
    "season_count_df = all_df[all_df[\"Year\"] >= 1984].groupby([\"Country\", \"Season\"])[\"Medal\"].count().unstack()\n",
    "season_count_df.fillna(0, inplace=True)\n",
    "season_count_df[\"Summer\"] = season_count_df[\"Summer\"].astype(int)\n",
    "season_count_df[\"Winter\"] = season_count_df[\"Winter\"].astype(int)\n",
    "season_count_df['Total'] = season_count_df.sum(axis=1)\n",
    "top_10_season_df = season_count_df.sort_values(by='Total', ascending=False).head(10)"
   ]
  },
  {
   "cell_type": "code",
   "execution_count": 28,
   "metadata": {
    "execution": {
     "iopub.execute_input": "2025-07-08T20:32:38.758751Z",
     "iopub.status.busy": "2025-07-08T20:32:38.758136Z",
     "iopub.status.idle": "2025-07-08T20:32:38.984871Z",
     "shell.execute_reply": "2025-07-08T20:32:38.983502Z",
     "shell.execute_reply.started": "2025-07-08T20:32:38.758701Z"
    }
   },
   "outputs": [
    {
     "data": {
      "image/png": "[encoded data removed]",
      "text/plain": [
       "<Figure size 640x480 with 1 Axes>"
      ]
     },
     "metadata": {},
     "output_type": "display_data"
    }
   ],
   "source": [
    "top_10_season_df[['Summer', 'Winter']].plot(kind=\"bar\");"
   ]
  },
  {
   "cell_type": "markdown",
   "metadata": {},
   "source": [
    "#### Check your code"
   ]
  },
  {
   "cell_type": "code",
   "execution_count": 29,
   "metadata": {
    "execution": {
     "iopub.execute_input": "2025-07-08T20:32:42.159814Z",
     "iopub.status.busy": "2025-07-08T20:32:42.159382Z",
     "iopub.status.idle": "2025-07-08T20:32:42.655633Z",
     "shell.execute_reply": "2025-07-08T20:32:42.654350Z",
     "shell.execute_reply.started": "2025-07-08T20:32:42.159778Z"
    }
   },
   "outputs": [
    {
     "name": "stdout",
     "output_type": "stream",
     "text": [
      "\n",
      "\u001b[1m============================= test session starts ==============================\u001b[0m\n",
      "platform darwin -- Python 3.10.6, pytest-8.3.4, pluggy-1.5.0 -- /Users/bouchrakostet/.pyenv/versions/3.10.6/envs/lewagon/bin/python\n",
      "cachedir: .pytest_cache\n",
      "rootdir: /Users/bouchrakostet/code/lewagon/02-Data-Toolkit/01-Data-Analysis/data-multiple-files-with-pandas\n",
      "configfile: pytest.ini\n",
      "plugins: asyncio-0.19.0, anyio-4.8.0, typeguard-4.4.2\n",
      "asyncio: mode=strict\n",
      "\u001b[1mcollecting ... \u001b[0mcollected 3 items\n",
      "\n",
      "test_olympic_games_season.py::TestOlympicGamesSeason::test_top_10_countries_shape \u001b[32mPASSED\u001b[0m\u001b[32m [ 33%]\u001b[0m\n",
      "test_olympic_games_season.py::TestOlympicGamesSeason::test_top_10_countries_summer \u001b[32mPASSED\u001b[0m\u001b[32m [ 66%]\u001b[0m\n",
      "test_olympic_games_season.py::TestOlympicGamesSeason::test_top_10_countries_winter \u001b[32mPASSED\u001b[0m\u001b[32m [100%]\u001b[0m\n",
      "\n",
      "\u001b[32m============================== \u001b[32m\u001b[1m3 passed\u001b[0m\u001b[32m in 0.10s\u001b[0m\u001b[32m ===============================\u001b[0m\n",
      "\n",
      "\n",
      "💯 You can commit your code:\n",
      "\n",
      "\u001b[1;32mgit\u001b[39m add tests/olympic_games_season.pickle\n",
      "\n",
      "\u001b[32mgit\u001b[39m commit -m \u001b[33m'Completed olympic_games_season step'\u001b[39m\n",
      "\n",
      "\u001b[32mgit\u001b[39m push origin master\n",
      "\n"
     ]
    }
   ],
   "source": [
    "from nbresult import ChallengeResult\n",
    "\n",
    "result = ChallengeResult('olympic_games_season',\n",
    "    top_country_season_shape=top_10_season_df.shape,\n",
    "    top_country_1_summer=top_10_season_df.iloc[0]['Summer'],\n",
    "    top_country_10_winter=top_10_season_df.iloc[9]['Winter'],\n",
    ")\n",
    "result.write()\n",
    "\n",
    "print(result.check())"
   ]
  },
  {
   "cell_type": "code",
   "execution_count": 30,
   "metadata": {
    "execution": {
     "iopub.execute_input": "2025-07-08T20:32:48.741598Z",
     "iopub.status.busy": "2025-07-08T20:32:48.740814Z",
     "iopub.status.idle": "2025-07-08T20:32:48.828869Z",
     "shell.execute_reply": "2025-07-08T20:32:48.827374Z",
     "shell.execute_reply.started": "2025-07-08T20:32:48.741536Z"
    }
   },
   "outputs": [
    {
     "data": {
      "text/html": [
       "<div>\n",
       "<style scoped>\n",
       "    .dataframe tbody tr th:only-of-type {\n",
       "        vertical-align: middle;\n",
       "    }\n",
       "\n",
       "    .dataframe tbody tr th {\n",
       "        vertical-align: top;\n",
       "    }\n",
       "\n",
       "    .dataframe thead th {\n",
       "        text-align: right;\n",
       "    }\n",
       "</style>\n",
       "<table border=\"1\" class=\"dataframe\">\n",
       "  <thead>\n",
       "    <tr style=\"text-align: right;\">\n",
       "      <th></th>\n",
       "      <th>Year</th>\n",
       "      <th>City</th>\n",
       "      <th>Sport</th>\n",
       "      <th>Discipline</th>\n",
       "      <th>Athlete</th>\n",
       "      <th>Code</th>\n",
       "      <th>Gender</th>\n",
       "      <th>Event</th>\n",
       "      <th>Medal</th>\n",
       "      <th>Country</th>\n",
       "      <th>Population</th>\n",
       "      <th>GDP per Capita</th>\n",
       "      <th>Season</th>\n",
       "    </tr>\n",
       "  </thead>\n",
       "  <tbody>\n",
       "    <tr>\n",
       "      <th>22493</th>\n",
       "      <td>2008</td>\n",
       "      <td>Beijing</td>\n",
       "      <td>Basketball</td>\n",
       "      <td>Basketball</td>\n",
       "      <td>ANTHONY, Carmelo</td>\n",
       "      <td>USA</td>\n",
       "      <td>Men</td>\n",
       "      <td>Basketball</td>\n",
       "      <td>Gold</td>\n",
       "      <td>United States</td>\n",
       "      <td>321418820.0</td>\n",
       "      <td>56115.718426</td>\n",
       "      <td>Summer</td>\n",
       "    </tr>\n",
       "    <tr>\n",
       "      <th>22494</th>\n",
       "      <td>2008</td>\n",
       "      <td>Beijing</td>\n",
       "      <td>Basketball</td>\n",
       "      <td>Basketball</td>\n",
       "      <td>BOOZER, Carlos</td>\n",
       "      <td>USA</td>\n",
       "      <td>Men</td>\n",
       "      <td>Basketball</td>\n",
       "      <td>Gold</td>\n",
       "      <td>United States</td>\n",
       "      <td>321418820.0</td>\n",
       "      <td>56115.718426</td>\n",
       "      <td>Summer</td>\n",
       "    </tr>\n",
       "    <tr>\n",
       "      <th>22495</th>\n",
       "      <td>2008</td>\n",
       "      <td>Beijing</td>\n",
       "      <td>Basketball</td>\n",
       "      <td>Basketball</td>\n",
       "      <td>BOSH, Chris</td>\n",
       "      <td>USA</td>\n",
       "      <td>Men</td>\n",
       "      <td>Basketball</td>\n",
       "      <td>Gold</td>\n",
       "      <td>United States</td>\n",
       "      <td>321418820.0</td>\n",
       "      <td>56115.718426</td>\n",
       "      <td>Summer</td>\n",
       "    </tr>\n",
       "    <tr>\n",
       "      <th>22496</th>\n",
       "      <td>2008</td>\n",
       "      <td>Beijing</td>\n",
       "      <td>Basketball</td>\n",
       "      <td>Basketball</td>\n",
       "      <td>BRYANT, Kobe</td>\n",
       "      <td>USA</td>\n",
       "      <td>Men</td>\n",
       "      <td>Basketball</td>\n",
       "      <td>Gold</td>\n",
       "      <td>United States</td>\n",
       "      <td>321418820.0</td>\n",
       "      <td>56115.718426</td>\n",
       "      <td>Summer</td>\n",
       "    </tr>\n",
       "    <tr>\n",
       "      <th>22497</th>\n",
       "      <td>2008</td>\n",
       "      <td>Beijing</td>\n",
       "      <td>Basketball</td>\n",
       "      <td>Basketball</td>\n",
       "      <td>HOWARD, Dwight</td>\n",
       "      <td>USA</td>\n",
       "      <td>Men</td>\n",
       "      <td>Basketball</td>\n",
       "      <td>Gold</td>\n",
       "      <td>United States</td>\n",
       "      <td>321418820.0</td>\n",
       "      <td>56115.718426</td>\n",
       "      <td>Summer</td>\n",
       "    </tr>\n",
       "    <tr>\n",
       "      <th>22498</th>\n",
       "      <td>2008</td>\n",
       "      <td>Beijing</td>\n",
       "      <td>Basketball</td>\n",
       "      <td>Basketball</td>\n",
       "      <td>JAMES, Lebron</td>\n",
       "      <td>USA</td>\n",
       "      <td>Men</td>\n",
       "      <td>Basketball</td>\n",
       "      <td>Gold</td>\n",
       "      <td>United States</td>\n",
       "      <td>321418820.0</td>\n",
       "      <td>56115.718426</td>\n",
       "      <td>Summer</td>\n",
       "    </tr>\n",
       "    <tr>\n",
       "      <th>22499</th>\n",
       "      <td>2008</td>\n",
       "      <td>Beijing</td>\n",
       "      <td>Basketball</td>\n",
       "      <td>Basketball</td>\n",
       "      <td>KIDD, Jason</td>\n",
       "      <td>USA</td>\n",
       "      <td>Men</td>\n",
       "      <td>Basketball</td>\n",
       "      <td>Gold</td>\n",
       "      <td>United States</td>\n",
       "      <td>321418820.0</td>\n",
       "      <td>56115.718426</td>\n",
       "      <td>Summer</td>\n",
       "    </tr>\n",
       "    <tr>\n",
       "      <th>22500</th>\n",
       "      <td>2008</td>\n",
       "      <td>Beijing</td>\n",
       "      <td>Basketball</td>\n",
       "      <td>Basketball</td>\n",
       "      <td>PAUL, Chris</td>\n",
       "      <td>USA</td>\n",
       "      <td>Men</td>\n",
       "      <td>Basketball</td>\n",
       "      <td>Gold</td>\n",
       "      <td>United States</td>\n",
       "      <td>321418820.0</td>\n",
       "      <td>56115.718426</td>\n",
       "      <td>Summer</td>\n",
       "    </tr>\n",
       "    <tr>\n",
       "      <th>22501</th>\n",
       "      <td>2008</td>\n",
       "      <td>Beijing</td>\n",
       "      <td>Basketball</td>\n",
       "      <td>Basketball</td>\n",
       "      <td>PRINCE, Tayshaun</td>\n",
       "      <td>USA</td>\n",
       "      <td>Men</td>\n",
       "      <td>Basketball</td>\n",
       "      <td>Gold</td>\n",
       "      <td>United States</td>\n",
       "      <td>321418820.0</td>\n",
       "      <td>56115.718426</td>\n",
       "      <td>Summer</td>\n",
       "    </tr>\n",
       "    <tr>\n",
       "      <th>22502</th>\n",
       "      <td>2008</td>\n",
       "      <td>Beijing</td>\n",
       "      <td>Basketball</td>\n",
       "      <td>Basketball</td>\n",
       "      <td>REDD, Michael</td>\n",
       "      <td>USA</td>\n",
       "      <td>Men</td>\n",
       "      <td>Basketball</td>\n",
       "      <td>Gold</td>\n",
       "      <td>United States</td>\n",
       "      <td>321418820.0</td>\n",
       "      <td>56115.718426</td>\n",
       "      <td>Summer</td>\n",
       "    </tr>\n",
       "    <tr>\n",
       "      <th>22503</th>\n",
       "      <td>2008</td>\n",
       "      <td>Beijing</td>\n",
       "      <td>Basketball</td>\n",
       "      <td>Basketball</td>\n",
       "      <td>WADE, Dwyane</td>\n",
       "      <td>USA</td>\n",
       "      <td>Men</td>\n",
       "      <td>Basketball</td>\n",
       "      <td>Gold</td>\n",
       "      <td>United States</td>\n",
       "      <td>321418820.0</td>\n",
       "      <td>56115.718426</td>\n",
       "      <td>Summer</td>\n",
       "    </tr>\n",
       "    <tr>\n",
       "      <th>22504</th>\n",
       "      <td>2008</td>\n",
       "      <td>Beijing</td>\n",
       "      <td>Basketball</td>\n",
       "      <td>Basketball</td>\n",
       "      <td>WILLIAMS, Deron</td>\n",
       "      <td>USA</td>\n",
       "      <td>Men</td>\n",
       "      <td>Basketball</td>\n",
       "      <td>Gold</td>\n",
       "      <td>United States</td>\n",
       "      <td>321418820.0</td>\n",
       "      <td>56115.718426</td>\n",
       "      <td>Summer</td>\n",
       "    </tr>\n",
       "    <tr>\n",
       "      <th>22529</th>\n",
       "      <td>2008</td>\n",
       "      <td>Beijing</td>\n",
       "      <td>Basketball</td>\n",
       "      <td>Basketball</td>\n",
       "      <td>AUGUSTUS, Seimone</td>\n",
       "      <td>USA</td>\n",
       "      <td>Women</td>\n",
       "      <td>Basketball</td>\n",
       "      <td>Gold</td>\n",
       "      <td>United States</td>\n",
       "      <td>321418820.0</td>\n",
       "      <td>56115.718426</td>\n",
       "      <td>Summer</td>\n",
       "    </tr>\n",
       "    <tr>\n",
       "      <th>22530</th>\n",
       "      <td>2008</td>\n",
       "      <td>Beijing</td>\n",
       "      <td>Basketball</td>\n",
       "      <td>Basketball</td>\n",
       "      <td>BIRD, Sue</td>\n",
       "      <td>USA</td>\n",
       "      <td>Women</td>\n",
       "      <td>Basketball</td>\n",
       "      <td>Gold</td>\n",
       "      <td>United States</td>\n",
       "      <td>321418820.0</td>\n",
       "      <td>56115.718426</td>\n",
       "      <td>Summer</td>\n",
       "    </tr>\n",
       "    <tr>\n",
       "      <th>22531</th>\n",
       "      <td>2008</td>\n",
       "      <td>Beijing</td>\n",
       "      <td>Basketball</td>\n",
       "      <td>Basketball</td>\n",
       "      <td>CATCHINGS, Tamika</td>\n",
       "      <td>USA</td>\n",
       "      <td>Women</td>\n",
       "      <td>Basketball</td>\n",
       "      <td>Gold</td>\n",
       "      <td>United States</td>\n",
       "      <td>321418820.0</td>\n",
       "      <td>56115.718426</td>\n",
       "      <td>Summer</td>\n",
       "    </tr>\n",
       "    <tr>\n",
       "      <th>22532</th>\n",
       "      <td>2008</td>\n",
       "      <td>Beijing</td>\n",
       "      <td>Basketball</td>\n",
       "      <td>Basketball</td>\n",
       "      <td>FOWLES, Sylvia</td>\n",
       "      <td>USA</td>\n",
       "      <td>Women</td>\n",
       "      <td>Basketball</td>\n",
       "      <td>Gold</td>\n",
       "      <td>United States</td>\n",
       "      <td>321418820.0</td>\n",
       "      <td>56115.718426</td>\n",
       "      <td>Summer</td>\n",
       "    </tr>\n",
       "    <tr>\n",
       "      <th>22533</th>\n",
       "      <td>2008</td>\n",
       "      <td>Beijing</td>\n",
       "      <td>Basketball</td>\n",
       "      <td>Basketball</td>\n",
       "      <td>LAWSON, Kara</td>\n",
       "      <td>USA</td>\n",
       "      <td>Women</td>\n",
       "      <td>Basketball</td>\n",
       "      <td>Gold</td>\n",
       "      <td>United States</td>\n",
       "      <td>321418820.0</td>\n",
       "      <td>56115.718426</td>\n",
       "      <td>Summer</td>\n",
       "    </tr>\n",
       "    <tr>\n",
       "      <th>22534</th>\n",
       "      <td>2008</td>\n",
       "      <td>Beijing</td>\n",
       "      <td>Basketball</td>\n",
       "      <td>Basketball</td>\n",
       "      <td>LESLIE, Lisa</td>\n",
       "      <td>USA</td>\n",
       "      <td>Women</td>\n",
       "      <td>Basketball</td>\n",
       "      <td>Gold</td>\n",
       "      <td>United States</td>\n",
       "      <td>321418820.0</td>\n",
       "      <td>56115.718426</td>\n",
       "      <td>Summer</td>\n",
       "    </tr>\n",
       "    <tr>\n",
       "      <th>22535</th>\n",
       "      <td>2008</td>\n",
       "      <td>Beijing</td>\n",
       "      <td>Basketball</td>\n",
       "      <td>Basketball</td>\n",
       "      <td>MILTON-JONES, Delisha</td>\n",
       "      <td>USA</td>\n",
       "      <td>Women</td>\n",
       "      <td>Basketball</td>\n",
       "      <td>Gold</td>\n",
       "      <td>United States</td>\n",
       "      <td>321418820.0</td>\n",
       "      <td>56115.718426</td>\n",
       "      <td>Summer</td>\n",
       "    </tr>\n",
       "    <tr>\n",
       "      <th>22536</th>\n",
       "      <td>2008</td>\n",
       "      <td>Beijing</td>\n",
       "      <td>Basketball</td>\n",
       "      <td>Basketball</td>\n",
       "      <td>PARKER, Candace</td>\n",
       "      <td>USA</td>\n",
       "      <td>Women</td>\n",
       "      <td>Basketball</td>\n",
       "      <td>Gold</td>\n",
       "      <td>United States</td>\n",
       "      <td>321418820.0</td>\n",
       "      <td>56115.718426</td>\n",
       "      <td>Summer</td>\n",
       "    </tr>\n",
       "    <tr>\n",
       "      <th>22537</th>\n",
       "      <td>2008</td>\n",
       "      <td>Beijing</td>\n",
       "      <td>Basketball</td>\n",
       "      <td>Basketball</td>\n",
       "      <td>PONDEXTER, Cappie</td>\n",
       "      <td>USA</td>\n",
       "      <td>Women</td>\n",
       "      <td>Basketball</td>\n",
       "      <td>Gold</td>\n",
       "      <td>United States</td>\n",
       "      <td>321418820.0</td>\n",
       "      <td>56115.718426</td>\n",
       "      <td>Summer</td>\n",
       "    </tr>\n",
       "    <tr>\n",
       "      <th>22538</th>\n",
       "      <td>2008</td>\n",
       "      <td>Beijing</td>\n",
       "      <td>Basketball</td>\n",
       "      <td>Basketball</td>\n",
       "      <td>SMITH, Katie</td>\n",
       "      <td>USA</td>\n",
       "      <td>Women</td>\n",
       "      <td>Basketball</td>\n",
       "      <td>Gold</td>\n",
       "      <td>United States</td>\n",
       "      <td>321418820.0</td>\n",
       "      <td>56115.718426</td>\n",
       "      <td>Summer</td>\n",
       "    </tr>\n",
       "    <tr>\n",
       "      <th>22539</th>\n",
       "      <td>2008</td>\n",
       "      <td>Beijing</td>\n",
       "      <td>Basketball</td>\n",
       "      <td>Basketball</td>\n",
       "      <td>TAURASI, Diana</td>\n",
       "      <td>USA</td>\n",
       "      <td>Women</td>\n",
       "      <td>Basketball</td>\n",
       "      <td>Gold</td>\n",
       "      <td>United States</td>\n",
       "      <td>321418820.0</td>\n",
       "      <td>56115.718426</td>\n",
       "      <td>Summer</td>\n",
       "    </tr>\n",
       "    <tr>\n",
       "      <th>22540</th>\n",
       "      <td>2008</td>\n",
       "      <td>Beijing</td>\n",
       "      <td>Basketball</td>\n",
       "      <td>Basketball</td>\n",
       "      <td>THOMPSON, Tina</td>\n",
       "      <td>USA</td>\n",
       "      <td>Women</td>\n",
       "      <td>Basketball</td>\n",
       "      <td>Gold</td>\n",
       "      <td>United States</td>\n",
       "      <td>321418820.0</td>\n",
       "      <td>56115.718426</td>\n",
       "      <td>Summer</td>\n",
       "    </tr>\n",
       "  </tbody>\n",
       "</table>\n",
       "</div>"
      ],
      "text/plain": [
       "       Year     City       Sport  Discipline                Athlete Code  \\\n",
       "22493  2008  Beijing  Basketball  Basketball       ANTHONY, Carmelo  USA   \n",
       "22494  2008  Beijing  Basketball  Basketball         BOOZER, Carlos  USA   \n",
       "22495  2008  Beijing  Basketball  Basketball            BOSH, Chris  USA   \n",
       "22496  2008  Beijing  Basketball  Basketball           BRYANT, Kobe  USA   \n",
       "22497  2008  Beijing  Basketball  Basketball         HOWARD, Dwight  USA   \n",
       "22498  2008  Beijing  Basketball  Basketball          JAMES, Lebron  USA   \n",
       "22499  2008  Beijing  Basketball  Basketball            KIDD, Jason  USA   \n",
       "22500  2008  Beijing  Basketball  Basketball            PAUL, Chris  USA   \n",
       "22501  2008  Beijing  Basketball  Basketball       PRINCE, Tayshaun  USA   \n",
       "22502  2008  Beijing  Basketball  Basketball          REDD, Michael  USA   \n",
       "22503  2008  Beijing  Basketball  Basketball           WADE, Dwyane  USA   \n",
       "22504  2008  Beijing  Basketball  Basketball        WILLIAMS, Deron  USA   \n",
       "22529  2008  Beijing  Basketball  Basketball      AUGUSTUS, Seimone  USA   \n",
       "22530  2008  Beijing  Basketball  Basketball              BIRD, Sue  USA   \n",
       "22531  2008  Beijing  Basketball  Basketball      CATCHINGS, Tamika  USA   \n",
       "22532  2008  Beijing  Basketball  Basketball         FOWLES, Sylvia  USA   \n",
       "22533  2008  Beijing  Basketball  Basketball           LAWSON, Kara  USA   \n",
       "22534  2008  Beijing  Basketball  Basketball           LESLIE, Lisa  USA   \n",
       "22535  2008  Beijing  Basketball  Basketball  MILTON-JONES, Delisha  USA   \n",
       "22536  2008  Beijing  Basketball  Basketball        PARKER, Candace  USA   \n",
       "22537  2008  Beijing  Basketball  Basketball      PONDEXTER, Cappie  USA   \n",
       "22538  2008  Beijing  Basketball  Basketball           SMITH, Katie  USA   \n",
       "22539  2008  Beijing  Basketball  Basketball         TAURASI, Diana  USA   \n",
       "22540  2008  Beijing  Basketball  Basketball         THOMPSON, Tina  USA   \n",
       "\n",
       "      Gender       Event Medal        Country   Population  GDP per Capita  \\\n",
       "22493    Men  Basketball  Gold  United States  321418820.0    56115.718426   \n",
       "22494    Men  Basketball  Gold  United States  321418820.0    56115.718426   \n",
       "22495    Men  Basketball  Gold  United States  321418820.0    56115.718426   \n",
       "22496    Men  Basketball  Gold  United States  321418820.0    56115.718426   \n",
       "22497    Men  Basketball  Gold  United States  321418820.0    56115.718426   \n",
       "22498    Men  Basketball  Gold  United States  321418820.0    56115.718426   \n",
       "22499    Men  Basketball  Gold  United States  321418820.0    56115.718426   \n",
       "22500    Men  Basketball  Gold  United States  321418820.0    56115.718426   \n",
       "22501    Men  Basketball  Gold  United States  321418820.0    56115.718426   \n",
       "22502    Men  Basketball  Gold  United States  321418820.0    56115.718426   \n",
       "22503    Men  Basketball  Gold  United States  321418820.0    56115.718426   \n",
       "22504    Men  Basketball  Gold  United States  321418820.0    56115.718426   \n",
       "22529  Women  Basketball  Gold  United States  321418820.0    56115.718426   \n",
       "22530  Women  Basketball  Gold  United States  321418820.0    56115.718426   \n",
       "22531  Women  Basketball  Gold  United States  321418820.0    56115.718426   \n",
       "22532  Women  Basketball  Gold  United States  321418820.0    56115.718426   \n",
       "22533  Women  Basketball  Gold  United States  321418820.0    56115.718426   \n",
       "22534  Women  Basketball  Gold  United States  321418820.0    56115.718426   \n",
       "22535  Women  Basketball  Gold  United States  321418820.0    56115.718426   \n",
       "22536  Women  Basketball  Gold  United States  321418820.0    56115.718426   \n",
       "22537  Women  Basketball  Gold  United States  321418820.0    56115.718426   \n",
       "22538  Women  Basketball  Gold  United States  321418820.0    56115.718426   \n",
       "22539  Women  Basketball  Gold  United States  321418820.0    56115.718426   \n",
       "22540  Women  Basketball  Gold  United States  321418820.0    56115.718426   \n",
       "\n",
       "       Season  \n",
       "22493  Summer  \n",
       "22494  Summer  \n",
       "22495  Summer  \n",
       "22496  Summer  \n",
       "22497  Summer  \n",
       "22498  Summer  \n",
       "22499  Summer  \n",
       "22500  Summer  \n",
       "22501  Summer  \n",
       "22502  Summer  \n",
       "22503  Summer  \n",
       "22504  Summer  \n",
       "22529  Summer  \n",
       "22530  Summer  \n",
       "22531  Summer  \n",
       "22532  Summer  \n",
       "22533  Summer  \n",
       "22534  Summer  \n",
       "22535  Summer  \n",
       "22536  Summer  \n",
       "22537  Summer  \n",
       "22538  Summer  \n",
       "22539  Summer  \n",
       "22540  Summer  "
      ]
     },
     "execution_count": 30,
     "metadata": {},
     "output_type": "execute_result"
    }
   ],
   "source": [
    "all_df[(all_df.Year==2008) & (all_df.Event=='Basketball') & (all_df.Medal=='Gold')]"
   ]
  },
  {
   "cell_type": "code",
   "execution_count": 31,
   "metadata": {
    "execution": {
     "iopub.execute_input": "2025-07-08T20:32:50.780417Z",
     "iopub.status.busy": "2025-07-08T20:32:50.779723Z",
     "iopub.status.idle": "2025-07-08T20:32:50.819894Z",
     "shell.execute_reply": "2025-07-08T20:32:50.818244Z",
     "shell.execute_reply.started": "2025-07-08T20:32:50.780352Z"
    }
   },
   "outputs": [
    {
     "name": "stdout",
     "output_type": "stream",
     "text": [
      "Total medal rows:  30568\n",
      "multiple event winners:  16422\n"
     ]
    }
   ],
   "source": [
    "# If we drop the athlete and gender columns we can check how many rows are duplicated - indicating a medal for a team or mixed sport\n",
    "all_events_df = all_df.drop(columns=['Athlete', 'Gender'])\n",
    "print('Total medal rows: ', all_events_df.shape[0])\n",
    "print('multiple event winners: ', all_events_df.duplicated().sum())"
   ]
  },
  {
   "cell_type": "code",
   "execution_count": 32,
   "metadata": {
    "execution": {
     "iopub.execute_input": "2025-07-08T20:32:52.215561Z",
     "iopub.status.busy": "2025-07-08T20:32:52.215039Z",
     "iopub.status.idle": "2025-07-08T20:32:52.243727Z",
     "shell.execute_reply": "2025-07-08T20:32:52.242754Z",
     "shell.execute_reply.started": "2025-07-08T20:32:52.215497Z"
    }
   },
   "outputs": [
    {
     "data": {
      "text/plain": [
       "(14146, 11)"
      ]
     },
     "execution_count": 32,
     "metadata": {},
     "output_type": "execute_result"
    }
   ],
   "source": [
    "# We can drop duplicated rows to keep just one winner per event\n",
    "all_events_df.drop_duplicates(inplace=True)\n",
    "all_events_df.shape"
   ]
  },
  {
   "cell_type": "code",
   "execution_count": 33,
   "metadata": {
    "execution": {
     "iopub.execute_input": "2025-07-08T20:32:59.396876Z",
     "iopub.status.busy": "2025-07-08T20:32:59.396142Z",
     "iopub.status.idle": "2025-07-08T20:32:59.413329Z",
     "shell.execute_reply": "2025-07-08T20:32:59.412437Z",
     "shell.execute_reply.started": "2025-07-08T20:32:59.396825Z"
    }
   },
   "outputs": [],
   "source": [
    "all_events_df = all_events_df[all_events_df[\"Year\"] >= 1984] \\\n",
    "    .groupby([\"Country\"]) \\\n",
    "    .count()[[\"Medal\"]] \\\n",
    "    .sort_values(by=\"Medal\", ascending=False) \\\n",
    "    .rename(columns={'Medal':'Event Count'})\n",
    "top_10_events_df = all_events_df.head(10)"
   ]
  },
  {
   "cell_type": "code",
   "execution_count": 34,
   "metadata": {
    "execution": {
     "iopub.execute_input": "2025-07-08T20:32:59.862419Z",
     "iopub.status.busy": "2025-07-08T20:32:59.861608Z",
     "iopub.status.idle": "2025-07-08T20:33:00.051088Z",
     "shell.execute_reply": "2025-07-08T20:33:00.050125Z",
     "shell.execute_reply.started": "2025-07-08T20:32:59.862364Z"
    }
   },
   "outputs": [
    {
     "data": {
      "image/png": "[encoded data removed]",
      "text/plain": [
       "<Figure size 640x480 with 1 Axes>"
      ]
     },
     "metadata": {},
     "output_type": "display_data"
    }
   ],
   "source": [
    "top_10_events_df.plot(kind='bar');"
   ]
  },
  {
   "cell_type": "markdown",
   "metadata": {},
   "source": [
    "#### Check your code"
   ]
  },
  {
   "cell_type": "code",
   "execution_count": 35,
   "metadata": {
    "execution": {
     "iopub.execute_input": "2025-07-08T20:33:02.882294Z",
     "iopub.status.busy": "2025-07-08T20:33:02.881119Z",
     "iopub.status.idle": "2025-07-08T20:33:03.390854Z",
     "shell.execute_reply": "2025-07-08T20:33:03.389493Z",
     "shell.execute_reply.started": "2025-07-08T20:33:02.882235Z"
    }
   },
   "outputs": [
    {
     "name": "stdout",
     "output_type": "stream",
     "text": [
      "\n",
      "\u001b[1m============================= test session starts ==============================\u001b[0m\n",
      "platform darwin -- Python 3.10.6, pytest-8.3.4, pluggy-1.5.0 -- /Users/bouchrakostet/.pyenv/versions/3.10.6/envs/lewagon/bin/python\n",
      "cachedir: .pytest_cache\n",
      "rootdir: /Users/bouchrakostet/code/lewagon/02-Data-Toolkit/01-Data-Analysis/data-multiple-files-with-pandas\n",
      "configfile: pytest.ini\n",
      "plugins: asyncio-0.19.0, anyio-4.8.0, typeguard-4.4.2\n",
      "asyncio: mode=strict\n",
      "\u001b[1mcollecting ... \u001b[0mcollected 3 items\n",
      "\n",
      "test_olympic_games_event.py::TestOlympicGamesEvent::test_top_10_events_shape \u001b[32mPASSED\u001b[0m\u001b[32m [ 33%]\u001b[0m\n",
      "test_olympic_games_event.py::TestOlympicGamesEvent::test_top_events_1 \u001b[32mPASSED\u001b[0m\u001b[32m [ 66%]\u001b[0m\n",
      "test_olympic_games_event.py::TestOlympicGamesEvent::test_top_events_10 \u001b[32mPASSED\u001b[0m\u001b[32m [100%]\u001b[0m\n",
      "\n",
      "\u001b[32m============================== \u001b[32m\u001b[1m3 passed\u001b[0m\u001b[32m in 0.11s\u001b[0m\u001b[32m ===============================\u001b[0m\n",
      "\n",
      "\n",
      "💯 You can commit your code:\n",
      "\n",
      "\u001b[1;32mgit\u001b[39m add tests/olympic_games_event.pickle\n",
      "\n",
      "\u001b[32mgit\u001b[39m commit -m \u001b[33m'Completed olympic_games_event step'\u001b[39m\n",
      "\n",
      "\u001b[32mgit\u001b[39m push origin master\n",
      "\n"
     ]
    }
   ],
   "source": [
    "from nbresult import ChallengeResult\n",
    "\n",
    "result = ChallengeResult('olympic_games_event',\n",
    "    top_country_event_shape=top_10_events_df.shape,\n",
    "    top_country_1_event=top_10_events_df.iloc[0]['Event Count'],\n",
    "    top_country_10_event=top_10_events_df.iloc[9]['Event Count'],\n",
    ")\n",
    "result.write()\n",
    "\n",
    "print(result.check())"
   ]
  },
  {
   "cell_type": "code",
   "execution_count": 36,
   "metadata": {
    "execution": {
     "iopub.execute_input": "2025-07-08T20:33:03.393258Z",
     "iopub.status.busy": "2025-07-08T20:33:03.392880Z",
     "iopub.status.idle": "2025-07-08T20:33:03.609681Z",
     "shell.execute_reply": "2025-07-08T20:33:03.608914Z",
     "shell.execute_reply.started": "2025-07-08T20:33:03.393228Z"
    }
   },
   "outputs": [
    {
     "data": {
      "image/png": "[encoded data removed]",
      "text/plain": [
       "<Figure size 640x480 with 1 Axes>"
      ]
     },
     "metadata": {},
     "output_type": "display_data"
    }
   ],
   "source": [
    "top_10_combined = top_10_events_df.join(top_10_df, how='outer') \\\n",
    "    .sort_values(by='Medal Count', ascending=False)\n",
    "\n",
    "top_10_combined.plot(kind='bar');"
   ]
  },
  {
   "cell_type": "markdown",
   "metadata": {},
   "source": [
    "#### Check your code"
   ]
  },
  {
   "cell_type": "code",
   "execution_count": 37,
   "metadata": {
    "execution": {
     "iopub.execute_input": "2025-07-08T20:33:04.801494Z",
     "iopub.status.busy": "2025-07-08T20:33:04.800832Z",
     "iopub.status.idle": "2025-07-08T20:33:05.331792Z",
     "shell.execute_reply": "2025-07-08T20:33:05.330264Z",
     "shell.execute_reply.started": "2025-07-08T20:33:04.801434Z"
    },
    "tags": [
     "delete_end"
    ]
   },
   "outputs": [
    {
     "name": "stdout",
     "output_type": "stream",
     "text": [
      "\n",
      "\u001b[1m============================= test session starts ==============================\u001b[0m\n",
      "platform darwin -- Python 3.10.6, pytest-8.3.4, pluggy-1.5.0 -- /Users/bouchrakostet/.pyenv/versions/3.10.6/envs/lewagon/bin/python\n",
      "cachedir: .pytest_cache\n",
      "rootdir: /Users/bouchrakostet/code/lewagon/02-Data-Toolkit/01-Data-Analysis/data-multiple-files-with-pandas\n",
      "configfile: pytest.ini\n",
      "plugins: asyncio-0.19.0, anyio-4.8.0, typeguard-4.4.2\n",
      "asyncio: mode=strict\n",
      "\u001b[1mcollecting ... \u001b[0mcollected 3 items\n",
      "\n",
      "test_olympic_games_combined.py::TestOlympicGamesCombined::test_combined_1 \u001b[32mPASSED\u001b[0m\u001b[32m [ 33%]\u001b[0m\n",
      "test_olympic_games_combined.py::TestOlympicGamesCombined::test_combined_10 \u001b[32mPASSED\u001b[0m\u001b[32m [ 66%]\u001b[0m\n",
      "test_olympic_games_combined.py::TestOlympicGamesCombined::test_top_10_combined_shape \u001b[32mPASSED\u001b[0m\u001b[32m [100%]\u001b[0m\n",
      "\n",
      "\u001b[32m============================== \u001b[32m\u001b[1m3 passed\u001b[0m\u001b[32m in 0.10s\u001b[0m\u001b[32m ===============================\u001b[0m\n",
      "\n",
      "\n",
      "💯 You can commit your code:\n",
      "\n",
      "\u001b[1;32mgit\u001b[39m add tests/olympic_games_combined.pickle\n",
      "\n",
      "\u001b[32mgit\u001b[39m commit -m \u001b[33m'Completed olympic_games_combined step'\u001b[39m\n",
      "\n",
      "\u001b[32mgit\u001b[39m push origin master\n",
      "\n"
     ]
    }
   ],
   "source": [
    "from nbresult import ChallengeResult\n",
    "\n",
    "result = ChallengeResult('olympic_games_combined',\n",
    "    top_combined_shape=top_10_combined.shape,\n",
    "    top_combined_1_event=top_10_combined.iloc[0]['Event Count'],\n",
    "    top_combined_1_medal=top_10_combined.iloc[0]['Medal Count'],\n",
    "    top_combined_10_event=top_10_combined.iloc[9]['Event Count'],\n",
    "    top_combined_10_medal=top_10_combined.iloc[9]['Medal Count']\n",
    ")\n",
    "result.write()\n",
    "\n",
    "print(result.check())"
   ]
  },
  {
   "cell_type": "code",
   "execution_count": null,
   "metadata": {},
   "outputs": [],
   "source": []
  }
 ],
 "metadata": {
  "kernelspec": {
   "display_name": "Python 3 (ipykernel)",
   "language": "python",
   "name": "python3"
  },
  "language_info": {
   "codemirror_mode": {
    "name": "ipython",
    "version": 3
   },
   "file_extension": ".py",
   "mimetype": "text/x-python",
   "name": "python",
   "nbconvert_exporter": "python",
   "pygments_lexer": "ipython3",
   "version": "3.10.6"
  }
 },
 "nbformat": 4,
 "nbformat_minor": 4
}
