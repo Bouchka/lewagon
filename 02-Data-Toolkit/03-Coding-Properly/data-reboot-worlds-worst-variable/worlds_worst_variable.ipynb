{
 "cells": [
  {
   "cell_type": "markdown",
   "id": "4c703460",
   "metadata": {},
   "source": [
    "# The World's Worst Variable\n",
    "\n",
    "For this challenge, we will be dealing with the world's worst variable. \n",
    "\n",
    "Being able to navigate through complicated data structures and access the information you need is an important skill for a data scientist to hone! The variable we've created below has a lot of different data types nested inside it and we're going to ask you to access data, update data, delete data, and perform operations on data.\n",
    "\n",
    "Make liberal use of the built-in python methods (`len`, `type()`) and dictionary methods (`dict.items()`, `dict.keys()`, `dict.values()`) to find out what kind of data type you are working with. \n",
    "\n",
    "We're going to need to obtain data deeper inside the variable for most of these tasks and that's going to prove tricky!\n",
    "\n",
    "Let's first load up the variable as `worlds_worst_variable` and then print it out in a useful way."
   ]
  },
  {
   "cell_type": "code",
   "execution_count": 1,
   "id": "fe2e3628",
   "metadata": {
    "execution": {
     "iopub.execute_input": "2025-07-11T13:57:49.950909Z",
     "iopub.status.busy": "2025-07-11T13:57:49.950193Z",
     "iopub.status.idle": "2025-07-11T13:57:49.969615Z",
     "shell.execute_reply": "2025-07-11T13:57:49.968549Z",
     "shell.execute_reply.started": "2025-07-11T13:57:49.950844Z"
    }
   },
   "outputs": [],
   "source": [
    "worlds_worst_variable = [{(\"Iron Man\", 2008): {\"Plot\": \"Rich man builds metal suit and blasts things\",\n",
    "                                               \"Actors\": [\"RDJ\", \"Gwyneth Paltrow\", \"Jon Favreau\"],\n",
    "                                               \"Box Office Yields\": [{\"US\": 4000000}, {\"England\": 4500000}, {\"Asia\": 50000}]},\n",
    "                        (\"Thor\", 2011): {\"Plot\": \"Blonde man bashes things with hammer\",\n",
    "                                    \"Actors\": [\"Chris Hemsworth\", \"Natalie Portman\", \"Jon Favreau\"],\n",
    "                                    \"Box Office Yields\": [{\"US\": 300000}, {\"Europe\": 320000}, {\"Asia\": 70000}]},\n",
    "                        (\"Doctor Strange\", 2016): {\"Plot\": \"Boy with spider powers saves New York\",\n",
    "                                                   \"Actors\": [\"Benedict Cumberbatch\", \"Benedict Wong\", \"Rachel McAdams\"],\n",
    "                                                   \"Box Office Yields\": [{\"US\": 353300}, {\"Europe\": 320500}, {\"Asia\": 74000}]},\n",
    "                        (\"Captain America: Civil War\", 2016): {\"Plot\": \"Metal boy and America man fight\",\n",
    "                                                               \"Actors\": [\"Chris Evans\", \"RDJ\", \"Scarlett Johanson\"],\n",
    "                                                               \"Box Office Yields\": [{\"US\": 3200300}, {\"Europe\": 3750500}, {\"Asia\": 7344000}]},\n",
    "                        (\"Deadpool\", 2016): {\"Plot\": \"Man in red and black suit can't die\",\n",
    "                                             \"Actors\": [\"Ryan Reynolds\", \"Morena Baccarrin\", \"TJ Miller\"],\n",
    "                                             \"Box Office Yields\": [{\"US\": 200300}, {\"Europe\": 30500}, {\"Asia\": 7344000}]},\n",
    "                        (\"Morbius\", 2022): {\"Plot\": \"Terrible movie where man becomes a vampire\",\n",
    "                                            \"Actors\": [\"Jared Leto\", \"Matt Smith\", \"Adria Arjona\"],\n",
    "                                            \"Box Office Yields\": [{\"US\": 9900300}, {\"Europe\": 440500}, {\"Asia\": 74000}]}}]"
   ]
  },
  {
   "cell_type": "markdown",
   "id": "f994966d",
   "metadata": {},
   "source": [
    "OK, let's print this nasty variable out to get a better look at how it's laid out! We're going to use `pretty print` to make this data structure a little easier to look at"
   ]
  },
  {
   "cell_type": "code",
   "execution_count": 2,
   "id": "8099ad9a",
   "metadata": {
    "execution": {
     "iopub.execute_input": "2025-07-11T13:57:52.452419Z",
     "iopub.status.busy": "2025-07-11T13:57:52.448879Z",
     "iopub.status.idle": "2025-07-11T13:57:52.475026Z",
     "shell.execute_reply": "2025-07-11T13:57:52.473028Z",
     "shell.execute_reply.started": "2025-07-11T13:57:52.452359Z"
    }
   },
   "outputs": [
    {
     "name": "stdout",
     "output_type": "stream",
     "text": [
      "[   {   ('Captain America: Civil War', 2016): {   'Actors': [   'Chris Evans',\n",
      "                                                                'RDJ',\n",
      "                                                                'Scarlett '\n",
      "                                                                'Johanson'],\n",
      "                                                  'Box Office Yields': [   {   'US': 3200300},\n",
      "                                                                           {   'Europe': 3750500},\n",
      "                                                                           {   'Asia': 7344000}],\n",
      "                                                  'Plot': 'Metal boy and '\n",
      "                                                          'America man fight'},\n",
      "        ('Deadpool', 2016): {   'Actors': [   'Ryan Reynolds',\n",
      "                                              'Morena Baccarrin',\n",
      "                                              'TJ Miller'],\n",
      "                                'Box Office Yields': [   {'US': 200300},\n",
      "                                                         {'Europe': 30500},\n",
      "                                                         {'Asia': 7344000}],\n",
      "                                'Plot': \"Man in red and black suit can't die\"},\n",
      "        ('Doctor Strange', 2016): {   'Actors': [   'Benedict Cumberbatch',\n",
      "                                                    'Benedict Wong',\n",
      "                                                    'Rachel McAdams'],\n",
      "                                      'Box Office Yields': [   {'US': 353300},\n",
      "                                                               {   'Europe': 320500},\n",
      "                                                               {'Asia': 74000}],\n",
      "                                      'Plot': 'Boy with spider powers saves '\n",
      "                                              'New York'},\n",
      "        ('Iron Man', 2008): {   'Actors': [   'RDJ',\n",
      "                                              'Gwyneth Paltrow',\n",
      "                                              'Jon Favreau'],\n",
      "                                'Box Office Yields': [   {'US': 4000000},\n",
      "                                                         {'England': 4500000},\n",
      "                                                         {'Asia': 50000}],\n",
      "                                'Plot': 'Rich man builds metal suit and blasts '\n",
      "                                        'things'},\n",
      "        ('Morbius', 2022): {   'Actors': [   'Jared Leto',\n",
      "                                             'Matt Smith',\n",
      "                                             'Adria Arjona'],\n",
      "                               'Box Office Yields': [   {'US': 9900300},\n",
      "                                                        {'Europe': 440500},\n",
      "                                                        {'Asia': 74000}],\n",
      "                               'Plot': 'Terrible movie where man becomes a '\n",
      "                                       'vampire'},\n",
      "        ('Thor', 2011): {   'Actors': [   'Chris Hemsworth',\n",
      "                                          'Natalie Portman',\n",
      "                                          'Jon Favreau'],\n",
      "                            'Box Office Yields': [   {'US': 300000},\n",
      "                                                     {'Europe': 320000},\n",
      "                                                     {'Asia': 70000}],\n",
      "                            'Plot': 'Blonde man bashes things with hammer'}}]\n"
     ]
    }
   ],
   "source": [
    "import pprint\n",
    "pp = pprint.PrettyPrinter(indent=4)\n",
    "pp.pprint(worlds_worst_variable)"
   ]
  },
  {
   "cell_type": "markdown",
   "id": "27d2d923",
   "metadata": {},
   "source": [
    "![\"Shocked Deadpool\"](https://media.giphy.com/media/v1.Y2lkPTc5MGI3NjExY3ViamRhcm41cm4wYm1sbHdvaHltdHJ5ZW5mZXRpc3drdTR5bXB2OCZlcD12MV9pbnRlcm5hbF9naWZfYnlfaWQmY3Q9Zw/57ZvMMkuBIVMlU88Yh/giphy.gif)\n",
    "\n",
    "Oh the horrors!"
   ]
  },
  {
   "cell_type": "markdown",
   "id": "728be24b",
   "metadata": {},
   "source": [
    "## Basic Investigation"
   ]
  },
  {
   "cell_type": "markdown",
   "id": "6e0a3823",
   "metadata": {},
   "source": [
    "First things first, what type is `worlds_worst_variable`?"
   ]
  },
  {
   "cell_type": "code",
   "execution_count": 3,
   "id": "86794bcb",
   "metadata": {
    "execution": {
     "iopub.execute_input": "2025-07-11T13:57:56.312130Z",
     "iopub.status.busy": "2025-07-11T13:57:56.311520Z",
     "iopub.status.idle": "2025-07-11T13:57:56.419540Z",
     "shell.execute_reply": "2025-07-11T13:57:56.417656Z",
     "shell.execute_reply.started": "2025-07-11T13:57:56.312089Z"
    },
    "tags": [
     "challengify"
    ]
   },
   "outputs": [
    {
     "data": {
      "text/plain": [
       "list"
      ]
     },
     "execution_count": 3,
     "metadata": {},
     "output_type": "execute_result"
    }
   ],
   "source": [
    "type(worlds_worst_variable)"
   ]
  },
  {
   "cell_type": "markdown",
   "id": "68a32aa8",
   "metadata": {},
   "source": [
    "How many elements does this variable contain? _**Hint:** Here we mean: what is its length?_"
   ]
  },
  {
   "cell_type": "code",
   "execution_count": 4,
   "id": "a4fa478d",
   "metadata": {
    "execution": {
     "iopub.execute_input": "2025-07-11T13:57:59.111976Z",
     "iopub.status.busy": "2025-07-11T13:57:59.111464Z",
     "iopub.status.idle": "2025-07-11T13:57:59.121527Z",
     "shell.execute_reply": "2025-07-11T13:57:59.119173Z",
     "shell.execute_reply.started": "2025-07-11T13:57:59.111940Z"
    },
    "tags": [
     "challengify"
    ]
   },
   "outputs": [
    {
     "data": {
      "text/plain": [
       "1"
      ]
     },
     "execution_count": 4,
     "metadata": {},
     "output_type": "execute_result"
    }
   ],
   "source": [
    "len(worlds_worst_variable)"
   ]
  },
  {
   "cell_type": "markdown",
   "id": "34c42f3b",
   "metadata": {},
   "source": [
    "What type is the first element inside this variable?"
   ]
  },
  {
   "cell_type": "code",
   "execution_count": 5,
   "id": "43bbbca9",
   "metadata": {
    "execution": {
     "iopub.execute_input": "2025-07-11T13:58:02.301282Z",
     "iopub.status.busy": "2025-07-11T13:58:02.300659Z",
     "iopub.status.idle": "2025-07-11T13:58:02.308148Z",
     "shell.execute_reply": "2025-07-11T13:58:02.306903Z",
     "shell.execute_reply.started": "2025-07-11T13:58:02.301233Z"
    },
    "tags": [
     "challengify"
    ]
   },
   "outputs": [
    {
     "data": {
      "text/plain": [
       "dict"
      ]
     },
     "execution_count": 5,
     "metadata": {},
     "output_type": "execute_result"
    }
   ],
   "source": [
    "type(worlds_worst_variable[0])"
   ]
  },
  {
   "cell_type": "markdown",
   "id": "2fab46ac",
   "metadata": {},
   "source": [
    "Hmmm... that type could have lots of elements inside it. Let's get a list of every key inside."
   ]
  },
  {
   "cell_type": "code",
   "execution_count": 6,
   "id": "ab0cf41d",
   "metadata": {
    "execution": {
     "iopub.execute_input": "2025-07-11T13:58:05.681729Z",
     "iopub.status.busy": "2025-07-11T13:58:05.680639Z",
     "iopub.status.idle": "2025-07-11T13:58:05.692230Z",
     "shell.execute_reply": "2025-07-11T13:58:05.690999Z",
     "shell.execute_reply.started": "2025-07-11T13:58:05.681684Z"
    },
    "tags": [
     "challengify"
    ]
   },
   "outputs": [
    {
     "data": {
      "text/plain": [
       "dict_keys([('Iron Man', 2008), ('Thor', 2011), ('Doctor Strange', 2016), ('Captain America: Civil War', 2016), ('Deadpool', 2016), ('Morbius', 2022)])"
      ]
     },
     "execution_count": 6,
     "metadata": {},
     "output_type": "execute_result"
    }
   ],
   "source": [
    "worlds_worst_variable[0].keys()"
   ]
  },
  {
   "cell_type": "markdown",
   "id": "4d20a0e9",
   "metadata": {},
   "source": [
    "## Task 1 -  I am Iron Man!\n",
    "Let's get down to business! Get all the information associated with the Iron Man movie and store it in a variable `iron_man`"
   ]
  },
  {
   "cell_type": "code",
   "execution_count": 7,
   "id": "dfca6021",
   "metadata": {
    "execution": {
     "iopub.execute_input": "2025-07-11T13:58:08.934858Z",
     "iopub.status.busy": "2025-07-11T13:58:08.933792Z",
     "iopub.status.idle": "2025-07-11T13:58:08.943276Z",
     "shell.execute_reply": "2025-07-11T13:58:08.942293Z",
     "shell.execute_reply.started": "2025-07-11T13:58:08.934806Z"
    },
    "tags": [
     "challengify"
    ]
   },
   "outputs": [
    {
     "data": {
      "text/plain": [
       "{'Plot': 'Rich man builds metal suit and blasts things',\n",
       " 'Actors': ['RDJ', 'Gwyneth Paltrow', 'Jon Favreau'],\n",
       " 'Box Office Yields': [{'US': 4000000}, {'England': 4500000}, {'Asia': 50000}]}"
      ]
     },
     "execution_count": 7,
     "metadata": {},
     "output_type": "execute_result"
    }
   ],
   "source": [
    "iron_man = worlds_worst_variable[0][(\"Iron Man\", 2008)]\n",
    "iron_man"
   ]
  },
  {
   "cell_type": "markdown",
   "id": "e19550b0",
   "metadata": {},
   "source": [
    "Hmmm, looks like there is a mistake in the Iron Man details... It's unlikely that England alone had a higher box office yield than the entirety of the United States! A quick check would likely tell us that the key should be \"Europe\". So, we should probably change the \"England\" key to \"Europe\" in the Iron Man dictionary associated with `Box Office Yields`\n",
    "\n",
    "Sounds easy! Unfortunately, dictionary keys are immutable and difficult to change by design. The best approach would be to add a new entry with the correct key and remove the old entry with the incorrect key.\n",
    "\n",
    "\n",
    "So first let's look at the value associated with the key \"Box Office Yields\" in our `iron_man` details. What type is it?"
   ]
  },
  {
   "cell_type": "code",
   "execution_count": 8,
   "id": "4240a3b8",
   "metadata": {
    "execution": {
     "iopub.execute_input": "2025-07-11T13:58:15.290350Z",
     "iopub.status.busy": "2025-07-11T13:58:15.289136Z",
     "iopub.status.idle": "2025-07-11T13:58:15.298644Z",
     "shell.execute_reply": "2025-07-11T13:58:15.297627Z",
     "shell.execute_reply.started": "2025-07-11T13:58:15.290297Z"
    },
    "tags": [
     "challengify"
    ]
   },
   "outputs": [
    {
     "data": {
      "text/plain": [
       "[{'US': 4000000}, {'England': 4500000}, {'Asia': 50000}]"
      ]
     },
     "execution_count": 8,
     "metadata": {},
     "output_type": "execute_result"
    }
   ],
   "source": [
    "# Find the dictionary that we need to correct\n",
    "iron_man['Box Office Yields']"
   ]
  },
  {
   "cell_type": "code",
   "execution_count": 9,
   "id": "90e3ce1b",
   "metadata": {
    "execution": {
     "iopub.execute_input": "2025-07-11T13:58:18.322226Z",
     "iopub.status.busy": "2025-07-11T13:58:18.321513Z",
     "iopub.status.idle": "2025-07-11T13:58:18.332484Z",
     "shell.execute_reply": "2025-07-11T13:58:18.330493Z",
     "shell.execute_reply.started": "2025-07-11T13:58:18.322179Z"
    },
    "tags": [
     "delete"
    ]
   },
   "outputs": [
    {
     "data": {
      "text/plain": [
       "list"
      ]
     },
     "execution_count": 9,
     "metadata": {},
     "output_type": "execute_result"
    }
   ],
   "source": [
    "type(iron_man[\"Box Office Yields\"])"
   ]
  },
  {
   "cell_type": "markdown",
   "id": "7ea65459",
   "metadata": {},
   "source": [
    "Hmmmm... that's an unusual way to store this information, definitely not best practice, but we're not here to fix the fundamental structural issues in this variable!\n",
    "\n",
    "Let's just make a little change. We will replace the incorrect dictionary in this list with the correct information `{'Europe: 4500000}`\n",
    "\n",
    "Make sure you're changing the original variable `worlds_worst_variable` and not our `iron_man` variable!"
   ]
  },
  {
   "cell_type": "code",
   "execution_count": 10,
   "id": "1147d5df",
   "metadata": {
    "execution": {
     "iopub.execute_input": "2025-07-11T13:58:20.834333Z",
     "iopub.status.busy": "2025-07-11T13:58:20.833713Z",
     "iopub.status.idle": "2025-07-11T13:58:20.843040Z",
     "shell.execute_reply": "2025-07-11T13:58:20.841486Z",
     "shell.execute_reply.started": "2025-07-11T13:58:20.834283Z"
    },
    "tags": [
     "challengify"
    ]
   },
   "outputs": [],
   "source": [
    "worlds_worst_variable[0][(\"Iron Man\", 2008)]['Box Office Yields'][1]['Europe'] = 4500000"
   ]
  },
  {
   "cell_type": "markdown",
   "id": "eca359b8",
   "metadata": {},
   "source": [
    "Let's take a look at that list of \"Box Office Yields\" now!"
   ]
  },
  {
   "cell_type": "code",
   "execution_count": 11,
   "id": "657fffb4",
   "metadata": {
    "execution": {
     "iopub.execute_input": "2025-07-11T13:58:22.274127Z",
     "iopub.status.busy": "2025-07-11T13:58:22.271462Z",
     "iopub.status.idle": "2025-07-11T13:58:22.283110Z",
     "shell.execute_reply": "2025-07-11T13:58:22.282007Z",
     "shell.execute_reply.started": "2025-07-11T13:58:22.274072Z"
    },
    "tags": [
     "challengify"
    ]
   },
   "outputs": [
    {
     "data": {
      "text/plain": [
       "[{'US': 4000000}, {'England': 4500000, 'Europe': 4500000}, {'Asia': 50000}]"
      ]
     },
     "execution_count": 11,
     "metadata": {},
     "output_type": "execute_result"
    }
   ],
   "source": [
    "worlds_worst_variable[0][(\"Iron Man\", 2008)]['Box Office Yields']"
   ]
  },
  {
   "cell_type": "markdown",
   "id": "3d227af2",
   "metadata": {},
   "source": [
    "Now we need to take out the incorrect key-value pair"
   ]
  },
  {
   "cell_type": "code",
   "execution_count": 12,
   "id": "dd9579b5",
   "metadata": {
    "execution": {
     "iopub.execute_input": "2025-07-11T13:58:24.585990Z",
     "iopub.status.busy": "2025-07-11T13:58:24.585487Z",
     "iopub.status.idle": "2025-07-11T13:58:24.597726Z",
     "shell.execute_reply": "2025-07-11T13:58:24.596260Z",
     "shell.execute_reply.started": "2025-07-11T13:58:24.585946Z"
    },
    "tags": [
     "challengify"
    ]
   },
   "outputs": [
    {
     "data": {
      "text/plain": [
       "4500000"
      ]
     },
     "execution_count": 12,
     "metadata": {},
     "output_type": "execute_result"
    }
   ],
   "source": [
    "worlds_worst_variable[0][(\"Iron Man\", 2008)]['Box Office Yields'][1].pop('England')"
   ]
  },
  {
   "cell_type": "markdown",
   "id": "42b939e7",
   "metadata": {},
   "source": [
    "Fantastic! Now the original variable has been corrected. We could have achieved this in one line with the `.pop()` dictionary method. Because `.pop()` *returns* the value that is being removed from the list.\n",
    "\n",
    "`.pop()` removes an entry from a list or dictionary and returns that entry for use. Refer to the [python docs](https://docs.python.org/3/library/stdtypes.html?#dict.pop) or give it a google for more information.\n",
    "\n",
    "That would have looked like this:\n",
    "\n",
    "`worlds_worst_variable[0][(\"Iron Man\", 2008)]['Box Office Yields'][1]['Europe'] = worlds_worst_variable[0][(\"Iron Man\", 2008)]['Box Office Yields'][1].pop('England')`\n",
    "\n",
    "However, it's not necessary to do everything in one go like this when we're still learning. Let's learn to walk before we run!\n",
    "\n",
    "Let's save the \"Europe\" key-value pair dictionary we created to a variable called `updated_box_office`"
   ]
  },
  {
   "cell_type": "code",
   "execution_count": 13,
   "id": "36c7c38f",
   "metadata": {
    "execution": {
     "iopub.execute_input": "2025-07-11T13:58:26.188677Z",
     "iopub.status.busy": "2025-07-11T13:58:26.187651Z",
     "iopub.status.idle": "2025-07-11T13:58:26.198100Z",
     "shell.execute_reply": "2025-07-11T13:58:26.197128Z",
     "shell.execute_reply.started": "2025-07-11T13:58:26.188584Z"
    },
    "tags": [
     "challengify"
    ]
   },
   "outputs": [
    {
     "data": {
      "text/plain": [
       "{'Europe': 4500000}"
      ]
     },
     "execution_count": 13,
     "metadata": {},
     "output_type": "execute_result"
    }
   ],
   "source": [
    "# Confirming change\n",
    "updated_box_office = worlds_worst_variable[0][(\"Iron Man\", 2008)]['Box Office Yields'][1]\n",
    "updated_box_office"
   ]
  },
  {
   "cell_type": "markdown",
   "id": "33516f97",
   "metadata": {},
   "source": [
    "##  Task 2 - Missing Michael in Morbius\n",
    "\n",
    "We're missing a surprising cast member from the biggest box-office-smash blockbuster hit of 2022.  That's right, we'll need to add Michael Keaton to the cast of Morbius\n",
    "\n",
    "First, let's see which actors did make it into the cast list of our terrible variable!"
   ]
  },
  {
   "cell_type": "code",
   "execution_count": 14,
   "id": "adfbe245",
   "metadata": {
    "execution": {
     "iopub.execute_input": "2025-07-11T13:58:28.645873Z",
     "iopub.status.busy": "2025-07-11T13:58:28.645167Z",
     "iopub.status.idle": "2025-07-11T13:58:28.656267Z",
     "shell.execute_reply": "2025-07-11T13:58:28.654443Z",
     "shell.execute_reply.started": "2025-07-11T13:58:28.645825Z"
    },
    "tags": [
     "challengify"
    ]
   },
   "outputs": [
    {
     "data": {
      "text/plain": [
       "['Jared Leto', 'Matt Smith', 'Adria Arjona']"
      ]
     },
     "execution_count": 14,
     "metadata": {},
     "output_type": "execute_result"
    }
   ],
   "source": [
    "# Find the data type to determine what method to use\n",
    "worlds_worst_variable[0][(\"Morbius\", 2022)]['Actors']"
   ]
  },
  {
   "cell_type": "markdown",
   "id": "4cbc03a0",
   "metadata": {},
   "source": [
    "What type is that cast list?"
   ]
  },
  {
   "cell_type": "code",
   "execution_count": 15,
   "id": "1e2e187c",
   "metadata": {
    "execution": {
     "iopub.execute_input": "2025-07-11T13:58:30.572613Z",
     "iopub.status.busy": "2025-07-11T13:58:30.571310Z",
     "iopub.status.idle": "2025-07-11T13:58:30.581697Z",
     "shell.execute_reply": "2025-07-11T13:58:30.580364Z",
     "shell.execute_reply.started": "2025-07-11T13:58:30.572560Z"
    },
    "tags": [
     "challengify"
    ]
   },
   "outputs": [
    {
     "data": {
      "text/plain": [
       "list"
      ]
     },
     "execution_count": 15,
     "metadata": {},
     "output_type": "execute_result"
    }
   ],
   "source": [
    "type(worlds_worst_variable[0][(\"Morbius\", 2022)]['Actors'])"
   ]
  },
  {
   "cell_type": "markdown",
   "id": "b96e435e",
   "metadata": {},
   "source": [
    "Great, it should be pretty easy to add some information to that data type. Go ahead and add `'Michael Keaton'` to the `worlds_worst_variable`"
   ]
  },
  {
   "cell_type": "code",
   "execution_count": 16,
   "id": "4924754b",
   "metadata": {
    "execution": {
     "iopub.execute_input": "2025-07-11T13:58:32.308810Z",
     "iopub.status.busy": "2025-07-11T13:58:32.308173Z",
     "iopub.status.idle": "2025-07-11T13:58:32.318304Z",
     "shell.execute_reply": "2025-07-11T13:58:32.315982Z",
     "shell.execute_reply.started": "2025-07-11T13:58:32.308762Z"
    },
    "tags": [
     "challengify"
    ]
   },
   "outputs": [],
   "source": [
    "# It's a list, .append() is the go to method\n",
    "worlds_worst_variable[0][(\"Morbius\", 2022)]['Actors'].append('Michael Keaton')"
   ]
  },
  {
   "cell_type": "markdown",
   "id": "258480a1",
   "metadata": {},
   "source": [
    "Let's take a look at that cast list now and make sure it worked! Save that updated cast list to a variable `morbius_cast`"
   ]
  },
  {
   "cell_type": "code",
   "execution_count": 17,
   "id": "6135a9f8",
   "metadata": {
    "execution": {
     "iopub.execute_input": "2025-07-11T13:58:36.263252Z",
     "iopub.status.busy": "2025-07-11T13:58:36.262633Z",
     "iopub.status.idle": "2025-07-11T13:58:36.274533Z",
     "shell.execute_reply": "2025-07-11T13:58:36.273244Z",
     "shell.execute_reply.started": "2025-07-11T13:58:36.263208Z"
    },
    "tags": [
     "challengify"
    ]
   },
   "outputs": [
    {
     "data": {
      "text/plain": [
       "['Jared Leto', 'Matt Smith', 'Adria Arjona', 'Michael Keaton']"
      ]
     },
     "execution_count": 17,
     "metadata": {},
     "output_type": "execute_result"
    }
   ],
   "source": [
    "# Confirming change\n",
    "worlds_worst_variable[0][(\"Morbius\", 2022)]['Actors']"
   ]
  },
  {
   "cell_type": "markdown",
   "id": "cda1d872",
   "metadata": {},
   "source": [
    "## Task 3 - Doctor Spider?\n",
    "\n",
    "Let's look at the details for `'Doctor Strange'` in `worlds_worst_variable`"
   ]
  },
  {
   "cell_type": "code",
   "execution_count": 18,
   "id": "949d8e5a",
   "metadata": {
    "execution": {
     "iopub.execute_input": "2025-07-11T13:58:42.746923Z",
     "iopub.status.busy": "2025-07-11T13:58:42.746451Z",
     "iopub.status.idle": "2025-07-11T13:58:42.756108Z",
     "shell.execute_reply": "2025-07-11T13:58:42.754341Z",
     "shell.execute_reply.started": "2025-07-11T13:58:42.746882Z"
    },
    "tags": [
     "challengify"
    ]
   },
   "outputs": [
    {
     "data": {
      "text/plain": [
       "{'Plot': 'Boy with spider powers saves New York',\n",
       " 'Actors': ['Benedict Cumberbatch', 'Benedict Wong', 'Rachel McAdams'],\n",
       " 'Box Office Yields': [{'US': 353300}, {'Europe': 320500}, {'Asia': 74000}]}"
      ]
     },
     "execution_count": 18,
     "metadata": {},
     "output_type": "execute_result"
    }
   ],
   "source": [
    "# have a look at the existing data\n",
    "worlds_worst_variable[0][('Doctor Strange', 2016)]"
   ]
  },
  {
   "cell_type": "markdown",
   "id": "8923b4cb",
   "metadata": {},
   "source": [
    "Hmmmm... I'm not sure that plot is correct. Looks like we're going to have to update that value in the Doctor Strange dictionary.\n",
    "\n",
    "A more fitting plot description might be `\"Man with goatee learns to make sparks.\"`\n",
    "\n",
    "Before we can make this change, make sure we know exactly what kind of data we're working with."
   ]
  },
  {
   "cell_type": "code",
   "execution_count": 19,
   "id": "782f3225",
   "metadata": {
    "execution": {
     "iopub.execute_input": "2025-07-11T13:58:43.764761Z",
     "iopub.status.busy": "2025-07-11T13:58:43.764011Z",
     "iopub.status.idle": "2025-07-11T13:58:43.772753Z",
     "shell.execute_reply": "2025-07-11T13:58:43.771239Z",
     "shell.execute_reply.started": "2025-07-11T13:58:43.764662Z"
    },
    "tags": [
     "challengify"
    ]
   },
   "outputs": [
    {
     "data": {
      "text/plain": [
       "dict"
      ]
     },
     "execution_count": 19,
     "metadata": {},
     "output_type": "execute_result"
    }
   ],
   "source": [
    "# Determine data type\n",
    "type(worlds_worst_variable[0][(\"Doctor Strange\", 2016)])"
   ]
  },
  {
   "cell_type": "markdown",
   "id": "b9339c35",
   "metadata": {},
   "source": [
    "Knowing that it is a dictionary, reassign the value in the relevant key-value pair so that we've replaced that spider plot with our goatee plot!"
   ]
  },
  {
   "cell_type": "code",
   "execution_count": 20,
   "id": "c40d4701",
   "metadata": {
    "execution": {
     "iopub.execute_input": "2025-07-11T13:58:47.036913Z",
     "iopub.status.busy": "2025-07-11T13:58:47.035506Z",
     "iopub.status.idle": "2025-07-11T13:58:47.043246Z",
     "shell.execute_reply": "2025-07-11T13:58:47.041854Z",
     "shell.execute_reply.started": "2025-07-11T13:58:47.036836Z"
    },
    "tags": [
     "challengify"
    ]
   },
   "outputs": [],
   "source": [
    "worlds_worst_variable[0][(\"Doctor Strange\", 2016)]['Plot'] = \"Man with goatee learns to make sparks.\""
   ]
  },
  {
   "cell_type": "markdown",
   "id": "af911e98",
   "metadata": {},
   "source": [
    "Now check that the `worlds_worst_variable` has been updated with the correct plot"
   ]
  },
  {
   "cell_type": "code",
   "execution_count": 21,
   "id": "38c7ea76",
   "metadata": {
    "execution": {
     "iopub.execute_input": "2025-07-11T13:58:48.040478Z",
     "iopub.status.busy": "2025-07-11T13:58:48.039881Z",
     "iopub.status.idle": "2025-07-11T13:58:48.049906Z",
     "shell.execute_reply": "2025-07-11T13:58:48.048720Z",
     "shell.execute_reply.started": "2025-07-11T13:58:48.040435Z"
    },
    "tags": [
     "challengify"
    ]
   },
   "outputs": [
    {
     "data": {
      "text/plain": [
       "{'Plot': 'Man with goatee learns to make sparks.',\n",
       " 'Actors': ['Benedict Cumberbatch', 'Benedict Wong', 'Rachel McAdams'],\n",
       " 'Box Office Yields': [{'US': 353300}, {'Europe': 320500}, {'Asia': 74000}]}"
      ]
     },
     "execution_count": 21,
     "metadata": {},
     "output_type": "execute_result"
    }
   ],
   "source": [
    "# Confirm changes\n",
    "worlds_worst_variable[0][(\"Doctor Strange\", 2016)]"
   ]
  },
  {
   "cell_type": "markdown",
   "id": "6e92a268",
   "metadata": {},
   "source": [
    "## Task 4 -  Total European Box Office in 2016\n",
    "\n",
    "There are quite a few movies from 2016 in our variable. Let's add up all of the European box office yields for the movies released in 2016.\n",
    "\n",
    "**Hint:** First you might want to figure out how they are all stored, then you'll probably want to write some kind of for loop"
   ]
  },
  {
   "cell_type": "code",
   "execution_count": 22,
   "id": "ed06a2bb",
   "metadata": {
    "execution": {
     "iopub.execute_input": "2025-07-11T13:58:50.316702Z",
     "iopub.status.busy": "2025-07-11T13:58:50.315790Z",
     "iopub.status.idle": "2025-07-11T13:58:50.323072Z",
     "shell.execute_reply": "2025-07-11T13:58:50.322360Z",
     "shell.execute_reply.started": "2025-07-11T13:58:50.316655Z"
    },
    "tags": [
     "challengify"
    ]
   },
   "outputs": [
    {
     "data": {
      "text/plain": [
       "{'Europe': 4500000}"
      ]
     },
     "execution_count": 22,
     "metadata": {},
     "output_type": "execute_result"
    }
   ],
   "source": [
    "# find where European yields are in the variable\n",
    "worlds_worst_variable[0][('Iron Man', 2008)]['Box Office Yields'][1]"
   ]
  },
  {
   "cell_type": "code",
   "execution_count": 23,
   "id": "8facc392",
   "metadata": {
    "execution": {
     "iopub.execute_input": "2025-07-11T13:58:50.811487Z",
     "iopub.status.busy": "2025-07-11T13:58:50.811041Z",
     "iopub.status.idle": "2025-07-11T13:58:50.821276Z",
     "shell.execute_reply": "2025-07-11T13:58:50.820502Z",
     "shell.execute_reply.started": "2025-07-11T13:58:50.811455Z"
    },
    "tags": [
     "delete"
    ]
   },
   "outputs": [
    {
     "name": "stdout",
     "output_type": "stream",
     "text": [
      "Total yield in Europe is 4101500 American dollary doos.\n"
     ]
    }
   ],
   "source": [
    "total_yield = 0\n",
    "\n",
    "for movie_name, movie_info in worlds_worst_variable[0].items():\n",
    "    # When building loops, work iteratively, look at intermediate steps, for example:\n",
    "    # print(movie_name, movie_info)\n",
    "\n",
    "    # if statement to check year is 2016\n",
    "    if movie_name[1] == 2016:\n",
    "        # add yield to total_yield\n",
    "        total_yield += movie_info['Box Office Yields'][1]['Europe']\n",
    "\n",
    "print(f'Total yield in Europe is {total_yield} American dollary doos.')"
   ]
  },
  {
   "cell_type": "markdown",
   "id": "9bedb289",
   "metadata": {},
   "source": [
    "### This for loop could have been a list comprehension... Or could it?\n",
    "\n",
    "Sometimes, we're too busy thinking about whether we _CAN_ write a list comprehension, we forget to stop and think about whether we _SHOULD_"
   ]
  },
  {
   "cell_type": "code",
   "execution_count": 24,
   "id": "0250445d",
   "metadata": {
    "execution": {
     "iopub.execute_input": "2025-07-11T13:58:53.019225Z",
     "iopub.status.busy": "2025-07-11T13:58:53.018786Z",
     "iopub.status.idle": "2025-07-11T13:58:53.025037Z",
     "shell.execute_reply": "2025-07-11T13:58:53.024216Z",
     "shell.execute_reply.started": "2025-07-11T13:58:53.019189Z"
    },
    "tags": [
     "challengify"
    ]
   },
   "outputs": [
    {
     "name": "stdout",
     "output_type": "stream",
     "text": [
      "Total yield in Europe is 4101500 American dollars.\n"
     ]
    }
   ],
   "source": [
    "# as comprehension\n",
    "total_yield = sum([movie_info['Box Office Yields'][1]['Europe'] for movie_name, movie_info in worlds_worst_variable[0].items() if movie_name[1] == 2016 ])\n",
    "print(f'Total yield in Europe is {total_yield} American dollars.')"
   ]
  },
  {
   "cell_type": "markdown",
   "id": "b231a4c4",
   "metadata": {},
   "source": [
    "Readability of code is almost always preferable to single line code and this code definitely isn't easily readable...\n",
    "\n",
    "This is why you **_should not_** use list comprehensions on variables with complex structures!"
   ]
  },
  {
   "cell_type": "markdown",
   "id": "a58de402",
   "metadata": {},
   "source": [
    "# Excelsior! You did it! Time to push to kitt!"
   ]
  },
  {
   "cell_type": "code",
   "execution_count": null,
   "id": "fd7c8bd3-3844-46aa-8546-3c0cbbf0f7e3",
   "metadata": {},
   "outputs": [],
   "source": []
  }
 ],
 "metadata": {
  "kernelspec": {
   "display_name": "Python 3 (ipykernel)",
   "language": "python",
   "name": "python3"
  },
  "language_info": {
   "codemirror_mode": {
    "name": "ipython",
    "version": 3
   },
   "file_extension": ".py",
   "mimetype": "text/x-python",
   "name": "python",
   "nbconvert_exporter": "python",
   "pygments_lexer": "ipython3",
   "version": "3.10.6"
  }
 },
 "nbformat": 4,
 "nbformat_minor": 5
}
