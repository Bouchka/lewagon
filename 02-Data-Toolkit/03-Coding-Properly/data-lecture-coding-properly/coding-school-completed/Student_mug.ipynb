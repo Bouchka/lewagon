{
 "cells": [
  {
   "cell_type": "markdown",
   "id": "8e952da7-582e-44e0-b7b7-d6e2939d7723",
   "metadata": {
    "execution": {
     "iopub.execute_input": "2025-07-10T20:47:12.201448Z",
     "iopub.status.busy": "2025-07-10T20:47:12.200641Z",
     "iopub.status.idle": "2025-07-10T20:47:12.209617Z",
     "shell.execute_reply": "2025-07-10T20:47:12.207281Z",
     "shell.execute_reply.started": "2025-07-10T20:47:12.201375Z"
    }
   },
   "source": [
    "## OOP"
   ]
  },
  {
   "cell_type": "code",
   "execution_count": 1,
   "id": "0fd485bd-931e-4d18-809e-6be60f7bd5fc",
   "metadata": {
    "execution": {
     "iopub.execute_input": "2025-07-11T07:50:42.441902Z",
     "iopub.status.busy": "2025-07-11T07:50:42.440313Z",
     "iopub.status.idle": "2025-07-11T07:50:42.455611Z",
     "shell.execute_reply": "2025-07-11T07:50:42.454724Z",
     "shell.execute_reply.started": "2025-07-11T07:50:42.441843Z"
    },
    "scrolled": true
   },
   "outputs": [],
   "source": [
    "# I created a mold to make a beautiful mug - my Class -> a template\n",
    "# I can import my documented Class here - located in the school folder\n",
    "from school.student import Student"
   ]
  },
  {
   "cell_type": "code",
   "execution_count": 2,
   "id": "5cfa17fc-a414-4c16-8e1d-5e4dca3521f7",
   "metadata": {
    "execution": {
     "iopub.execute_input": "2025-07-11T07:50:48.938477Z",
     "iopub.status.busy": "2025-07-11T07:50:48.937997Z",
     "iopub.status.idle": "2025-07-11T07:50:48.945364Z",
     "shell.execute_reply": "2025-07-11T07:50:48.943902Z",
     "shell.execute_reply.started": "2025-07-11T07:50:48.938439Z"
    }
   },
   "outputs": [],
   "source": [
    "# Instantiate! I am making a big clay mug, using the mold\n",
    "# And I put a certain type of coffee grain in the mug!\n",
    "margo = Student(\"margo\", 34)"
   ]
  },
  {
   "cell_type": "code",
   "execution_count": 3,
   "id": "ff95a832-f450-4810-b2f2-320e64eaeb35",
   "metadata": {
    "execution": {
     "iopub.execute_input": "2025-07-11T07:50:51.708921Z",
     "iopub.status.busy": "2025-07-11T07:50:51.708265Z",
     "iopub.status.idle": "2025-07-11T07:50:51.722381Z",
     "shell.execute_reply": "2025-07-11T07:50:51.721416Z",
     "shell.execute_reply.started": "2025-07-11T07:50:51.708860Z"
    }
   },
   "outputs": [
    {
     "data": {
      "text/plain": [
       "'Margo says: I was a student of batch 7!'"
      ]
     },
     "execution_count": 3,
     "metadata": {},
     "output_type": "execute_result"
    }
   ],
   "source": [
    "# Now I am drinking my latte - finally !!\n",
    "margo.says(\"I was a student of batch 7!\")"
   ]
  },
  {
   "cell_type": "code",
   "execution_count": 27,
   "id": "687fad77-0e32-46dd-be05-25db02666772",
   "metadata": {
    "execution": {
     "iopub.execute_input": "2025-07-10T20:28:22.450028Z",
     "iopub.status.busy": "2025-07-10T20:28:22.449451Z",
     "iopub.status.idle": "2025-07-10T20:28:22.456696Z",
     "shell.execute_reply": "2025-07-10T20:28:22.454849Z",
     "shell.execute_reply.started": "2025-07-10T20:28:22.449979Z"
    }
   },
   "outputs": [],
   "source": [
    "# Ok, I love my mugs - but sometimes, I want my espresso SHORT.\n",
    "# So - I will make a mini mold of same shape and color - but smaller ... and will store it inside my initial mold!\n",
    "John = Student.from_birth_year(\"John\", 1991)"
   ]
  },
  {
   "cell_type": "code",
   "execution_count": 28,
   "id": "3b973ed3-cb3a-4f5c-a51f-dab5e35e4ec9",
   "metadata": {
    "execution": {
     "iopub.execute_input": "2025-07-10T20:28:23.057081Z",
     "iopub.status.busy": "2025-07-10T20:28:23.056221Z",
     "iopub.status.idle": "2025-07-10T20:28:23.064716Z",
     "shell.execute_reply": "2025-07-10T20:28:23.063427Z",
     "shell.execute_reply.started": "2025-07-10T20:28:23.057028Z"
    }
   },
   "outputs": [
    {
     "data": {
      "text/plain": [
       "34"
      ]
     },
     "execution_count": 28,
     "metadata": {},
     "output_type": "execute_result"
    }
   ],
   "source": [
    "# And now, I can take an espresso SHOT!\n",
    "John.age"
   ]
  },
  {
   "cell_type": "code",
   "execution_count": 29,
   "id": "52e4f090-3e81-4f6b-a0c5-48dd48f4bc18",
   "metadata": {
    "execution": {
     "iopub.execute_input": "2025-07-10T20:46:54.915418Z",
     "iopub.status.busy": "2025-07-10T20:46:54.914790Z",
     "iopub.status.idle": "2025-07-10T20:46:54.924857Z",
     "shell.execute_reply": "2025-07-10T20:46:54.923685Z",
     "shell.execute_reply.started": "2025-07-10T20:46:54.915363Z"
    }
   },
   "outputs": [],
   "source": [
    "from school.engstudent import EngStudent"
   ]
  },
  {
   "cell_type": "code",
   "execution_count": null,
   "id": "d362d4fc-814e-4103-b03c-0178328d3bab",
   "metadata": {},
   "outputs": [],
   "source": []
  }
 ],
 "metadata": {
  "kernelspec": {
   "display_name": "Python 3 (ipykernel)",
   "language": "python",
   "name": "python3"
  },
  "language_info": {
   "codemirror_mode": {
    "name": "ipython",
    "version": 3
   },
   "file_extension": ".py",
   "mimetype": "text/x-python",
   "name": "python",
   "nbconvert_exporter": "python",
   "pygments_lexer": "ipython3",
   "version": "3.10.6"
  }
 },
 "nbformat": 4,
 "nbformat_minor": 5
}
