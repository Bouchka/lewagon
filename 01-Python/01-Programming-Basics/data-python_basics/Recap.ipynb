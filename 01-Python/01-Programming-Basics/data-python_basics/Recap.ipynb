{
 "cells": [
  {
   "attachments": {},
   "cell_type": "markdown",
   "metadata": {},
   "source": [
    "# Reboot - Python Basics\n",
    "\n",
    "This is a set of small independent assignments to recap the concepts of the day.\n",
    "\n",
    "## 1. Variables\n",
    "\n",
    "Create a `country` variable and assign your favorite country to it. Print it"
   ]
  },
  {
   "cell_type": "code",
   "execution_count": 1,
   "metadata": {
    "execution": {
     "iopub.execute_input": "2025-07-07T20:19:14.841402Z",
     "iopub.status.busy": "2025-07-07T20:19:14.840373Z",
     "iopub.status.idle": "2025-07-07T20:19:14.853814Z",
     "shell.execute_reply": "2025-07-07T20:19:14.852514Z",
     "shell.execute_reply.started": "2025-07-07T20:19:14.841348Z"
    },
    "tags": [
     "challengify"
    ]
   },
   "outputs": [
    {
     "name": "stdout",
     "output_type": "stream",
     "text": [
      "France\n"
     ]
    }
   ],
   "source": [
    "country = \"France\"\n",
    "print(country)"
   ]
  },
  {
   "attachments": {},
   "cell_type": "markdown",
   "metadata": {},
   "source": [
    "Create an `animal` variable and assign your favorite animal to it. Print it"
   ]
  },
  {
   "cell_type": "code",
   "execution_count": 2,
   "metadata": {
    "execution": {
     "iopub.execute_input": "2025-07-07T20:19:17.759997Z",
     "iopub.status.busy": "2025-07-07T20:19:17.759337Z",
     "iopub.status.idle": "2025-07-07T20:19:17.767215Z",
     "shell.execute_reply": "2025-07-07T20:19:17.765971Z",
     "shell.execute_reply.started": "2025-07-07T20:19:17.759932Z"
    },
    "tags": [
     "challengify"
    ]
   },
   "outputs": [
    {
     "name": "stdout",
     "output_type": "stream",
     "text": [
      "cat\n"
     ]
    }
   ],
   "source": [
    "animal = \"cat\"\n",
    "print(animal)"
   ]
  },
  {
   "attachments": {},
   "cell_type": "markdown",
   "metadata": {},
   "source": [
    "Create an `animal_count` variable with any positive integer in it. Print it"
   ]
  },
  {
   "cell_type": "code",
   "execution_count": 3,
   "metadata": {
    "execution": {
     "iopub.execute_input": "2025-07-07T20:19:19.828048Z",
     "iopub.status.busy": "2025-07-07T20:19:19.827312Z",
     "iopub.status.idle": "2025-07-07T20:19:19.834330Z",
     "shell.execute_reply": "2025-07-07T20:19:19.833098Z",
     "shell.execute_reply.started": "2025-07-07T20:19:19.827993Z"
    },
    "tags": [
     "challengify"
    ]
   },
   "outputs": [
    {
     "name": "stdout",
     "output_type": "stream",
     "text": [
      "200\n"
     ]
    }
   ],
   "source": [
    "animal_count = 200\n",
    "print(animal_count)"
   ]
  },
  {
   "attachments": {},
   "cell_type": "markdown",
   "metadata": {},
   "source": [
    "Print out a string using all your variables that follows this format:\n",
    "`\"I just ordered 200 monkeys from Denmark\"`\n",
    "\n",
    "**Hint**: use interpolation"
   ]
  },
  {
   "cell_type": "code",
   "execution_count": 4,
   "metadata": {
    "execution": {
     "iopub.execute_input": "2025-07-07T20:19:23.791805Z",
     "iopub.status.busy": "2025-07-07T20:19:23.791021Z",
     "iopub.status.idle": "2025-07-07T20:19:23.798728Z",
     "shell.execute_reply": "2025-07-07T20:19:23.797351Z",
     "shell.execute_reply.started": "2025-07-07T20:19:23.791749Z"
    },
    "tags": [
     "challengify"
    ]
   },
   "outputs": [
    {
     "name": "stdout",
     "output_type": "stream",
     "text": [
      "I just ordered 200 cats from France\n"
     ]
    }
   ],
   "source": [
    "# Interpolation\n",
    "print(f\"I just ordered {animal_count} {animal}s from {country}\")"
   ]
  },
  {
   "cell_type": "code",
   "execution_count": 5,
   "metadata": {
    "execution": {
     "iopub.execute_input": "2025-07-07T20:19:24.715745Z",
     "iopub.status.busy": "2025-07-07T20:19:24.715013Z",
     "iopub.status.idle": "2025-07-07T20:19:24.724024Z",
     "shell.execute_reply": "2025-07-07T20:19:24.721903Z",
     "shell.execute_reply.started": "2025-07-07T20:19:24.715693Z"
    },
    "tags": [
     "delete"
    ]
   },
   "outputs": [
    {
     "name": "stdout",
     "output_type": "stream",
     "text": [
      "I just ordered 200 cats from France\n"
     ]
    }
   ],
   "source": [
    "# Concatenation\n",
    "print(\"I just ordered \" + str(animal_count) + \" \" + animal + \"s from \" + country)"
   ]
  },
  {
   "attachments": {},
   "cell_type": "markdown",
   "metadata": {},
   "source": [
    "---\n",
    "## 2. Data Types\n",
    "Now it's time to talk about data types. The first question to ask yourself before starting any coding task, is to determine which data types you're working with.\n",
    "\n",
    "Run the following cells and pay attention to the variables initialized:"
   ]
  },
  {
   "cell_type": "code",
   "execution_count": 6,
   "metadata": {
    "execution": {
     "iopub.execute_input": "2025-07-07T20:19:27.992970Z",
     "iopub.status.busy": "2025-07-07T20:19:27.992002Z",
     "iopub.status.idle": "2025-07-07T20:19:27.998308Z",
     "shell.execute_reply": "2025-07-07T20:19:27.996958Z",
     "shell.execute_reply.started": "2025-07-07T20:19:27.992924Z"
    }
   },
   "outputs": [
    {
     "name": "stdout",
     "output_type": "stream",
     "text": [
      "Variables are now defined!\n"
     ]
    }
   ],
   "source": [
    "pi = 3.14\n",
    "food = 'pizza'\n",
    "colors = ['red', 'blue', 'yellow']\n",
    "print(\"Variables are now defined!\")"
   ]
  },
  {
   "attachments": {},
   "cell_type": "markdown",
   "metadata": {},
   "source": [
    "Assign each variable's correct data types (`str`, `float`, `list`) to new variables called `pi_type`, `food_type`, and `colors_type`. Then run the lower cell. \n",
    "\n",
    "The cell should display `True` when you define the right data types."
   ]
  },
  {
   "cell_type": "code",
   "execution_count": 21,
   "metadata": {
    "execution": {
     "iopub.execute_input": "2025-07-07T20:23:04.812928Z",
     "iopub.status.busy": "2025-07-07T20:23:04.811784Z",
     "iopub.status.idle": "2025-07-07T20:23:04.819337Z",
     "shell.execute_reply": "2025-07-07T20:23:04.817644Z",
     "shell.execute_reply.started": "2025-07-07T20:23:04.812869Z"
    },
    "tags": [
     "delete"
    ]
   },
   "outputs": [],
   "source": [
    "# $DELETE_BEGIN\n",
    "pi_type = float\n",
    "food_type = str\n",
    "colors_type = list\n",
    "# $DELETE_END"
   ]
  },
  {
   "cell_type": "code",
   "execution_count": 22,
   "metadata": {
    "execution": {
     "iopub.execute_input": "2025-07-07T20:23:04.949133Z",
     "iopub.status.busy": "2025-07-07T20:23:04.948644Z",
     "iopub.status.idle": "2025-07-07T20:23:04.958487Z",
     "shell.execute_reply": "2025-07-07T20:23:04.957023Z",
     "shell.execute_reply.started": "2025-07-07T20:23:04.949091Z"
    }
   },
   "outputs": [
    {
     "data": {
      "text/plain": [
       "True"
      ]
     },
     "execution_count": 22,
     "metadata": {},
     "output_type": "execute_result"
    }
   ],
   "source": [
    "type(pi) == pi_type \\\n",
    "and type(food) == food_type \\\n",
    "and type(colors) == colors_type"
   ]
  },
  {
   "attachments": {},
   "cell_type": "markdown",
   "metadata": {},
   "source": [
    "Let's try to work with other data types. This time there's no hint."
   ]
  },
  {
   "cell_type": "code",
   "execution_count": 23,
   "metadata": {
    "execution": {
     "iopub.execute_input": "2025-07-07T20:23:46.827209Z",
     "iopub.status.busy": "2025-07-07T20:23:46.826553Z",
     "iopub.status.idle": "2025-07-07T20:23:46.835638Z",
     "shell.execute_reply": "2025-07-07T20:23:46.834155Z",
     "shell.execute_reply.started": "2025-07-07T20:23:46.827153Z"
    }
   },
   "outputs": [
    {
     "name": "stdout",
     "output_type": "stream",
     "text": [
      "Variables are now defined!\n"
     ]
    }
   ],
   "source": [
    "user_profile = {'email': 'buffy@gmail.com', 'age': 19, 'password': 'hunter2', 'profession': 'Vampire Slayer' }\n",
    "shapes = ('square', 'round', 'hexagonic')\n",
    "age = 25\n",
    "age_valid = (age < 18)\n",
    "print(\"Variables are now defined!\")"
   ]
  },
  {
   "attachments": {},
   "cell_type": "markdown",
   "metadata": {},
   "source": [
    "Let's repeat the exercise from before with the new variables. Start by defining `user_profile_type`, `shapes_type`, and `age_valid_type`. Once again, the cell should display `True` when you're done."
   ]
  },
  {
   "cell_type": "code",
   "execution_count": 24,
   "metadata": {
    "execution": {
     "iopub.execute_input": "2025-07-07T20:23:48.195849Z",
     "iopub.status.busy": "2025-07-07T20:23:48.195154Z",
     "iopub.status.idle": "2025-07-07T20:23:48.205136Z",
     "shell.execute_reply": "2025-07-07T20:23:48.203166Z",
     "shell.execute_reply.started": "2025-07-07T20:23:48.195794Z"
    }
   },
   "outputs": [
    {
     "ename": "SyntaxError",
     "evalue": "invalid syntax (2973940922.py, line 1)",
     "output_type": "error",
     "traceback": [
      "\u001b[0;36m  Cell \u001b[0;32mIn[24], line 1\u001b[0;36m\u001b[0m\n\u001b[0;31m    user_profile_type = ?\u001b[0m\n\u001b[0m                        ^\u001b[0m\n\u001b[0;31mSyntaxError\u001b[0m\u001b[0;31m:\u001b[0m invalid syntax\n"
     ]
    }
   ],
   "source": [
    "user_profile_type = ?\n",
    "shapes_type = ?\n",
    "age_valid_type = ?"
   ]
  },
  {
   "cell_type": "code",
   "execution_count": 25,
   "metadata": {
    "execution": {
     "iopub.execute_input": "2025-07-07T20:23:51.074127Z",
     "iopub.status.busy": "2025-07-07T20:23:51.073399Z",
     "iopub.status.idle": "2025-07-07T20:23:51.080463Z",
     "shell.execute_reply": "2025-07-07T20:23:51.078411Z",
     "shell.execute_reply.started": "2025-07-07T20:23:51.074067Z"
    },
    "tags": [
     "delete"
    ]
   },
   "outputs": [],
   "source": [
    "user_profile_type = dict\n",
    "shapes_type = tuple\n",
    "age_valid_type = bool"
   ]
  },
  {
   "cell_type": "code",
   "execution_count": 26,
   "metadata": {
    "execution": {
     "iopub.execute_input": "2025-07-07T20:23:51.252665Z",
     "iopub.status.busy": "2025-07-07T20:23:51.251814Z",
     "iopub.status.idle": "2025-07-07T20:23:51.261733Z",
     "shell.execute_reply": "2025-07-07T20:23:51.260338Z",
     "shell.execute_reply.started": "2025-07-07T20:23:51.252616Z"
    }
   },
   "outputs": [
    {
     "data": {
      "text/plain": [
       "True"
      ]
     },
     "execution_count": 26,
     "metadata": {},
     "output_type": "execute_result"
    }
   ],
   "source": [
    "type(shapes) == shapes_type \\\n",
    "and type(user_profile) == user_profile_type \\\n",
    "and type(age_valid) == age_valid_type"
   ]
  },
  {
   "attachments": {},
   "cell_type": "markdown",
   "metadata": {},
   "source": [
    "---\n",
    "\n",
    "## 3. Functions\n",
    "\n",
    "Create a fuction `credit_card_industry` which takes one parameter (a `str` storing a credit card number like `\"4242 4242 4242 4242\"` for instance) and **return** one of the following industries:\n",
    "\n",
    "- Airline\n",
    "- Visa\n",
    "- Mastercard\n",
    "- Other\n",
    "\n",
    "This [article](https://www.thebalance.com/what-do-the-numbers-on-your-credit-card-mean-4588401) explains how credit card numbers are composed. You can define the type of card from the first digit:\n",
    "\n",
    "| First digit | Type of card |\n",
    "| --- | --- |\n",
    "| 1\t| Airline |\n",
    "| 2\t| Some Mastercard accounts since 2017 |\n",
    "| 3\t| American Express and Diners Club |\n",
    "| 4\t| Visa |\n",
    "| 5\t| Mastercard |\n",
    "| 6\t| Discover |\n",
    "| 7\t| Petroleum |\n",
    "| 8\t| Telecommunications |\n",
    "| 9\t| Government |"
   ]
  },
  {
   "cell_type": "code",
   "execution_count": 27,
   "metadata": {
    "execution": {
     "iopub.execute_input": "2025-07-07T20:23:56.604104Z",
     "iopub.status.busy": "2025-07-07T20:23:56.603230Z",
     "iopub.status.idle": "2025-07-07T20:23:56.612407Z",
     "shell.execute_reply": "2025-07-07T20:23:56.609511Z",
     "shell.execute_reply.started": "2025-07-07T20:23:56.604060Z"
    },
    "tags": [
     "challengify"
    ]
   },
   "outputs": [],
   "source": [
    "def credit_card_industry(credit_card):\n",
    "    first_digit = int(credit_card[0])\n",
    "    if first_digit == 1:\n",
    "        return \"Airline\"\n",
    "    elif first_digit == 4:\n",
    "        return \"Visa\"\n",
    "    elif first_digit == 5 or first_digit == 2:\n",
    "        return \"Mastercard\"\n",
    "\n",
    "    return \"Other\""
   ]
  },
  {
   "cell_type": "code",
   "execution_count": 28,
   "metadata": {
    "execution": {
     "iopub.execute_input": "2025-07-07T20:24:00.854527Z",
     "iopub.status.busy": "2025-07-07T20:24:00.853848Z",
     "iopub.status.idle": "2025-07-07T20:24:00.861386Z",
     "shell.execute_reply": "2025-07-07T20:24:00.859893Z",
     "shell.execute_reply.started": "2025-07-07T20:24:00.854484Z"
    },
    "tags": [
     "delete"
    ]
   },
   "outputs": [
    {
     "data": {
      "text/plain": [
       "True"
      ]
     },
     "execution_count": 28,
     "metadata": {},
     "output_type": "execute_result"
    }
   ],
   "source": [
    "name = \"paul\" # name -> str\n",
    "\"4242 4242\".startswith(\"4\")"
   ]
  },
  {
   "cell_type": "code",
   "execution_count": 29,
   "metadata": {
    "execution": {
     "iopub.execute_input": "2025-07-07T20:24:29.054114Z",
     "iopub.status.busy": "2025-07-07T20:24:29.053446Z",
     "iopub.status.idle": "2025-07-07T20:24:29.062146Z",
     "shell.execute_reply": "2025-07-07T20:24:29.060927Z",
     "shell.execute_reply.started": "2025-07-07T20:24:29.054045Z"
    },
    "tags": [
     "delete"
    ]
   },
   "outputs": [],
   "source": [
    "# Alternative Implementation:\n",
    "def credit_card_industry(credit_card):\n",
    "    mapping = {\n",
    "        \"1\": \"Airline\",\n",
    "        \"2\": \"Mastercard\",\n",
    "        \"4\": \"Visa\",\n",
    "        \"5\": \"Mastercard\"\n",
    "    }\n",
    "    return mapping.get(credit_card[0], \"Other\")"
   ]
  },
  {
   "attachments": {},
   "cell_type": "markdown",
   "metadata": {},
   "source": [
    "Call this function and **print** the result for the following card numbers:"
   ]
  },
  {
   "cell_type": "code",
   "execution_count": 30,
   "metadata": {
    "execution": {
     "iopub.execute_input": "2025-07-07T20:24:31.056077Z",
     "iopub.status.busy": "2025-07-07T20:24:31.055402Z",
     "iopub.status.idle": "2025-07-07T20:24:31.065548Z",
     "shell.execute_reply": "2025-07-07T20:24:31.064428Z",
     "shell.execute_reply.started": "2025-07-07T20:24:31.055980Z"
    }
   },
   "outputs": [
    {
     "data": {
      "text/plain": [
       "'1002 0494 8191 1719'"
      ]
     },
     "execution_count": 30,
     "metadata": {},
     "output_type": "execute_result"
    }
   ],
   "source": [
    "\"4539 0132 4843 4768\"\n",
    "\"5131 9376 6800 4058\"\n",
    "\"3762 8789 1971 1060\"\n",
    "\"1002 0494 8191 1719\""
   ]
  },
  {
   "cell_type": "code",
   "execution_count": 31,
   "metadata": {
    "execution": {
     "iopub.execute_input": "2025-07-07T20:24:43.994847Z",
     "iopub.status.busy": "2025-07-07T20:24:43.993955Z",
     "iopub.status.idle": "2025-07-07T20:24:44.003279Z",
     "shell.execute_reply": "2025-07-07T20:24:44.002206Z",
     "shell.execute_reply.started": "2025-07-07T20:24:43.994791Z"
    }
   },
   "outputs": [
    {
     "data": {
      "text/plain": [
       "'Visa'"
      ]
     },
     "execution_count": 31,
     "metadata": {},
     "output_type": "execute_result"
    }
   ],
   "source": [
    "credit_card_industry(\"4539 0132 4843 4768\")"
   ]
  },
  {
   "cell_type": "code",
   "execution_count": 32,
   "metadata": {
    "execution": {
     "iopub.execute_input": "2025-07-07T20:24:44.909733Z",
     "iopub.status.busy": "2025-07-07T20:24:44.909100Z",
     "iopub.status.idle": "2025-07-07T20:24:44.914640Z",
     "shell.execute_reply": "2025-07-07T20:24:44.913590Z",
     "shell.execute_reply.started": "2025-07-07T20:24:44.909698Z"
    }
   },
   "outputs": [
    {
     "data": {
      "text/plain": [
       "'Mastercard'"
      ]
     },
     "execution_count": 32,
     "metadata": {},
     "output_type": "execute_result"
    }
   ],
   "source": [
    "credit_card_industry(\"5131 9376 6800 4058\")"
   ]
  },
  {
   "attachments": {},
   "cell_type": "markdown",
   "metadata": {},
   "source": [
    "---\n",
    "## 4. Lists\n",
    "\n",
    "Create a `genres` variable with a list of 3 different movie genres as strings. Print the list."
   ]
  },
  {
   "cell_type": "code",
   "execution_count": 33,
   "metadata": {
    "execution": {
     "iopub.execute_input": "2025-07-07T20:24:50.361304Z",
     "iopub.status.busy": "2025-07-07T20:24:50.360665Z",
     "iopub.status.idle": "2025-07-07T20:24:50.368388Z",
     "shell.execute_reply": "2025-07-07T20:24:50.367097Z",
     "shell.execute_reply.started": "2025-07-07T20:24:50.361248Z"
    },
    "tags": [
     "challengify"
    ]
   },
   "outputs": [
    {
     "name": "stdout",
     "output_type": "stream",
     "text": [
      "['drama', 'thriler', 'action']\n"
     ]
    }
   ],
   "source": [
    "genres = [ 'drama', 'thriler', 'action' ]\n",
    "print(genres)"
   ]
  },
  {
   "attachments": {},
   "cell_type": "markdown",
   "metadata": {},
   "source": [
    "Add another genre to the list. Print the whole list."
   ]
  },
  {
   "cell_type": "code",
   "execution_count": 34,
   "metadata": {
    "execution": {
     "iopub.execute_input": "2025-07-07T20:24:53.424608Z",
     "iopub.status.busy": "2025-07-07T20:24:53.423317Z",
     "iopub.status.idle": "2025-07-07T20:24:53.432466Z",
     "shell.execute_reply": "2025-07-07T20:24:53.430974Z",
     "shell.execute_reply.started": "2025-07-07T20:24:53.424547Z"
    },
    "tags": [
     "challengify"
    ]
   },
   "outputs": [
    {
     "name": "stdout",
     "output_type": "stream",
     "text": [
      "['drama', 'thriler', 'action', 'comedy']\n"
     ]
    }
   ],
   "source": [
    "genres.append('comedy')\n",
    "print(genres)"
   ]
  },
  {
   "attachments": {},
   "cell_type": "markdown",
   "metadata": {},
   "source": [
    "Change the name of the second genre on the list. Print the whole list"
   ]
  },
  {
   "cell_type": "code",
   "execution_count": 35,
   "metadata": {
    "execution": {
     "iopub.execute_input": "2025-07-07T20:24:57.407404Z",
     "iopub.status.busy": "2025-07-07T20:24:57.405715Z",
     "iopub.status.idle": "2025-07-07T20:24:57.414224Z",
     "shell.execute_reply": "2025-07-07T20:24:57.412784Z",
     "shell.execute_reply.started": "2025-07-07T20:24:57.407343Z"
    },
    "tags": [
     "challengify"
    ]
   },
   "outputs": [
    {
     "name": "stdout",
     "output_type": "stream",
     "text": [
      "['drama', 'thriller', 'action', 'comedy']\n"
     ]
    }
   ],
   "source": [
    "genres[1] = 'thriller'\n",
    "print(genres)"
   ]
  },
  {
   "attachments": {},
   "cell_type": "markdown",
   "metadata": {},
   "source": [
    "Print each genre (sorted) to the terminal following this format (use a for loop with enumerate):\n",
    "\n",
    "```\n",
    "1 - Action\n",
    "2 - Comedy\n",
    "3 - Drama\n",
    "4 - Thriller\n",
    "```"
   ]
  },
  {
   "cell_type": "code",
   "execution_count": 36,
   "metadata": {
    "execution": {
     "iopub.execute_input": "2025-07-07T20:25:00.602245Z",
     "iopub.status.busy": "2025-07-07T20:25:00.600954Z",
     "iopub.status.idle": "2025-07-07T20:25:00.609360Z",
     "shell.execute_reply": "2025-07-07T20:25:00.607993Z",
     "shell.execute_reply.started": "2025-07-07T20:25:00.602179Z"
    },
    "tags": [
     "challengify"
    ]
   },
   "outputs": [
    {
     "name": "stdout",
     "output_type": "stream",
     "text": [
      "1 - Action\n",
      "2 - Comedy\n",
      "3 - Drama\n",
      "4 - Thriller\n"
     ]
    }
   ],
   "source": [
    "for index, genre in enumerate(sorted(genres)):\n",
    "    print(f\"{index + 1} - {genre.capitalize()}\")"
   ]
  },
  {
   "cell_type": "code",
   "execution_count": 37,
   "metadata": {
    "execution": {
     "iopub.execute_input": "2025-07-07T20:25:05.506849Z",
     "iopub.status.busy": "2025-07-07T20:25:05.506133Z",
     "iopub.status.idle": "2025-07-07T20:25:05.517147Z",
     "shell.execute_reply": "2025-07-07T20:25:05.515855Z",
     "shell.execute_reply.started": "2025-07-07T20:25:05.506790Z"
    },
    "tags": [
     "delete"
    ]
   },
   "outputs": [
    {
     "data": {
      "text/plain": [
       "[1, 4, 9]"
      ]
     },
     "execution_count": 37,
     "metadata": {},
     "output_type": "execute_result"
    }
   ],
   "source": [
    "sorted([4, 9, 1])"
   ]
  },
  {
   "attachments": {},
   "cell_type": "markdown",
   "metadata": {},
   "source": [
    "---\n",
    "## 5. Dictionaries\n",
    "\n",
    "Create a `movie` variable with a dictionary containing information about any movie. It should contain the keys `year` and `title` with appropriate values. You can get some inspiration on [IMDB](https://www.imdb.com/search/title/?count=100&groups=top_1000&sort=user_rating)"
   ]
  },
  {
   "cell_type": "code",
   "execution_count": 38,
   "metadata": {
    "execution": {
     "iopub.execute_input": "2025-07-07T20:25:09.804629Z",
     "iopub.status.busy": "2025-07-07T20:25:09.803951Z",
     "iopub.status.idle": "2025-07-07T20:25:09.812538Z",
     "shell.execute_reply": "2025-07-07T20:25:09.810687Z",
     "shell.execute_reply.started": "2025-07-07T20:25:09.804566Z"
    },
    "tags": [
     "challengify"
    ]
   },
   "outputs": [
    {
     "name": "stdout",
     "output_type": "stream",
     "text": [
      "{'year': 1972, 'title': 'The Godfather'}\n"
     ]
    }
   ],
   "source": [
    "movie = {\n",
    "    'year': 1972,\n",
    "    'title': 'The Godfather'\n",
    "}\n",
    "print(movie)"
   ]
  },
  {
   "attachments": {},
   "cell_type": "markdown",
   "metadata": {},
   "source": [
    "Add a `director` key to the dictonary with the appropriate value. Print the `movie` dictionary"
   ]
  },
  {
   "cell_type": "code",
   "execution_count": 39,
   "metadata": {
    "execution": {
     "iopub.execute_input": "2025-07-07T20:25:12.504663Z",
     "iopub.status.busy": "2025-07-07T20:25:12.503531Z",
     "iopub.status.idle": "2025-07-07T20:25:12.512159Z",
     "shell.execute_reply": "2025-07-07T20:25:12.510993Z",
     "shell.execute_reply.started": "2025-07-07T20:25:12.504598Z"
    },
    "tags": [
     "challengify"
    ]
   },
   "outputs": [
    {
     "name": "stdout",
     "output_type": "stream",
     "text": [
      "{'year': 1972, 'title': 'The Godfather', 'director': 'Francis Ford Coppola'}\n"
     ]
    }
   ],
   "source": [
    "movie['director'] = 'Francis Ford Coppola'\n",
    "print(movie)"
   ]
  },
  {
   "attachments": {},
   "cell_type": "markdown",
   "metadata": {},
   "source": [
    "Create a `movies` variable and initialize it with an empty list."
   ]
  },
  {
   "cell_type": "code",
   "execution_count": 40,
   "metadata": {
    "execution": {
     "iopub.execute_input": "2025-07-07T20:25:15.653198Z",
     "iopub.status.busy": "2025-07-07T20:25:15.652126Z",
     "iopub.status.idle": "2025-07-07T20:25:15.659619Z",
     "shell.execute_reply": "2025-07-07T20:25:15.658385Z",
     "shell.execute_reply.started": "2025-07-07T20:25:15.653139Z"
    },
    "tags": [
     "challengify"
    ]
   },
   "outputs": [],
   "source": [
    "movies = []"
   ]
  },
  {
   "attachments": {},
   "cell_type": "markdown",
   "metadata": {},
   "source": [
    "Add your `movie` to the list along with two more movies, with the same keys as the first one. Then print the entire list"
   ]
  },
  {
   "cell_type": "code",
   "execution_count": 41,
   "metadata": {
    "execution": {
     "iopub.execute_input": "2025-07-07T20:25:18.691434Z",
     "iopub.status.busy": "2025-07-07T20:25:18.690790Z",
     "iopub.status.idle": "2025-07-07T20:25:18.699494Z",
     "shell.execute_reply": "2025-07-07T20:25:18.697958Z",
     "shell.execute_reply.started": "2025-07-07T20:25:18.691380Z"
    },
    "tags": [
     "challengify"
    ]
   },
   "outputs": [],
   "source": [
    "movies.append(movie) # Add Godfather to movies\n",
    "\n",
    "movies.append({ 'title': 'The Dark Knight', 'year': 2008, 'director': 'Christopher Nolan' })\n",
    "movies.append({ 'title': 'The Matrix ', 'year': 1999, 'director': 'The Wachowskis' })"
   ]
  },
  {
   "attachments": {},
   "cell_type": "markdown",
   "metadata": {},
   "source": [
    "Finally, print the `movies` list line by line in the terminal in the following format (using a `for` loop):\n",
    "```\n",
    "Terminator by James Cameron was released in 1984\n",
    "Godfather by Francis Ford Coppola was released in 1972\n",
    "The Matrix by The Wachowskis was released in 1999\n",
    "```"
   ]
  },
  {
   "cell_type": "code",
   "execution_count": 42,
   "metadata": {
    "execution": {
     "iopub.execute_input": "2025-07-07T20:25:22.339683Z",
     "iopub.status.busy": "2025-07-07T20:25:22.338815Z",
     "iopub.status.idle": "2025-07-07T20:25:22.352245Z",
     "shell.execute_reply": "2025-07-07T20:25:22.350312Z",
     "shell.execute_reply.started": "2025-07-07T20:25:22.339609Z"
    },
    "tags": [
     "challengify"
    ]
   },
   "outputs": [
    {
     "name": "stdout",
     "output_type": "stream",
     "text": [
      "The Godfather by Francis Ford Coppola was released in 1972\n",
      "The Dark Knight by Christopher Nolan was released in 2008\n",
      "The Matrix  by The Wachowskis was released in 1999\n"
     ]
    }
   ],
   "source": [
    "for movie in movies:\n",
    "    print(f\"{movie['title']} by {movie['director']} was released in {movie['year']}\")"
   ]
  },
  {
   "attachments": {},
   "cell_type": "markdown",
   "metadata": {},
   "source": [
    "---\n",
    "## 6. Dictionaries + Lists\n",
    "\n",
    "Often when we're dealing with data, we have to find our way around a big dictionary. This can be a bit intimidating at first. But have no fear, once you get the hang of it, it's quite comfortable to navigate. When we're dealing with bigger dictionaries, it's important to take the time and read through it, knowing what kind of data types are stored and what structure it has. \n",
    "\n",
    "It's often a small subset of the information we're interested in looking at, so we need to know how to precisely access it. Start by running the cell below:"
   ]
  },
  {
   "cell_type": "code",
   "execution_count": 46,
   "metadata": {
    "execution": {
     "iopub.execute_input": "2025-07-07T20:26:19.310742Z",
     "iopub.status.busy": "2025-07-07T20:26:19.309658Z",
     "iopub.status.idle": "2025-07-07T20:26:19.319682Z",
     "shell.execute_reply": "2025-07-07T20:26:19.318385Z",
     "shell.execute_reply.started": "2025-07-07T20:26:19.310684Z"
    }
   },
   "outputs": [
    {
     "name": "stdout",
     "output_type": "stream",
     "text": [
      "movie is defined!\n"
     ]
    }
   ],
   "source": [
    "movie = {\n",
    "    'title': { 'en': 'The Dark Knight', 'fr': 'Le Chevalier Noir' },\n",
    "    'year': 2008,\n",
    "    'director': 'Christopher Nolan',\n",
    "    'rating': 'PG-13',\n",
    "    'plot': {\n",
    "        'en': 'The Batman is out for blood',\n",
    "        'fr': 'Batman est de retour, plus vénère que jamais'\n",
    "    },\n",
    "    'box office USD': {'USA': 535_234_033, 'rest_of_world': 469_700_000 },\n",
    "    'actors': {\n",
    "        'lead': ['Christian Bale', 'Heath Ledger'],\n",
    "        'support': ['Aaron Eckhardt', 'Morgan Freeman', 'Gary Oldman', 'Maggie Gyllenhaal' ]\n",
    "    }\n",
    "}\n",
    "print(\"movie is defined!\")"
   ]
  },
  {
   "attachments": {},
   "cell_type": "markdown",
   "metadata": {},
   "source": [
    "Try to guess the answer to the questions without writing any code. Then try the code out for yourself to test your theory.\n",
    "\n",
    "What does `movie['title']['fr']` return? "
   ]
  },
  {
   "cell_type": "code",
   "execution_count": 47,
   "metadata": {
    "execution": {
     "iopub.execute_input": "2025-07-07T20:26:23.134481Z",
     "iopub.status.busy": "2025-07-07T20:26:23.133679Z",
     "iopub.status.idle": "2025-07-07T20:26:23.142923Z",
     "shell.execute_reply": "2025-07-07T20:26:23.141313Z",
     "shell.execute_reply.started": "2025-07-07T20:26:23.134419Z"
    }
   },
   "outputs": [
    {
     "data": {
      "text/plain": [
       "'Le Chevalier Noir'"
      ]
     },
     "execution_count": 47,
     "metadata": {},
     "output_type": "execute_result"
    }
   ],
   "source": [
    "movie['title']['fr']"
   ]
  },
  {
   "attachments": {},
   "cell_type": "markdown",
   "metadata": {},
   "source": [
    "What does `movie['title']['es']` return?"
   ]
  },
  {
   "cell_type": "code",
   "execution_count": null,
   "metadata": {
    "execution": {
     "iopub.status.busy": "2025-07-07T20:27:09.484361Z"
    }
   },
   "outputs": [],
   "source": [
    "movie['title']['en']"
   ]
  },
  {
   "attachments": {},
   "cell_type": "markdown",
   "metadata": {},
   "source": [
    "What does `movie['actors']['support'][2]` return?"
   ]
  },
  {
   "cell_type": "code",
   "execution_count": null,
   "metadata": {},
   "outputs": [],
   "source": [
    "movie['actors']['support'][2]"
   ]
  },
  {
   "attachments": {},
   "cell_type": "markdown",
   "metadata": {},
   "source": [
    "### Optional \n",
    "\n",
    "Find a way to extract one list containing all the actors from the movie."
   ]
  },
  {
   "cell_type": "code",
   "execution_count": null,
   "metadata": {
    "tags": [
     "challengify"
    ]
   },
   "outputs": [],
   "source": [
    "movie['actors']['lead'] + movie['actors']['support']"
   ]
  },
  {
   "attachments": {},
   "cell_type": "markdown",
   "metadata": {},
   "source": [
    "Try to calculate the total box office of the movie from `movie`"
   ]
  },
  {
   "cell_type": "code",
   "execution_count": null,
   "metadata": {
    "tags": [
     "challengify"
    ]
   },
   "outputs": [],
   "source": [
    "movie['box office USD']['USA'] + movie['box office USD']['rest_of_world']"
   ]
  },
  {
   "attachments": {},
   "cell_type": "markdown",
   "metadata": {},
   "source": [
    "How can we calculate the box office sum across all the regions below?"
   ]
  },
  {
   "cell_type": "code",
   "execution_count": null,
   "metadata": {},
   "outputs": [],
   "source": [
    "box_office = {\"US\": 200_000_000, \"EU\": 85_000_000, \"China\": 110_000_000}\n",
    "print(box_office)"
   ]
  },
  {
   "cell_type": "code",
   "execution_count": null,
   "metadata": {
    "tags": [
     "challengify"
    ]
   },
   "outputs": [],
   "source": [
    "sum(box_office.values())"
   ]
  }
 ],
 "metadata": {
  "kernelspec": {
   "display_name": "Python 3 (ipykernel)",
   "language": "python",
   "name": "python3"
  },
  "language_info": {
   "codemirror_mode": {
    "name": "ipython",
    "version": 3
   },
   "file_extension": ".py",
   "mimetype": "text/x-python",
   "name": "python",
   "nbconvert_exporter": "python",
   "pygments_lexer": "ipython3",
   "version": "3.10.6"
  }
 },
 "nbformat": 4,
 "nbformat_minor": 4
}
