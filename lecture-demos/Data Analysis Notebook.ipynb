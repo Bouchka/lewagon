{
 "cells": [
  {
   "cell_type": "code",
   "execution_count": null,
   "id": "ce9b7c07-739a-484a-83e2-eafb3dd7b9d7",
   "metadata": {},
   "outputs": [],
   "source": [
    "1+1"
   ]
  },
  {
   "cell_type": "code",
   "execution_count": null,
   "id": "a6c05f12-fca7-422f-b042-e0bc04206c57",
   "metadata": {},
   "outputs": [],
   "source": [
    "b = 2"
   ]
  },
  {
   "cell_type": "code",
   "execution_count": null,
   "id": "b238cd2b-3113-4b42-be44-acd198d34019",
   "metadata": {},
   "outputs": [],
   "source": [
    "b + b"
   ]
  },
  {
   "cell_type": "markdown",
   "id": "c699133d-8c6e-4c2b-a2d4-e8c742ffbde4",
   "metadata": {},
   "source": [
    "# Data Analysis Notebook Introduction"
   ]
  },
  {
   "cell_type": "markdown",
   "id": "9825e4f3-e1d0-4012-9688-9c371f4797a8",
   "metadata": {},
   "source": [
    "this is a markdown cell, in here I am creating text to format my notebook.\n",
    "\n",
    "In this cell I can add links to [how to improve your markdown writing](https://docs.github.com/en/get-started/writing-on-github/getting-started-with-writing-and-formatting-on-github/basic-writing-and-formatting-syntax#links)\n",
    "\n",
    "![donkey and pig image](donkey_pig.jpg)"
   ]
  },
  {
   "cell_type": "markdown",
   "id": "73f5dcc4-f5c9-4d56-abda-661387503d39",
   "metadata": {},
   "source": [
    "# NumPy"
   ]
  },
  {
   "cell_type": "markdown",
   "id": "8eb29f08-af54-4254-bfa0-564e23dda6f9",
   "metadata": {},
   "source": [
    "NumPy is a powerful library for performing data analysis"
   ]
  },
  {
   "cell_type": "code",
   "execution_count": 2,
   "id": "7b81716a-4c5a-4c35-853e-9697ae0692a2",
   "metadata": {
    "execution": {
     "iopub.execute_input": "2025-07-11T09:08:03.491764Z",
     "iopub.status.busy": "2025-07-11T09:08:03.491238Z",
     "iopub.status.idle": "2025-07-11T09:08:03.805956Z",
     "shell.execute_reply": "2025-07-11T09:08:03.805274Z",
     "shell.execute_reply.started": "2025-07-11T09:08:03.491717Z"
    }
   },
   "outputs": [],
   "source": [
    "import numpy as np # canonical import"
   ]
  },
  {
   "cell_type": "code",
   "execution_count": null,
   "id": "e4f27fbb-5ae0-443d-aeea-7a88f095f884",
   "metadata": {},
   "outputs": [],
   "source": [
    "my_list = [[1, 2, 3], [4, 5, 6]]\n",
    "\n",
    "display(type(my_list))\n",
    "my_list"
   ]
  },
  {
   "cell_type": "code",
   "execution_count": null,
   "id": "dc3af4df-2f73-4b01-b3ab-7bad8df11779",
   "metadata": {},
   "outputs": [],
   "source": [
    "my_array = np.array([[1.1, 2, 3], [4, 5, 6]])\n",
    "\n",
    "display(type(my_array))\n",
    "my_array"
   ]
  },
  {
   "cell_type": "markdown",
   "id": "8a6f18c3-8ed7-4bcf-9135-29f1c412197c",
   "metadata": {},
   "source": [
    "---\n",
    "Exploring Attributes"
   ]
  },
  {
   "cell_type": "code",
   "execution_count": null,
   "id": "6f891e1b-8d43-49ea-ae99-40fd1fb7bc54",
   "metadata": {},
   "outputs": [],
   "source": [
    "my_array.ndim"
   ]
  },
  {
   "cell_type": "code",
   "execution_count": null,
   "id": "62853e6b-1806-4dcc-9d25-1a6749941eaf",
   "metadata": {},
   "outputs": [],
   "source": [
    "my_array.shape"
   ]
  },
  {
   "cell_type": "code",
   "execution_count": null,
   "id": "381d66af-ad1f-48c5-8c0c-4b5c5bafb4d2",
   "metadata": {},
   "outputs": [],
   "source": [
    "my_array.size"
   ]
  },
  {
   "cell_type": "code",
   "execution_count": null,
   "id": "11f683e2-d5c6-45cf-9887-dc8bba3d073b",
   "metadata": {},
   "outputs": [],
   "source": [
    "my_array.dtype"
   ]
  },
  {
   "cell_type": "markdown",
   "id": "206140ad-e15a-4c2d-82db-3d270e087288",
   "metadata": {},
   "source": [
    "## Slicing"
   ]
  },
  {
   "cell_type": "markdown",
   "id": "b10d29ff-1182-4e05-8183-9d81ee2ba1ce",
   "metadata": {},
   "source": [
    "🤔 How can we select specific values from a **ROW** ?"
   ]
  },
  {
   "cell_type": "code",
   "execution_count": 3,
   "id": "ced14920-fbe0-416f-a2ba-3553f55edc75",
   "metadata": {
    "execution": {
     "iopub.execute_input": "2025-07-11T09:08:08.071552Z",
     "iopub.status.busy": "2025-07-11T09:08:08.070735Z",
     "iopub.status.idle": "2025-07-11T09:08:08.089292Z",
     "shell.execute_reply": "2025-07-11T09:08:08.088505Z",
     "shell.execute_reply.started": "2025-07-11T09:08:08.071461Z"
    }
   },
   "outputs": [
    {
     "data": {
      "text/plain": [
       "array([[ 0,  1,  2,  3,  4],\n",
       "       [10, 11, 12, 13, 14],\n",
       "       [20, 21, 22, 23, 24],\n",
       "       [30, 31, 32, 33, 34],\n",
       "       [40, 41, 42, 43, 44]])"
      ]
     },
     "execution_count": 3,
     "metadata": {},
     "output_type": "execute_result"
    }
   ],
   "source": [
    "data_list = [\n",
    "    [ 0,  1,  2,  3,  4],\n",
    "    [10, 11, 12, 13, 14],\n",
    "    [20, 21, 22, 23, 24],\n",
    "    [30, 31, 32, 33, 34],\n",
    "    [40, 41, 42, 43, 44],\n",
    "]\n",
    "\n",
    "data_np = np.array(data_list)\n",
    "data_np"
   ]
  },
  {
   "cell_type": "code",
   "execution_count": 5,
   "id": "c0a70b55-5615-41d1-afb6-a245f5a66884",
   "metadata": {
    "execution": {
     "iopub.execute_input": "2025-07-11T09:08:45.645711Z",
     "iopub.status.busy": "2025-07-11T09:08:45.645142Z",
     "iopub.status.idle": "2025-07-11T09:08:45.655507Z",
     "shell.execute_reply": "2025-07-11T09:08:45.654396Z",
     "shell.execute_reply.started": "2025-07-11T09:08:45.645661Z"
    }
   },
   "outputs": [
    {
     "data": {
      "text/plain": [
       "[21, 22, 23]"
      ]
     },
     "execution_count": 5,
     "metadata": {},
     "output_type": "execute_result"
    }
   ],
   "source": [
    "# pure Python\n",
    "data_list[2][1:4]"
   ]
  },
  {
   "cell_type": "code",
   "execution_count": 6,
   "id": "dc0f0636-c0e5-4525-95db-641f2032c824",
   "metadata": {
    "execution": {
     "iopub.execute_input": "2025-07-11T09:08:46.659331Z",
     "iopub.status.busy": "2025-07-11T09:08:46.658891Z",
     "iopub.status.idle": "2025-07-11T09:08:46.667533Z",
     "shell.execute_reply": "2025-07-11T09:08:46.666607Z",
     "shell.execute_reply.started": "2025-07-11T09:08:46.659301Z"
    }
   },
   "outputs": [
    {
     "data": {
      "text/plain": [
       "array([21, 22, 23])"
      ]
     },
     "execution_count": 6,
     "metadata": {},
     "output_type": "execute_result"
    }
   ],
   "source": [
    "# using NumPy\n",
    "data_np[2,1:4]"
   ]
  },
  {
   "cell_type": "markdown",
   "id": "7b994f67-b4bd-4efb-853f-c7a7c8fbd239",
   "metadata": {},
   "source": [
    "🤔 How can we select specific values from a **COLUMN** ?"
   ]
  },
  {
   "cell_type": "code",
   "execution_count": 7,
   "id": "303d80f0-0436-44b9-918e-12e3bfcf82ed",
   "metadata": {
    "execution": {
     "iopub.execute_input": "2025-07-11T09:09:02.807921Z",
     "iopub.status.busy": "2025-07-11T09:09:02.807072Z",
     "iopub.status.idle": "2025-07-11T09:09:02.817973Z",
     "shell.execute_reply": "2025-07-11T09:09:02.817039Z",
     "shell.execute_reply.started": "2025-07-11T09:09:02.807860Z"
    }
   },
   "outputs": [
    {
     "data": {
      "text/plain": [
       "[14, 24, 34, 44]"
      ]
     },
     "execution_count": 7,
     "metadata": {},
     "output_type": "execute_result"
    }
   ],
   "source": [
    "# Pure Python\n",
    "selection = []\n",
    "\n",
    "for index, row in enumerate(data_list):\n",
    "    if index > 0:\n",
    "        selection.append(row[4])\n",
    "\n",
    "selection"
   ]
  },
  {
   "cell_type": "code",
   "execution_count": 10,
   "id": "1fdbcf61-beb7-4d2a-ac54-d52996037a90",
   "metadata": {
    "execution": {
     "iopub.execute_input": "2025-07-11T09:10:09.740072Z",
     "iopub.status.busy": "2025-07-11T09:10:09.739564Z",
     "iopub.status.idle": "2025-07-11T09:10:09.748937Z",
     "shell.execute_reply": "2025-07-11T09:10:09.747917Z",
     "shell.execute_reply.started": "2025-07-11T09:10:09.740032Z"
    }
   },
   "outputs": [
    {
     "data": {
      "text/plain": [
       "array([24, 34, 44])"
      ]
     },
     "execution_count": 10,
     "metadata": {},
     "output_type": "execute_result"
    }
   ],
   "source": [
    "# using NumPy - selecting all the column 4\n",
    "data_np[2:,4]"
   ]
  },
  {
   "cell_type": "code",
   "execution_count": 11,
   "id": "bd4c5386-33d5-4772-9fe7-0e29b02152d0",
   "metadata": {
    "execution": {
     "iopub.execute_input": "2025-07-11T09:10:22.042691Z",
     "iopub.status.busy": "2025-07-11T09:10:22.041940Z",
     "iopub.status.idle": "2025-07-11T09:10:22.052975Z",
     "shell.execute_reply": "2025-07-11T09:10:22.052074Z",
     "shell.execute_reply.started": "2025-07-11T09:10:22.042638Z"
    }
   },
   "outputs": [
    {
     "data": {
      "text/plain": [
       "array([0, 1, 2, 3, 4, 5, 6, 7, 8, 9])"
      ]
     },
     "execution_count": 11,
     "metadata": {},
     "output_type": "execute_result"
    }
   ],
   "source": [
    "array = np.arange(0, 10)\n",
    "array"
   ]
  },
  {
   "cell_type": "markdown",
   "id": "a5e900cc-e84c-4a1b-aa4f-3612c2cea102",
   "metadata": {},
   "source": [
    "---\n",
    "General Syntax\n",
    "\n",
    "array[**start:stop** *:step*]"
   ]
  },
  {
   "cell_type": "code",
   "execution_count": 12,
   "id": "f01aee4d-43d5-4732-bef2-60caec85eee6",
   "metadata": {
    "execution": {
     "iopub.execute_input": "2025-07-11T09:11:04.297523Z",
     "iopub.status.busy": "2025-07-11T09:11:04.296940Z",
     "iopub.status.idle": "2025-07-11T09:11:04.307313Z",
     "shell.execute_reply": "2025-07-11T09:11:04.305485Z",
     "shell.execute_reply.started": "2025-07-11T09:11:04.297474Z"
    }
   },
   "outputs": [
    {
     "data": {
      "text/plain": [
       "array([0, 1, 2, 3, 4, 5, 6, 7, 8, 9])"
      ]
     },
     "execution_count": 12,
     "metadata": {},
     "output_type": "execute_result"
    }
   ],
   "source": [
    "array[0:20:1]"
   ]
  },
  {
   "cell_type": "markdown",
   "id": "319d524c-36b1-4c95-87e2-b1ae84fc1f64",
   "metadata": {},
   "source": [
    "## Vectorized Operations"
   ]
  },
  {
   "cell_type": "code",
   "execution_count": 13,
   "id": "2ca56e75-7019-4434-b67a-c1c9144422c6",
   "metadata": {
    "execution": {
     "iopub.execute_input": "2025-07-11T09:20:05.518693Z",
     "iopub.status.busy": "2025-07-11T09:20:05.518051Z",
     "iopub.status.idle": "2025-07-11T09:20:05.528296Z",
     "shell.execute_reply": "2025-07-11T09:20:05.525796Z",
     "shell.execute_reply.started": "2025-07-11T09:20:05.518631Z"
    }
   },
   "outputs": [],
   "source": [
    "my_list = [\n",
    "    [6, 5],\n",
    "    [1, 3],\n",
    "    [5, 6],\n",
    "    [1, 4],\n",
    "    [3, 7],\n",
    "    [5, 8],\n",
    "    [3, 5],\n",
    "    [8, 4],\n",
    "]"
   ]
  },
  {
   "cell_type": "code",
   "execution_count": null,
   "id": "163b0710-1630-4195-84d4-ae7da204160e",
   "metadata": {},
   "outputs": [],
   "source": [
    "# Pure Python\n",
    "sums = []\n",
    "\n",
    "for row in my_list:\n",
    "    #elements 0 and 1 in each row (list)\n",
    "    sums.append(row[0]+row[1])\n",
    "\n",
    "sums"
   ]
  },
  {
   "cell_type": "code",
   "execution_count": null,
   "id": "0d5b5feb-b838-40e5-9cfa-3cc428f25f12",
   "metadata": {},
   "outputs": [],
   "source": [
    "# Using NumPy\n",
    "my_np = np.array(my_list)"
   ]
  },
  {
   "cell_type": "code",
   "execution_count": null,
   "id": "7b6e1ab5-3e0a-4328-b90e-707235c4d2a0",
   "metadata": {},
   "outputs": [],
   "source": [
    "my_np"
   ]
  },
  {
   "cell_type": "code",
   "execution_count": null,
   "id": "7adba13e-6e41-4a3f-91e4-eda5160b0ffa",
   "metadata": {},
   "outputs": [],
   "source": [
    "my_np[:,0] + my_np[:,1]"
   ]
  },
  {
   "cell_type": "code",
   "execution_count": null,
   "id": "fa413d05-7216-419a-af2f-2f2463c4efd7",
   "metadata": {},
   "outputs": [],
   "source": [
    "my_np.sum(axis=1)"
   ]
  },
  {
   "cell_type": "code",
   "execution_count": null,
   "id": "ea12664f-3507-402c-b715-d82c170d77a1",
   "metadata": {},
   "outputs": [],
   "source": [
    "my_np.sum(axis=0)"
   ]
  },
  {
   "cell_type": "code",
   "execution_count": null,
   "id": "7def3c5c-0bcb-451f-99c3-4ae2d46e880d",
   "metadata": {},
   "outputs": [],
   "source": [
    "#Other notation\n",
    "np.sum(my_np, axis = 0)"
   ]
  },
  {
   "cell_type": "code",
   "execution_count": null,
   "id": "d48ca3bf-114c-4d62-b20c-03947eb82ea8",
   "metadata": {},
   "outputs": [],
   "source": [
    "my_np + 1"
   ]
  },
  {
   "cell_type": "markdown",
   "id": "1753e940-4441-4ae0-a553-13ba61dd5e6b",
   "metadata": {},
   "source": [
    "**How much faster is numPy?**"
   ]
  },
  {
   "cell_type": "code",
   "execution_count": null,
   "id": "5157b452-23af-4a89-a1e6-e9386ddb632b",
   "metadata": {},
   "outputs": [],
   "source": [
    "# 2D-array of shape (10_000, 10_000) with random floats in the interval [0, 1]. That's 100M numbers!\n",
    "my_array = np.random.rand(10000, 10000)\n",
    "array_list = my_array.tolist()\n",
    "#needs to be a list to show the python loop\n",
    "my_array.size"
   ]
  },
  {
   "cell_type": "code",
   "execution_count": null,
   "id": "26394229-ae57-4194-a98e-5d6217c3b2e0",
   "metadata": {},
   "outputs": [],
   "source": [
    "%%time\n",
    "total = 0\n",
    "\n",
    "for row in array_list:\n",
    "    for number in row:\n",
    "        total += number\n",
    "\n",
    "round(total, 2)"
   ]
  },
  {
   "cell_type": "code",
   "execution_count": null,
   "id": "eba8a3d0-a202-4400-a2ce-3707a1474c0e",
   "metadata": {},
   "outputs": [],
   "source": [
    "%%time\n",
    "round(np.sum(my_array), 2)"
   ]
  },
  {
   "cell_type": "markdown",
   "id": "f2816b87-1255-464b-b6ad-b255ee609fbf",
   "metadata": {},
   "source": [
    "## Boolean Index"
   ]
  },
  {
   "cell_type": "code",
   "execution_count": null,
   "id": "c2170850-9a1e-4662-9d4e-438e4448d2d7",
   "metadata": {},
   "outputs": [],
   "source": [
    "my_np"
   ]
  },
  {
   "cell_type": "code",
   "execution_count": null,
   "id": "c4d0bb0c-9664-4250-97d8-25b06a8074cb",
   "metadata": {
    "scrolled": true
   },
   "outputs": [],
   "source": [
    "my_np>4"
   ]
  },
  {
   "cell_type": "code",
   "execution_count": null,
   "id": "3d543960-8f3f-413f-843b-1d923728f500",
   "metadata": {},
   "outputs": [],
   "source": [
    "my_np[my_np > 4]"
   ]
  },
  {
   "cell_type": "code",
   "execution_count": null,
   "id": "e3598eda-d284-4419-9185-de6edb9c218a",
   "metadata": {},
   "outputs": [],
   "source": [
    "my_np[my_np > 4] = 10\n",
    "my_np"
   ]
  },
  {
   "cell_type": "markdown",
   "id": "cf196968-e087-4f9b-8103-b5fe562bc2ae",
   "metadata": {},
   "source": [
    "# Pandas"
   ]
  },
  {
   "cell_type": "markdown",
   "id": "330751ee-d914-43ec-8323-e82d77ee3ced",
   "metadata": {},
   "source": [
    "Manipulating data of many different types"
   ]
  },
  {
   "cell_type": "code",
   "execution_count": 14,
   "id": "eea04349-c75a-49c1-a837-0329109def95",
   "metadata": {
    "execution": {
     "iopub.execute_input": "2025-07-11T09:20:21.016367Z",
     "iopub.status.busy": "2025-07-11T09:20:21.014799Z",
     "iopub.status.idle": "2025-07-11T09:20:22.028915Z",
     "shell.execute_reply": "2025-07-11T09:20:22.027435Z",
     "shell.execute_reply.started": "2025-07-11T09:20:21.016304Z"
    }
   },
   "outputs": [],
   "source": [
    "import pandas as pd # canonical import"
   ]
  },
  {
   "cell_type": "markdown",
   "id": "aa9bdb80-671a-46ad-918c-cc606c1984e7",
   "metadata": {},
   "source": [
    "## Data Series\n",
    "\n",
    "Used to define a single column of data"
   ]
  },
  {
   "cell_type": "code",
   "execution_count": 15,
   "id": "67546516-b773-4900-825c-1d97e7b31197",
   "metadata": {
    "execution": {
     "iopub.execute_input": "2025-07-11T09:20:22.585006Z",
     "iopub.status.busy": "2025-07-11T09:20:22.584273Z",
     "iopub.status.idle": "2025-07-11T09:20:22.595769Z",
     "shell.execute_reply": "2025-07-11T09:20:22.594668Z",
     "shell.execute_reply.started": "2025-07-11T09:20:22.584970Z"
    }
   },
   "outputs": [
    {
     "data": {
      "text/plain": [
       "0        1\n",
       "1        2\n",
       "2    three\n",
       "dtype: object"
      ]
     },
     "execution_count": 15,
     "metadata": {},
     "output_type": "execute_result"
    }
   ],
   "source": [
    "my_series = pd.Series(data=[1, 2, 'three'])\n",
    "# my_series = pd.Series({'id1': 1, 'id2': 2, 'id3': 'three'})\n",
    "\n",
    "my_series"
   ]
  },
  {
   "cell_type": "markdown",
   "id": "38fb2ac2-5dc5-4e52-adcd-293a03e36856",
   "metadata": {},
   "source": [
    "## DataFrame\n",
    "\n",
    "Creates a series of columns"
   ]
  },
  {
   "cell_type": "code",
   "execution_count": 16,
   "id": "1eccd2e2-c496-421a-9782-d60bd4dc40c6",
   "metadata": {
    "execution": {
     "iopub.execute_input": "2025-07-11T09:20:25.334440Z",
     "iopub.status.busy": "2025-07-11T09:20:25.332781Z",
     "iopub.status.idle": "2025-07-11T09:20:25.354112Z",
     "shell.execute_reply": "2025-07-11T09:20:25.352922Z",
     "shell.execute_reply.started": "2025-07-11T09:20:25.334351Z"
    }
   },
   "outputs": [
    {
     "data": {
      "text/html": [
       "<div>\n",
       "<style scoped>\n",
       "    .dataframe tbody tr th:only-of-type {\n",
       "        vertical-align: middle;\n",
       "    }\n",
       "\n",
       "    .dataframe tbody tr th {\n",
       "        vertical-align: top;\n",
       "    }\n",
       "\n",
       "    .dataframe thead th {\n",
       "        text-align: right;\n",
       "    }\n",
       "</style>\n",
       "<table border=\"1\" class=\"dataframe\">\n",
       "  <thead>\n",
       "    <tr style=\"text-align: right;\">\n",
       "      <th></th>\n",
       "      <th>col_a</th>\n",
       "      <th>col_b</th>\n",
       "      <th>col_c</th>\n",
       "    </tr>\n",
       "  </thead>\n",
       "  <tbody>\n",
       "    <tr>\n",
       "      <th>row_1</th>\n",
       "      <td>4</td>\n",
       "      <td>7</td>\n",
       "      <td>10</td>\n",
       "    </tr>\n",
       "    <tr>\n",
       "      <th>row_2</th>\n",
       "      <td>5</td>\n",
       "      <td>8</td>\n",
       "      <td>11</td>\n",
       "    </tr>\n",
       "    <tr>\n",
       "      <th>row_3</th>\n",
       "      <td>6</td>\n",
       "      <td>9</td>\n",
       "      <td>12</td>\n",
       "    </tr>\n",
       "  </tbody>\n",
       "</table>\n",
       "</div>"
      ],
      "text/plain": [
       "       col_a  col_b  col_c\n",
       "row_1      4      7     10\n",
       "row_2      5      8     11\n",
       "row_3      6      9     12"
      ]
     },
     "execution_count": 16,
     "metadata": {},
     "output_type": "execute_result"
    }
   ],
   "source": [
    "df = pd.DataFrame(\n",
    "    [[4, 7, 10],\n",
    "    [5, 8, 11],\n",
    "    [6, 9, 12]],\n",
    "    index=['row_1', 'row_2', 'row_3'],\n",
    "    columns=['col_a', 'col_b', 'col_c']\n",
    ")\n",
    "\n",
    "df"
   ]
  },
  {
   "cell_type": "code",
   "execution_count": 17,
   "id": "e79a02d4-8ef0-4f1b-ba94-7b6ef37daea9",
   "metadata": {
    "execution": {
     "iopub.execute_input": "2025-07-11T09:20:27.897463Z",
     "iopub.status.busy": "2025-07-11T09:20:27.896206Z",
     "iopub.status.idle": "2025-07-11T09:20:27.912011Z",
     "shell.execute_reply": "2025-07-11T09:20:27.909585Z",
     "shell.execute_reply.started": "2025-07-11T09:20:27.897409Z"
    }
   },
   "outputs": [
    {
     "data": {
      "text/html": [
       "<div>\n",
       "<style scoped>\n",
       "    .dataframe tbody tr th:only-of-type {\n",
       "        vertical-align: middle;\n",
       "    }\n",
       "\n",
       "    .dataframe tbody tr th {\n",
       "        vertical-align: top;\n",
       "    }\n",
       "\n",
       "    .dataframe thead th {\n",
       "        text-align: right;\n",
       "    }\n",
       "</style>\n",
       "<table border=\"1\" class=\"dataframe\">\n",
       "  <thead>\n",
       "    <tr style=\"text-align: right;\">\n",
       "      <th></th>\n",
       "      <th>col_a</th>\n",
       "      <th>col_b</th>\n",
       "      <th>col_c</th>\n",
       "    </tr>\n",
       "  </thead>\n",
       "  <tbody>\n",
       "    <tr>\n",
       "      <th>row_1</th>\n",
       "      <td>4</td>\n",
       "      <td>7</td>\n",
       "      <td>10</td>\n",
       "    </tr>\n",
       "  </tbody>\n",
       "</table>\n",
       "</div>"
      ],
      "text/plain": [
       "       col_a  col_b  col_c\n",
       "row_1      4      7     10"
      ]
     },
     "execution_count": 17,
     "metadata": {},
     "output_type": "execute_result"
    }
   ],
   "source": [
    "# selecting rows with their index number\n",
    "# Uses integer position — returns the first row (row at position 0)\n",
    "# Shorter version of df.iloc[0:1]\n",
    "df[0:1]"
   ]
  },
  {
   "cell_type": "code",
   "execution_count": 18,
   "id": "9cde92cd-cbcb-4ca6-9822-3a8a819fbed0",
   "metadata": {
    "execution": {
     "iopub.execute_input": "2025-07-11T09:20:47.190613Z",
     "iopub.status.busy": "2025-07-11T09:20:47.189498Z",
     "iopub.status.idle": "2025-07-11T09:20:47.206790Z",
     "shell.execute_reply": "2025-07-11T09:20:47.205425Z",
     "shell.execute_reply.started": "2025-07-11T09:20:47.190559Z"
    }
   },
   "outputs": [
    {
     "data": {
      "text/html": [
       "<div>\n",
       "<style scoped>\n",
       "    .dataframe tbody tr th:only-of-type {\n",
       "        vertical-align: middle;\n",
       "    }\n",
       "\n",
       "    .dataframe tbody tr th {\n",
       "        vertical-align: top;\n",
       "    }\n",
       "\n",
       "    .dataframe thead th {\n",
       "        text-align: right;\n",
       "    }\n",
       "</style>\n",
       "<table border=\"1\" class=\"dataframe\">\n",
       "  <thead>\n",
       "    <tr style=\"text-align: right;\">\n",
       "      <th></th>\n",
       "      <th>col_a</th>\n",
       "      <th>col_b</th>\n",
       "      <th>col_c</th>\n",
       "    </tr>\n",
       "  </thead>\n",
       "  <tbody>\n",
       "    <tr>\n",
       "      <th>row_1</th>\n",
       "      <td>4</td>\n",
       "      <td>7</td>\n",
       "      <td>10</td>\n",
       "    </tr>\n",
       "    <tr>\n",
       "      <th>row_2</th>\n",
       "      <td>5</td>\n",
       "      <td>8</td>\n",
       "      <td>11</td>\n",
       "    </tr>\n",
       "    <tr>\n",
       "      <th>row_3</th>\n",
       "      <td>6</td>\n",
       "      <td>9</td>\n",
       "      <td>12</td>\n",
       "    </tr>\n",
       "  </tbody>\n",
       "</table>\n",
       "</div>"
      ],
      "text/plain": [
       "       col_a  col_b  col_c\n",
       "row_1      4      7     10\n",
       "row_2      5      8     11\n",
       "row_3      6      9     12"
      ]
     },
     "execution_count": 18,
     "metadata": {},
     "output_type": "execute_result"
    }
   ],
   "source": [
    "# Uses label-based indexing — returns rows with index labels 0 and 1 (inclusive)\n",
    "df.loc['row_1':'row_3']"
   ]
  },
  {
   "cell_type": "code",
   "execution_count": 19,
   "id": "e3ae317b-b11c-4419-a9b9-31b776808e43",
   "metadata": {
    "execution": {
     "iopub.execute_input": "2025-07-11T09:22:11.149727Z",
     "iopub.status.busy": "2025-07-11T09:22:11.149097Z",
     "iopub.status.idle": "2025-07-11T09:22:11.168576Z",
     "shell.execute_reply": "2025-07-11T09:22:11.167749Z",
     "shell.execute_reply.started": "2025-07-11T09:22:11.149674Z"
    }
   },
   "outputs": [
    {
     "data": {
      "text/html": [
       "<div>\n",
       "<style scoped>\n",
       "    .dataframe tbody tr th:only-of-type {\n",
       "        vertical-align: middle;\n",
       "    }\n",
       "\n",
       "    .dataframe tbody tr th {\n",
       "        vertical-align: top;\n",
       "    }\n",
       "\n",
       "    .dataframe thead th {\n",
       "        text-align: right;\n",
       "    }\n",
       "</style>\n",
       "<table border=\"1\" class=\"dataframe\">\n",
       "  <thead>\n",
       "    <tr style=\"text-align: right;\">\n",
       "      <th></th>\n",
       "      <th>col_a</th>\n",
       "      <th>col_b</th>\n",
       "    </tr>\n",
       "  </thead>\n",
       "  <tbody>\n",
       "    <tr>\n",
       "      <th>row_1</th>\n",
       "      <td>4</td>\n",
       "      <td>7</td>\n",
       "    </tr>\n",
       "    <tr>\n",
       "      <th>row_2</th>\n",
       "      <td>5</td>\n",
       "      <td>8</td>\n",
       "    </tr>\n",
       "    <tr>\n",
       "      <th>row_3</th>\n",
       "      <td>6</td>\n",
       "      <td>9</td>\n",
       "    </tr>\n",
       "  </tbody>\n",
       "</table>\n",
       "</div>"
      ],
      "text/plain": [
       "       col_a  col_b\n",
       "row_1      4      7\n",
       "row_2      5      8\n",
       "row_3      6      9"
      ]
     },
     "execution_count": 19,
     "metadata": {},
     "output_type": "execute_result"
    }
   ],
   "source": [
    "df.loc['row_1':'row_3', ['col_a', 'col_b']]"
   ]
  },
  {
   "cell_type": "code",
   "execution_count": 20,
   "id": "9fb5beab-5063-4438-9a21-e4f7f90571c9",
   "metadata": {
    "execution": {
     "iopub.execute_input": "2025-07-11T09:22:12.270910Z",
     "iopub.status.busy": "2025-07-11T09:22:12.270088Z",
     "iopub.status.idle": "2025-07-11T09:22:12.277590Z",
     "shell.execute_reply": "2025-07-11T09:22:12.276569Z",
     "shell.execute_reply.started": "2025-07-11T09:22:12.270868Z"
    }
   },
   "outputs": [
    {
     "name": "stdout",
     "output_type": "stream",
     "text": [
      "Index(['row_1', 'row_2', 'row_3'], dtype='object')\n"
     ]
    }
   ],
   "source": [
    "# labels here are the name of the row's index\n",
    "print(df.index)"
   ]
  },
  {
   "cell_type": "code",
   "execution_count": 21,
   "id": "4523767a-88cd-486d-93f2-3d5e20d25d64",
   "metadata": {
    "execution": {
     "iopub.execute_input": "2025-07-11T09:22:20.271101Z",
     "iopub.status.busy": "2025-07-11T09:22:20.270106Z",
     "iopub.status.idle": "2025-07-11T09:22:20.283145Z",
     "shell.execute_reply": "2025-07-11T09:22:20.282019Z",
     "shell.execute_reply.started": "2025-07-11T09:22:20.271048Z"
    }
   },
   "outputs": [
    {
     "data": {
      "text/plain": [
       "id1    4\n",
       "id2    5\n",
       "id3    6\n",
       "dtype: int64"
      ]
     },
     "execution_count": 21,
     "metadata": {},
     "output_type": "execute_result"
    }
   ],
   "source": [
    "#dataframe have much better tables\n",
    "apples  = pd.Series(data=[1, 2, 3], index=['id1', 'id2', 'id3'])\n",
    "oranges = pd.Series(data=[4, 5, 6], index=['id1', 'id2', 'id3'])\n",
    "\n",
    "oranges"
   ]
  },
  {
   "cell_type": "markdown",
   "id": "8699621a-6fae-4620-a6fd-7f0cd0379955",
   "metadata": {},
   "source": [
    "---\n",
    "Creating a DataFrame from two Series"
   ]
  },
  {
   "cell_type": "code",
   "execution_count": null,
   "id": "c7feffd7-06a5-41c3-b059-cf6a3673f773",
   "metadata": {},
   "outputs": [],
   "source": [
    "fruits = pd.DataFrame({\n",
    "    'apples':apples,\n",
    "    'oranges':oranges\n",
    "})\n",
    "\n",
    "fruits"
   ]
  },
  {
   "cell_type": "code",
   "execution_count": null,
   "id": "ef636db5-1f94-427d-8b23-bc3f73da6480",
   "metadata": {},
   "outputs": [],
   "source": [
    "display(type(fruits['oranges']))\n",
    "\n",
    "fruits['oranges']"
   ]
  },
  {
   "cell_type": "code",
   "execution_count": null,
   "id": "541727d7-5aa6-460f-bdff-b4e7a4c4eb46",
   "metadata": {},
   "outputs": [],
   "source": [
    "#df is represented with 2 [[]]\n",
    "display(type(fruits[['oranges']]))\n",
    "\n",
    "fruits[['oranges']]"
   ]
  },
  {
   "cell_type": "markdown",
   "id": "dd640202-518e-4cb9-8166-a0348a72b698",
   "metadata": {},
   "source": [
    "# Exploratory Data Analysis"
   ]
  },
  {
   "cell_type": "markdown",
   "id": "58471fdc-0d13-462f-b572-951996199f59",
   "metadata": {},
   "source": [
    "Taking a look at some global data"
   ]
  },
  {
   "cell_type": "code",
   "execution_count": null,
   "id": "d7230df1-d8df-4399-bbf0-e1380f633021",
   "metadata": {},
   "outputs": [],
   "source": [
    "countries_df = pd.read_csv('countries.csv',decimal=',')\n",
    "\n",
    "countries_df.head()"
   ]
  },
  {
   "cell_type": "code",
   "execution_count": null,
   "id": "4438d138-73fc-4ae7-bcaa-3352cd44a0e2",
   "metadata": {},
   "outputs": [],
   "source": [
    "#pd.read<TAB> easier than documentation\n",
    "#pd.read<SHIFT+TAB>"
   ]
  },
  {
   "cell_type": "code",
   "execution_count": null,
   "id": "65c1ca4b-8c69-4838-89f8-8e14a5e9335b",
   "metadata": {},
   "outputs": [],
   "source": [
    "countries_df.shape"
   ]
  },
  {
   "cell_type": "code",
   "execution_count": null,
   "id": "27717f88-a25d-4f92-ba15-f72925a822eb",
   "metadata": {},
   "outputs": [],
   "source": [
    "countries_df.columns"
   ]
  },
  {
   "cell_type": "code",
   "execution_count": null,
   "id": "8dfd565e-fdd9-4f71-9b2c-eefabc8f9dae",
   "metadata": {},
   "outputs": [],
   "source": [
    "#even better to check columns\n",
    "countries_df.dtypes"
   ]
  },
  {
   "cell_type": "markdown",
   "id": "b6219258-ac47-4d65-b577-e60df78609c7",
   "metadata": {
    "execution": {
     "iopub.execute_input": "2025-07-05T11:42:36.146158Z",
     "iopub.status.busy": "2025-07-05T11:42:36.145601Z",
     "iopub.status.idle": "2025-07-05T11:42:36.170017Z",
     "shell.execute_reply": "2025-07-05T11:42:36.166517Z",
     "shell.execute_reply.started": "2025-07-05T11:42:36.146125Z"
    }
   },
   "source": [
    "#We also see how many non null we have, good for cleaning\n",
    "countries_df.info()"
   ]
  },
  {
   "cell_type": "code",
   "execution_count": null,
   "id": "cf054fc5-c683-440e-b929-3fe83296fe30",
   "metadata": {
    "scrolled": true
   },
   "outputs": [],
   "source": [
    "#but this is easier to read cause you can count nulls\n",
    "countries_df.isnull().sum()"
   ]
  },
  {
   "cell_type": "code",
   "execution_count": null,
   "id": "210718f8-ff80-4ddc-8f26-ff22c0c42708",
   "metadata": {},
   "outputs": [],
   "source": [
    "#btw - this is ... Boolean Indexing :) so don't forget the sum\n",
    "countries_df.isnull()"
   ]
  },
  {
   "cell_type": "code",
   "execution_count": null,
   "id": "f2eebae5-8053-4267-bc6b-2b6d4a28ea3a",
   "metadata": {
    "scrolled": true
   },
   "outputs": [],
   "source": [
    "#get key descriptive stats - will be useful for ML!\n",
    "countries_df.describe()"
   ]
  },
  {
   "cell_type": "code",
   "execution_count": null,
   "id": "d0b869eb-fb99-4a70-a0b1-4a1ae083cb4b",
   "metadata": {},
   "outputs": [],
   "source": [
    "countries_df.head()"
   ]
  },
  {
   "cell_type": "code",
   "execution_count": null,
   "id": "74d68025-5405-4c78-aacd-445cb0fd6fa9",
   "metadata": {},
   "outputs": [],
   "source": [
    "countries_df.tail(10)"
   ]
  },
  {
   "cell_type": "markdown",
   "id": "55c8277f-4caf-45c5-84dc-21a1fac3805d",
   "metadata": {},
   "source": [
    "**Reading columns**"
   ]
  },
  {
   "cell_type": "code",
   "execution_count": null,
   "id": "01f6dc0b-243e-44ac-a335-e0dd45e41251",
   "metadata": {
    "scrolled": true
   },
   "outputs": [],
   "source": [
    "#This is a Series ... it's harder to read...a nd one dimensional\n",
    "display(type(countries_df['Country']))\n",
    "countries_df['Country']"
   ]
  },
  {
   "cell_type": "code",
   "execution_count": null,
   "id": "8cd01ed8-5a50-45ce-97bc-733ec2fee6d1",
   "metadata": {},
   "outputs": [],
   "source": [
    "#this is a Dataframe ... we put double brackets! and it's easier to read :)\n",
    "display(type(countries_df[['Country']]))\n",
    "countries_df[['Country', 'Region']]\n",
    "#I am listing the columns I need inside the brackets as a list"
   ]
  },
  {
   "cell_type": "code",
   "execution_count": null,
   "id": "dbacfda6-f06b-41b8-9840-1f07fe2f0e0c",
   "metadata": {},
   "outputs": [],
   "source": [
    "#For selecting specific rows ... note: 15 included\n",
    "countries_df.loc[10:15,['Country', 'Region']]"
   ]
  },
  {
   "cell_type": "code",
   "execution_count": null,
   "id": "3e4ec1b4-ed10-4689-a692-8a9316bd5da8",
   "metadata": {
    "scrolled": true
   },
   "outputs": [],
   "source": [
    "#remember it starts from 0, not 1\n",
    "countries_df.loc[0:5,['Country', 'Region']]"
   ]
  },
  {
   "cell_type": "code",
   "execution_count": null,
   "id": "68c7dea7-e36a-44b8-91de-d616a261fbb3",
   "metadata": {},
   "outputs": [],
   "source": [
    "#Note - if you put =, you'd be replacing te selected rowns with the value you assign"
   ]
  },
  {
   "cell_type": "code",
   "execution_count": null,
   "id": "d1adbd46-5a69-42d8-aa47-117c00f206ce",
   "metadata": {},
   "outputs": [],
   "source": [
    "countries_df.iloc[10:15,0:2]"
   ]
  },
  {
   "cell_type": "markdown",
   "id": "1c1ba483-4c3f-49b7-b8fb-fdb5f8c17dcd",
   "metadata": {},
   "source": [
    "**Countries with more than a billion people**"
   ]
  },
  {
   "cell_type": "code",
   "execution_count": null,
   "id": "dc654cf4-a9a7-4ae6-bb6a-b8119779d68b",
   "metadata": {},
   "outputs": [],
   "source": [
    "condition = countries_df['Population'] > 1_000_000_000\n",
    "condition"
   ]
  },
  {
   "cell_type": "code",
   "execution_count": null,
   "id": "1faa0530-8af6-4acc-a2df-0c44d86983f0",
   "metadata": {
    "scrolled": true
   },
   "outputs": [],
   "source": [
    "countries_df[countries_df['Population'] > 1_000_000_000]\n",
    "# countries_df[condition]\n"
   ]
  },
  {
   "cell_type": "markdown",
   "id": "8b052706-45ed-4cf2-9d61-74e479ed5711",
   "metadata": {},
   "source": [
    "**Countries in the Americas**"
   ]
  },
  {
   "cell_type": "code",
   "execution_count": null,
   "id": "82f19af3-b279-46bc-bddf-49400754c5e4",
   "metadata": {},
   "outputs": [],
   "source": [
    "countries_df.head(20)\n",
    "#I can see a pattern: they have \"AMER\" in the Region column"
   ]
  },
  {
   "cell_type": "code",
   "execution_count": null,
   "id": "b1bc3e02-cd20-4b6b-8117-0009f025ff30",
   "metadata": {},
   "outputs": [],
   "source": [
    "#even better and for confirmation ...\n",
    "countries_df['Region'].unique()\n",
    "#notice there is a lot of empty spaces!"
   ]
  },
  {
   "cell_type": "code",
   "execution_count": null,
   "id": "e886de60-18f4-45d8-a753-58bfb571cc6f",
   "metadata": {},
   "outputs": [],
   "source": [
    "# then I create a condition\n",
    "american = countries_df['Region'].str.contains('AMER')\n",
    "# if you want to combine, use & and | as or"
   ]
  },
  {
   "cell_type": "code",
   "execution_count": null,
   "id": "32380cd7-3b04-477d-a44c-9b0d948f4db5",
   "metadata": {},
   "outputs": [],
   "source": [
    "#and apply it\n",
    "countries_df[american]"
   ]
  },
  {
   "cell_type": "markdown",
   "id": "7494693e-f161-482d-b5cc-daae12b9a0af",
   "metadata": {
    "execution": {
     "iopub.execute_input": "2025-04-21T10:24:23.366228Z",
     "iopub.status.busy": "2025-04-21T10:24:23.365088Z",
     "iopub.status.idle": "2025-04-21T10:24:23.375453Z",
     "shell.execute_reply": "2025-04-21T10:24:23.373561Z",
     "shell.execute_reply.started": "2025-04-21T10:24:23.366178Z"
    }
   },
   "source": [
    "**European Countries**"
   ]
  },
  {
   "cell_type": "code",
   "execution_count": null,
   "id": "4c57089d-fa6f-46da-8bf5-caef71c13512",
   "metadata": {},
   "outputs": [],
   "source": [
    "countries_df[countries_df['Region'].isin(['WESTERN EUROPE', 'EASTERN EUROPE'])]\n",
    "#this looks for exact match! but the colummns names aren't clean ...."
   ]
  },
  {
   "cell_type": "code",
   "execution_count": null,
   "id": "be1b5d5a-e99d-47e4-9230-f14410eb422c",
   "metadata": {},
   "outputs": [],
   "source": [
    "countries_df['Region'].unique()\n",
    "#theres a lot of empty spaces...needs stripping!"
   ]
  },
  {
   "cell_type": "code",
   "execution_count": null,
   "id": "e0c46afd-109c-47a8-899d-c514c2d8a2c9",
   "metadata": {},
   "outputs": [],
   "source": [
    "countries_df['Region'] = countries_df['Region'].str.strip()"
   ]
  },
  {
   "cell_type": "code",
   "execution_count": null,
   "id": "49fff544-af96-4cd9-abd5-e02582fc6a10",
   "metadata": {},
   "outputs": [],
   "source": [
    "#Alternative function but slower\n",
    "# .map goes to each cell, strips it. resulting values are replacing the ones in the df column\n",
    "countries_df['Country'] = countries_df['Country'].map(str.strip)"
   ]
  },
  {
   "cell_type": "code",
   "execution_count": null,
   "id": "59c3fd5a-77d1-4a08-92cc-3fd9866c28ff",
   "metadata": {},
   "outputs": [],
   "source": [
    "countries_df[countries_df['Region'].isin(['WESTERN EUROPE', 'EASTERN EUROPE'])]"
   ]
  },
  {
   "cell_type": "code",
   "execution_count": null,
   "id": "6eb6f0dd-c8da-4303-81df-fa54365aeef6",
   "metadata": {},
   "outputs": [],
   "source": [
    "countries_df['Region'].unique()"
   ]
  },
  {
   "cell_type": "markdown",
   "id": "950b37eb-bd07-4925-b744-a872a6e9498f",
   "metadata": {},
   "source": [
    "## Reindexing your DataFrame"
   ]
  },
  {
   "cell_type": "code",
   "execution_count": null,
   "id": "70195e7c-7610-4f1f-91b6-0be981e1a5e0",
   "metadata": {},
   "outputs": [],
   "source": [
    "#I am replacing the default index with the county names\n",
    "#! inplace = true permanently replace the previous index\n",
    "countries_df.set_index('Country',inplace=True)"
   ]
  },
  {
   "cell_type": "code",
   "execution_count": null,
   "id": "bfc4d34d-3efb-49e8-8896-f2946e508b72",
   "metadata": {},
   "outputs": [],
   "source": [
    "# compare with new_df\n",
    "countries_df.head()"
   ]
  },
  {
   "cell_type": "code",
   "execution_count": null,
   "id": "99428d73-5053-4df5-9ea9-925298fec859",
   "metadata": {},
   "outputs": [],
   "source": [
    "#Done! so now, thanks to reindexing with country names, I can use .loc by referencing label names to filter\n",
    "countries_df.loc['France':'Germany', ['Region', 'Population']]"
   ]
  },
  {
   "cell_type": "markdown",
   "id": "f74dc64d-09f4-4c4f-95d9-9ef947c9786e",
   "metadata": {},
   "source": [
    "## Sorting"
   ]
  },
  {
   "cell_type": "code",
   "execution_count": null,
   "id": "73d28a76-9787-4a00-9e7a-a7a3f27e9e28",
   "metadata": {},
   "outputs": [],
   "source": [
    "#Note: this is JUST a display\n",
    "countries_df.sort_index(ascending=False)\n",
    "#If I wanted to replace it in countries_df\n",
    "#countries_df.sort_index(ascending=False, inplace=True)"
   ]
  },
  {
   "cell_type": "code",
   "execution_count": null,
   "id": "55c21fa5-b813-4943-810e-3368baffbefd",
   "metadata": {},
   "outputs": [],
   "source": [
    "#We can also sort by values\n",
    "countries_df.sort_values('Population',ascending=False).head(5)\n",
    "#Note: you could also sort by several values\n",
    "#countries_df.sort_values(by=['Population','Region'],ascending=(False,True)).head(5)"
   ]
  },
  {
   "cell_type": "code",
   "execution_count": null,
   "id": "e716c513-f68d-46dc-9e48-add1ec8fad24",
   "metadata": {},
   "outputs": [],
   "source": [
    "countries_df.sort_values(by='GDP ($ per capita)', na_position='first').head(5)\n",
    "#na position puts the results with na first"
   ]
  },
  {
   "cell_type": "markdown",
   "id": "b63415e6-ca3e-4ade-b142-0e2208135422",
   "metadata": {},
   "source": [
    "## Group By"
   ]
  },
  {
   "cell_type": "code",
   "execution_count": null,
   "id": "b94e1bb4-260b-4386-b7a1-d873a4d32597",
   "metadata": {},
   "outputs": [],
   "source": [
    "regions = countries_df.groupby('Region')\n",
    "#this is not giving me what I need yet :)"
   ]
  },
  {
   "cell_type": "code",
   "execution_count": null,
   "id": "89920238-978f-4c66-8231-cc8f8db0618f",
   "metadata": {},
   "outputs": [],
   "source": [
    "regions[['Population']].sum()"
   ]
  },
  {
   "cell_type": "code",
   "execution_count": null,
   "id": "65e8b2fb-c03b-4b22-a7c4-ef2ad384c593",
   "metadata": {},
   "outputs": [],
   "source": [
    "countries_df.groupby('Region')[['Population', 'Area (sq. mi.)']].sum().sort_values('Population', ascending=False)"
   ]
  },
  {
   "cell_type": "raw",
   "id": "c8c2c7d9-f316-4f2b-95da-cbaba30a2aec",
   "metadata": {},
   "source": []
  },
  {
   "cell_type": "markdown",
   "id": "87aa722e-cc34-4fe6-b89f-48ceb88fbd17",
   "metadata": {},
   "source": [
    "## Plotting"
   ]
  },
  {
   "cell_type": "code",
   "execution_count": null,
   "id": "e27d709c-08ad-488b-99a4-80c5f36616ae",
   "metadata": {},
   "outputs": [],
   "source": [
    "# little taste!\n",
    "%matplotlib inline\n",
    "import matplotlib"
   ]
  },
  {
   "cell_type": "code",
   "execution_count": null,
   "id": "bd1e0ae6-8b08-4885-87fe-1169ff5d79b7",
   "metadata": {},
   "outputs": [],
   "source": [
    "top_10_countries = countries_df[['GDP ($ per capita)']].sort_values('GDP ($ per capita)',ascending=False).head(10)\n",
    "\n",
    "top_10_countries"
   ]
  },
  {
   "cell_type": "code",
   "execution_count": null,
   "id": "c8b09737-7548-42a8-a93f-c70adfbbb610",
   "metadata": {},
   "outputs": [],
   "source": [
    "top_10_countries.plot(kind='bar');"
   ]
  },
  {
   "cell_type": "code",
   "execution_count": null,
   "id": "d9e0de6a-d944-4f26-ac8b-ada0af161ca7",
   "metadata": {},
   "outputs": [],
   "source": []
  }
 ],
 "metadata": {
  "kernelspec": {
   "display_name": "Python 3 (ipykernel)",
   "language": "python",
   "name": "python3"
  },
  "language_info": {
   "codemirror_mode": {
    "name": "ipython",
    "version": 3
   },
   "file_extension": ".py",
   "mimetype": "text/x-python",
   "name": "python",
   "nbconvert_exporter": "python",
   "pygments_lexer": "ipython3",
   "version": "3.10.6"
  }
 },
 "nbformat": 4,
 "nbformat_minor": 5
}
